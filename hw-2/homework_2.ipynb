{
 "cells": [
  {
   "cell_type": "markdown",
   "metadata": {},
   "source": [
    "# <center> Homework 2 </center>"
   ]
  },
  {
   "cell_type": "code",
   "execution_count": null,
   "metadata": {},
   "outputs": [],
   "source": [
    "# autoreload позволяет нам подгружать изменения во внешнем коде\n",
    "# без необходимости перезагружать kernel у ноутбука\n",
    "%load_ext autoreload\n",
    "%autoreload 2"
   ]
  },
  {
   "cell_type": "markdown",
   "metadata": {},
   "source": [
    "## 1) Exceptions\n",
    "В модуле `exceptions` объявите следующие исключения:\n",
    "- LowFuelError\n",
    "- NotEnoughFuel\n",
    "- CargoOverload"
   ]
  },
  {
   "cell_type": "code",
   "execution_count": null,
   "metadata": {},
   "outputs": [],
   "source": [
    "#weight - масса\n",
    "#started - начал\n",
    "#fuel - топливо\n",
    "#fuel consumption - потребление топлива\n",
    "#LowFuelError - ошибка низкого уровня топлива (для старта)\n",
    "#NotEnoughFuel - Недостаточно топлива (для преодаления дистанции)\n",
    "#CargoOverload - Перегрузка груза"
   ]
  },
  {
   "cell_type": "code",
   "execution_count": null,
   "metadata": {},
   "outputs": [],
   "source": [
    "import exceptions\n",
    "\n",
    "class LowFuelError(Exception):\n",
    "    \"\"\"ошибка низкого уровня топлива (для старта)\"\"\"\n",
    "\n",
    "class NotEnoughFuel(Exception):\n",
    "    \"\"\"Недостаточно топлива (для преодаления дистанции)\"\"\"\n",
    "        \n",
    "class CargoOverload(Exception):\n",
    "    \"\"\"Перегрузка груза\"\"\""
   ]
  },
  {
   "cell_type": "markdown",
   "metadata": {},
   "source": [
    "## 2) Vehicle \n",
    "\n",
    "<img src=\"https://cs.pikabu.ru/images/big_size_comm/2013-12_4/13874526438897.jpg\" width=300>\n",
    "\n",
    "Доработайте базовый класс `Vehicle`:\n",
    "- добавьте атрибуты `weight`, `started`, `fuel`, `fuel_consumption` со значениями по умолчанию\n",
    "- добавьте инициализатор для установки `weight`, `fuel`, `fuel_consumption`\n",
    "- добавьте метод `start`, который, если ещё не состояние `started`, проверяет, что топлива больше нуля, \n",
    "  и обновляет состояние `started`, иначе выкидывает исключение `exceptions.LowFuelError`\n",
    "- добавьте метод `move`, который проверяет, \n",
    "  что достаточно топлива для преодоления переданной дистанции, \n",
    "  и изменяет количество оставшегося топлива, иначе выкидывает исключение `exceptions.NotEnoughFuel`"
   ]
  },
  {
   "cell_type": "code",
   "execution_count": null,
   "metadata": {},
   "outputs": [],
   "source": [
    "from abc import ABC\n",
    "\n",
    "class Vehicle(ABC):\n",
    "    weight = 1000  # масса\n",
    "    started = False  # состояние started, False = not started or True = started\n",
    "    fuel = 100  # топливо\n",
    "    fuel_consumption = 10  # потребление топлива\n",
    "\n",
    "    def __init__(self, name, weight=weight, fuel=fuel, fuel_consumption=fuel_consumption):\n",
    "        \"\"\"Инициализатор\"\"\"\n",
    "        self.name = name\n",
    "        self.weight = weight\n",
    "        self.fuel = fuel\n",
    "        self.fuel_consumption = fuel_consumption\n",
    "\n",
    "    def __str__(self):\n",
    "        \"\"\"Вывод в print\"\"\"\n",
    "        return f'{self.name} -> {self.started, self.weight, self.fuel, self.fuel_consumption}'\n",
    "\n",
    "    def start(self):\n",
    "        \"\"\"Метод start\"\"\"\n",
    "        if self.started == False:\n",
    "            if self.fuel > 0:\n",
    "                self.started = True\n",
    "            else:\n",
    "                raise exceptions.LowFuelError('ошибка низкого уровня топлива (для старта)')\n",
    "        return self.name, self.started\n",
    "\n",
    "    def move(self):\n",
    "        \"\"\"Метод move\"\"\"\n",
    "        move_fuel = self.fuel - self.fuel_consumption\n",
    "        if move_fuel >= 0:\n",
    "            self.fuel = move_fuel\n",
    "        else:\n",
    "            raise exceptions.NotEnoughFuel('Недостаточно топлива (для преодаления дистанции)')\n",
    "        return self.name, self.fuel\n"
   ]
  },
  {
   "cell_type": "markdown",
   "metadata": {},
   "source": [
    "## test. Создание экземпляров класса Vehicle"
   ]
  },
  {
   "cell_type": "code",
   "execution_count": null,
   "metadata": {},
   "outputs": [],
   "source": [
    "import Vehicle\n",
    "\n",
    "print('test-1. Создание экземпляров')\n",
    "veh1 = Vehicle.Vehicle('Veh1')\n",
    "print(veh1)\n",
    "veh2 = Vehicle.Vehicle('Veh2', 5000, 0, 17)\n",
    "print(veh2)\n",
    "veh3 = Vehicle.Vehicle('Veh3', 1500, 5, 10)\n",
    "print(veh3)\n",
    "veh4 = Vehicle.Vehicle('Veh4', 1200, 100, 10)\n",
    "print(veh4)"
   ]
  },
  {
   "cell_type": "markdown",
   "metadata": {},
   "source": [
    "## test. Теструю метод start"
   ]
  },
  {
   "cell_type": "code",
   "execution_count": null,
   "metadata": {},
   "outputs": [],
   "source": [
    "import exceptions\n",
    "from test_V_creat import veh1, veh2, veh3, veh4 \n",
    "\n",
    "print('test-2. Метод start')\n",
    "try:\n",
    "    veh1.start()\n",
    "except exceptions.LowFuelError as LFE:\n",
    "    print(f'{veh1} - {LFE}')\n",
    "else:\n",
    "    print(f'{veh1}')\n",
    "\n",
    "try:\n",
    "    veh2.start()\n",
    "except exceptions.LowFuelError as LFE:\n",
    "    print(f'{veh2} - {LFE}')\n",
    "else:\n",
    "    print(f'{veh2}')\n",
    "\n",
    "try:\n",
    "    veh3.start()\n",
    "except exceptions.LowFuelError as LFE:\n",
    "    print(f'{veh3} - {LFE}')\n",
    "else:\n",
    "    print(f'{veh3}')\n",
    "\n",
    "try:\n",
    "    veh4.start()\n",
    "except exceptions.LowFuelError as LFE:\n",
    "    print(f'{veh4} - {LFE}')\n",
    "else:\n",
    "    print(f'{veh4}')\n"
   ]
  },
  {
   "cell_type": "markdown",
   "metadata": {},
   "source": [
    "## test. Теструю метод move"
   ]
  },
  {
   "cell_type": "code",
   "execution_count": null,
   "metadata": {},
   "outputs": [],
   "source": [
    "import exceptions\n",
    "from test_V_creat import veh1, veh2, veh3, veh4\n",
    "\n",
    "print('test-3. Метод move')\n",
    "try:\n",
    "    veh1.move()\n",
    "except exceptions.NotEnoughFuel as NEF:\n",
    "    print(f'{veh1} - {NEF}')\n",
    "else:\n",
    "    print(f'{veh1}')\n",
    "\n",
    "try:\n",
    "    veh2.move()\n",
    "except exceptions.NotEnoughFuel as NEF:\n",
    "    print(f'{veh2} - {NEF}')\n",
    "else:\n",
    "    print(f'{veh2}')\n",
    "\n",
    "try:\n",
    "    veh3.move()\n",
    "except exceptions.NotEnoughFuel as NEF:\n",
    "    print(f'{veh3} - {NEF}')\n",
    "else:\n",
    "    print(f'{veh3}')\n",
    "\n",
    "for _ in range(11):\n",
    "    try:\n",
    "        veh4.move()\n",
    "    except exceptions.NotEnoughFuel as NEF:\n",
    "        print(f'{veh4} - {NEF}')\n",
    "    else:\n",
    "        print(f'{veh4}')\n"
   ]
  },
  {
   "cell_type": "markdown",
   "metadata": {},
   "source": [
    "## 3) Engine \n",
    "\n",
    "<img src=\"https://upload.wikimedia.org/wikipedia/commons/6/6f/National_gas_engine_%28Rankin_Kennedy%2C_Modern_Engines%2C_Vol_II%29.jpg\" width=250>\n",
    "\n",
    "Создайте датакласс `Engine`, добавьте атрибуты `volume` и `pistons`"
   ]
  },
  {
   "cell_type": "code",
   "execution_count": null,
   "metadata": {},
   "outputs": [],
   "source": [
    "\"\"\"\n",
    "create dataclass `Engine`\n",
    "\"\"\"\n",
    "\n",
    "\"\"\"Создайте датакласс Engine, добавьте атрибуты volume и pistons\"\"\"\n",
    "\n",
    "from dataclasses import dataclass\n",
    "\n",
    "@dataclass\n",
    "class Engine:\n",
    "    volume: float = 5.  # Объем двигателя\n",
    "    pistons: str = '4T4R'  # Вид поршня, например, 4-ех тактный 4-ех рядный\n",
    "\n",
    "    def __init__(self, volume=volume, pistons=pistons):\n",
    "        self.volume = volume\n",
    "        self.pistons = pistons\n"
   ]
  },
  {
   "cell_type": "markdown",
   "metadata": {},
   "source": [
    "## 4) Car \n",
    "\n",
    "<img src=\"https://lh3.googleusercontent.com/proxy/RJqzSJqZFQrx7xOXimZQ4ooInGE6ViJdwz7JZZ_b__Eun-stRH2NMw47fM4je2hL1afRtmpKS9kZUVY0p2YcaZVtJ7bKRw3wWHRRa6zVUbeIb5TYLNkwx5A\" width=250>\n",
    "\n",
    "Cоздайте класс `Car`\n",
    "    - класс `Car` должен быть наследником `Vehicle`\n",
    "    - добавьте атрибут `engine` классу `Car`\n",
    "    - объявите метод `set_engine`, который принимает в себя экземпляр объекта `Engine` и устанавливает на текущий экземпляр `Car`"
   ]
  },
  {
   "cell_type": "code",
   "execution_count": null,
   "metadata": {},
   "outputs": [],
   "source": [
    "\"\"\"\n",
    "создайте класс `Car`, наследник `Vehicle`\n",
    "\"\"\"\n",
    "\n",
    "\"\"\"Cоздайте класс Car - класс Car должен быть наследником Vehicle -\n",
    "добавьте атрибут engine классу Car - объявите метод set_engine, который принимает\n",
    "в себя экземпляр объекта Engine и устанавливает на текущий экземпляр Car\"\"\"\n",
    "\n",
    "import Vehicle\n",
    "import Engine\n",
    "\n",
    "\n",
    "class Car(Vehicle.Vehicle):\n",
    "    engine = None\n",
    "\n",
    "\n",
    "    def __str__(self):\n",
    "        \"\"\"Вывод в print, к выводу Vehicle добавлен атрибут engine\"\"\"\n",
    "        return f'{self.name} -> {self.started, self.weight, self.fuel, self.fuel_consumption},' \\\n",
    "               f' {self.engine}'\n",
    "\n",
    "    def set_engine(self, engine: Engine.Engine):\n",
    "        self.engine = engine\n"
   ]
  },
  {
   "cell_type": "markdown",
   "metadata": {},
   "source": [
    "## test car, engine"
   ]
  },
  {
   "cell_type": "code",
   "execution_count": null,
   "metadata": {},
   "outputs": [],
   "source": [
    "import Car\n",
    "import Engine\n",
    "\n",
    "print('test-4. Car')\n",
    "car1 = Car.Car('Car1')\n",
    "eng1 = Engine.Engine(10, \"TTTT\")\n",
    "car1.set_engine(eng1)\n",
    "print(car1)\n"
   ]
  },
  {
   "cell_type": "markdown",
   "metadata": {},
   "source": [
    "## 5) Plane\n",
    "\n",
    "<img src=\"http://www.weirduniverse.net/images/2017/1934parachute02.jpg\" width=250>\n",
    "\n",
    "Создайте класс `Plane`\n",
    "- класс `Plane` должен быть наследником `Vehicle`\n",
    "- добавьте атрибуты `cargo` и `max_cargo` классу `Plane`\n",
    "- добавьте `max_cargo` в инициализатор (переопределите родительский)\n",
    "- объявите метод `load_cargo`, который принимает число, проверяет, что в сумме с текущим `cargo` не будет перегруза, и обновляет значение, в ином случае выкидывает исключение `exceptions.CargoOverload`\n",
    "- объявите метод `remove_all_cargo`, который обнуляет значение `cargo` и возвращает значение `cargo`, которое было до обнуления"
   ]
  },
  {
   "cell_type": "code",
   "execution_count": null,
   "metadata": {},
   "outputs": [],
   "source": [
    "\"\"\"\n",
    "создайте класс `Plane`, наследник `Vehicle`\n",
    "\"\"\"\n",
    "\"\"\"Создайте класс Plane\n",
    "\n",
    "класс Plane должен быть наследником Vehicle\n",
    "добавьте атрибуты cargo и max_cargo классу Plane\n",
    "добавьте max_cargo в инициализатор (переопределите родительский)\n",
    "объявите метод load_cargo, который принимает число, проверяет,\n",
    "что в сумме с текущим cargo не будет перегруза, и обновляет значение, в ином случае\n",
    "выкидывает исключение exceptions.CargoOverload\n",
    "объявите метод remove_all_cargo, который обнуляет значение cargo и возвращает\n",
    "значение cargo, которое было до обнуления\n",
    "\"\"\"\n",
    "\n",
    "import Vehicle\n",
    "import exceptions\n",
    "\n",
    "class Plane(Vehicle.Vehicle):\n",
    "    cargo = 0     #\"груз\"\n",
    "    max_cargo = 10\n",
    "\n",
    "    def __init__(self, name, weight=Vehicle.Vehicle.weight, fuel=Vehicle.Vehicle.fuel,\n",
    "                 fuel_consumption=Vehicle.Vehicle.fuel_consumption, cargo=cargo, max_cargo=None):\n",
    "        super().__init__(name, weight, fuel, fuel_consumption)\n",
    "        self.cargo = cargo\n",
    "        self.max_cargo = max_cargo\n",
    "\n",
    "\n",
    "    def load_cargo(self, load_cargo):\n",
    "        cargo_tmp = self.cargo + load_cargo\n",
    "        if cargo_tmp <= self.max_cargo:\n",
    "            self.cargo = cargo_tmp\n",
    "        else: raise exceptions.CargoOverload('Перегрузка груза')\n",
    "\n",
    "    def remove_all_cargo(self):\n",
    "        cargo_tmp = self.cargo\n",
    "        self.cargo = 0\n",
    "        print('обнулен cargo')\n",
    "        self.cargo = cargo_tmp\n",
    "        print('возвращано значение cargo')\n"
   ]
  },
  {
   "cell_type": "markdown",
   "metadata": {},
   "source": [
    "## test. Plane"
   ]
  },
  {
   "cell_type": "code",
   "execution_count": 1,
   "metadata": {},
   "outputs": [
    {
     "name": "stdout",
     "output_type": "stream",
     "text": [
      "10\n",
      "10\n",
      "Перегрузка груза\n",
      "10\n",
      "обнулен cargo\n",
      "возвращано значение cargo\n",
      "10\n",
      "10\n",
      "10\n",
      "Перегрузка груза\n",
      "10\n",
      "обнулен cargo\n",
      "возвращано значение cargo\n",
      "10\n"
     ]
    }
   ],
   "source": [
    "import Plane\n",
    "import exceptions\n",
    "\n",
    "plane1 = Plane.Plane('pln1', max_cargo=10)\n",
    "try:\n",
    "    plane1.load_cargo(5)\n",
    "except exceptions.CargoOverload as COL:\n",
    "    print(COL)\n",
    "try:\n",
    "    for _ in range(5):\n",
    "        plane1.load_cargo(5)\n",
    "        print(plane1.cargo)\n",
    "        print(plane1.max_cargo)\n",
    "except exceptions.CargoOverload as COL:\n",
    "    print(COL)\n",
    "\n",
    "print(plane1.cargo)\n",
    "\n",
    "plane1.remove_all_cargo()\n",
    "\n",
    "print(plane1.cargo)"
   ]
  }
 ],
 "metadata": {
  "kernelspec": {
   "display_name": "Python 3 (ipykernel)",
   "language": "python",
   "name": "python3"
  },
  "language_info": {
   "codemirror_mode": {
    "name": "ipython",
    "version": 3
   },
   "file_extension": ".py",
   "mimetype": "text/x-python",
   "name": "python",
   "nbconvert_exporter": "python",
   "pygments_lexer": "ipython3",
   "version": "3.9.12"
  },
  "varInspector": {
   "cols": {
    "lenName": 16,
    "lenType": 16,
    "lenVar": 40
   },
   "kernels_config": {
    "python": {
     "delete_cmd_postfix": "",
     "delete_cmd_prefix": "del ",
     "library": "var_list.py",
     "varRefreshCmd": "print(var_dic_list())"
    },
    "r": {
     "delete_cmd_postfix": ") ",
     "delete_cmd_prefix": "rm(",
     "library": "var_list.r",
     "varRefreshCmd": "cat(var_dic_list()) "
    }
   },
   "types_to_exclude": [
    "module",
    "function",
    "builtin_function_or_method",
    "instance",
    "_Feature"
   ],
   "window_display": false
  }
 },
 "nbformat": 4,
 "nbformat_minor": 2
}

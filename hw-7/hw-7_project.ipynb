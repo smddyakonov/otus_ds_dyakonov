{
 "cells": [
  {
   "cell_type": "markdown",
   "id": "1c0703c7",
   "metadata": {},
   "source": [
    "# Проект по курсу DS-prof-2022-08 OTUS на тему\n",
    "\n",
    "## Прогнозирование вероятности наступления целевого события на трубопроводах ресурсоснабжающий организации"
   ]
  },
  {
   "cell_type": "markdown",
   "id": "263eb56b",
   "metadata": {},
   "source": [
    "# План проекта\n",
    "1. Подготовить данные для EDA\n",
    "2. Провести EDA\n",
    "3. По результатам EDA провести дополнительные преобразования\n",
    "4. Моделирование\n",
    "5. Обработка результатов\n",
    "6. Вывод"
   ]
  },
  {
   "cell_type": "markdown",
   "id": "74b97fc4",
   "metadata": {},
   "source": [
    "# Импорты"
   ]
  },
  {
   "cell_type": "code",
   "execution_count": 1,
   "id": "4f547080",
   "metadata": {},
   "outputs": [
    {
     "name": "stderr",
     "output_type": "stream",
     "text": [
      "C:\\Users\\smndy\\anaconda3\\lib\\site-packages\\xgboost\\compat.py:36: FutureWarning: pandas.Int64Index is deprecated and will be removed from pandas in a future version. Use pandas.Index with the appropriate dtype instead.\n",
      "  from pandas import MultiIndex, Int64Index\n"
     ]
    }
   ],
   "source": [
    "import os\n",
    "import glob\n",
    "import pathlib\n",
    "from pathlib import Path\n",
    "\n",
    "import scipy.stats as stats\n",
    "import pandas as pd\n",
    "import numpy as np\n",
    "import matplotlib.pyplot as plt\n",
    "import seaborn as sns\n",
    "\n",
    "import phik\n",
    "\n",
    "from sklearn.preprocessing import LabelEncoder\n",
    "from sklearn.model_selection import train_test_split\n",
    "from sklearn.preprocessing import MinMaxScaler\n",
    "from sklearn.model_selection import RandomizedSearchCV\n",
    "from sklearn.metrics import accuracy_score, precision_score, recall_score, f1_score, roc_auc_score\n",
    "\n",
    "import catboost\n",
    "from catboost import CatBoostClassifier\n",
    "#from catboost import Pool"
   ]
  },
  {
   "cell_type": "markdown",
   "id": "aaacb774",
   "metadata": {},
   "source": [
    "# EDA. Очистка данных, подготовка дата-фрейма для моделирования"
   ]
  },
  {
   "cell_type": "markdown",
   "id": "aea44602",
   "metadata": {},
   "source": [
    "## Подгтовка к EDA"
   ]
  },
  {
   "cell_type": "code",
   "execution_count": 2,
   "id": "84785a73",
   "metadata": {},
   "outputs": [],
   "source": [
    "#каталог с дата-фреймами\n",
    "dir_tabl = r'C:\\Users\\smndy\\Documents\\skillfactory\\OTUS DS\\Проект\\data'"
   ]
  },
  {
   "cell_type": "code",
   "execution_count": 3,
   "id": "9ec989e4",
   "metadata": {},
   "outputs": [],
   "source": [
    "#функция для получения имен листов\n",
    "def get_name_sheets_excel(dir_tabl, file_xlsx):\n",
    "    path_file_xlsx_open = Path(dir_tabl, file_xlsx)\n",
    "    xls = pd.ExcelFile(path_file_xlsx_open)\n",
    "    name_sheets_excel = xls.sheet_names\n",
    "    return print(name_sheets_excel)\n",
    "\n",
    "#функция записи ексель таблицы в дата-фрейм\n",
    "def open_name_sheets_excel(dir_tabl, file_xlsx, name_sheets):\n",
    "    path_file_xlsx_open = Path(dir_tabl, file_xlsx)\n",
    "    xls = pd.ExcelFile(path_file_xlsx_open)\n",
    "    data = xls.parse('Sheet1')\n",
    "    return data"
   ]
  },
  {
   "cell_type": "code",
   "execution_count": 4,
   "id": "3baee912",
   "metadata": {},
   "outputs": [
    {
     "name": "stdout",
     "output_type": "stream",
     "text": [
      "['Sheet1']\n"
     ]
    }
   ],
   "source": [
    "file_xlsx = r'df_seti.xlsx'\n",
    "get_name_sheets_excel(dir_tabl = dir_tabl, file_xlsx = file_xlsx)"
   ]
  },
  {
   "cell_type": "code",
   "execution_count": 5,
   "id": "a132fa2d",
   "metadata": {},
   "outputs": [],
   "source": [
    "data = open_name_sheets_excel(dir_tabl = dir_tabl, file_xlsx = file_xlsx,  name_sheets = 'Sheet1')\n",
    "df_seti = data.copy()"
   ]
  },
  {
   "cell_type": "code",
   "execution_count": 6,
   "id": "0ac465a8",
   "metadata": {},
   "outputs": [
    {
     "data": {
      "text/html": [
       "<div><div id=0aac842b-e909-493d-809f-cd87faf7818a style=\"display:none; background-color:#9D6CFF; color:white; width:200px; height:30px; padding-left:5px; border-radius:4px; flex-direction:row; justify-content:space-around; align-items:center;\" onmouseover=\"this.style.backgroundColor='#BA9BF8'\" onmouseout=\"this.style.backgroundColor='#9D6CFF'\" onclick=\"window.commands?.execute('create-mitosheet-from-dataframe-output');\">See Full Dataframe in Mito</div> <script> if (window.commands?.hasCommand('create-mitosheet-from-dataframe-output')) document.getElementById('0aac842b-e909-493d-809f-cd87faf7818a').style.display = 'flex' </script> <table border=\"1\" class=\"dataframe\">\n",
       "  <thead>\n",
       "    <tr style=\"text-align: right;\">\n",
       "      <th></th>\n",
       "      <th>Unnamed: 0</th>\n",
       "      <th>Код</th>\n",
       "      <th>Инвентарный номер</th>\n",
       "      <th>Наименование</th>\n",
       "      <th>Наименование вида объекта</th>\n",
       "      <th>Наименование района</th>\n",
       "      <th>Наименование подразделения</th>\n",
       "      <th>Дата ввода в эксплуатацию</th>\n",
       "      <th>Наименование материала</th>\n",
       "      <th>Наименование принадлежности имущества</th>\n",
       "      <th>Длина, пог.м.</th>\n",
       "      <th>Диаметр, мм.</th>\n",
       "    </tr>\n",
       "  </thead>\n",
       "  <tbody>\n",
       "    <tr>\n",
       "      <th>0</th>\n",
       "      <td>234</td>\n",
       "      <td>03200_102_б/х</td>\n",
       "      <td>102_б/х</td>\n",
       "      <td>Сеть холодного водоснабжения от ВК-1 (сущ) у ж.д. № 8, 10 по ул. Чистопольской до ВК-2 (сущ) около ЦТП №42</td>\n",
       "      <td>Трубопровод напорный</td>\n",
       "      <td>КИРОВСКИЙ</td>\n",
       "      <td>Эксплуатационный участок цех №3</td>\n",
       "      <td>01.01.1970</td>\n",
       "      <td>чугун</td>\n",
       "      <td>На обслуживании</td>\n",
       "      <td>36.86</td>\n",
       "      <td>100.0</td>\n",
       "    </tr>\n",
       "    <tr>\n",
       "      <th>1</th>\n",
       "      <td>243</td>\n",
       "      <td>03200_100_б/х</td>\n",
       "      <td>100_б/х</td>\n",
       "      <td>Сети холодного водоснабжения по ул. Новоржевская от ул. Ардатовская до ул. Б. Хмельницкого</td>\n",
       "      <td>Трубопровод напорный</td>\n",
       "      <td>КИРОВСКИЙ</td>\n",
       "      <td>Эксплуатационный участок цех №3</td>\n",
       "      <td>01.01.1970</td>\n",
       "      <td>сталь</td>\n",
       "      <td>На обслуживании</td>\n",
       "      <td>755.00</td>\n",
       "      <td>200.0</td>\n",
       "    </tr>\n",
       "    <tr>\n",
       "      <th>2</th>\n",
       "      <td>245</td>\n",
       "      <td>03200_98_б/х</td>\n",
       "      <td>98_б/х</td>\n",
       "      <td>Автозаводская,4 ввод на ЦТП-41</td>\n",
       "      <td>Трубопровод напорный</td>\n",
       "      <td>КИРОВСКИЙ</td>\n",
       "      <td>Эксплуатационный участок цех №3</td>\n",
       "      <td>01.01.1970</td>\n",
       "      <td>чугун</td>\n",
       "      <td>На обслуживании</td>\n",
       "      <td>202.80</td>\n",
       "      <td>200.0</td>\n",
       "    </tr>\n",
       "  </tbody>\n",
       "</table></div>"
      ],
      "text/plain": [
       "   Unnamed: 0           Код  Инвентарный номер  \\\n",
       "0         234  03200_102_б/х           102_б/х   \n",
       "1         243  03200_100_б/х           100_б/х   \n",
       "2         245   03200_98_б/х            98_б/х   \n",
       "\n",
       "                                        Наименование  \\\n",
       "0  Сеть холодного водоснабжения от ВК-1 (сущ) у ж...   \n",
       "1  Сети холодного водоснабжения по ул. Новоржевск...   \n",
       "2                     Автозаводская,4 ввод на ЦТП-41   \n",
       "\n",
       "  Наименование вида объекта Наименование района  \\\n",
       "0      Трубопровод напорный           КИРОВСКИЙ   \n",
       "1      Трубопровод напорный           КИРОВСКИЙ   \n",
       "2      Трубопровод напорный           КИРОВСКИЙ   \n",
       "\n",
       "        Наименование подразделения Дата ввода в эксплуатацию  \\\n",
       "0  Эксплуатационный участок цех №3                01.01.1970   \n",
       "1  Эксплуатационный участок цех №3                01.01.1970   \n",
       "2  Эксплуатационный участок цех №3                01.01.1970   \n",
       "\n",
       "  Наименование материала Наименование принадлежности имущества  Длина, пог.м.  \\\n",
       "0                  чугун                       На обслуживании          36.86   \n",
       "1                  сталь                       На обслуживании         755.00   \n",
       "2                  чугун                       На обслуживании         202.80   \n",
       "\n",
       "   Диаметр, мм.  \n",
       "0         100.0  \n",
       "1         200.0  \n",
       "2         200.0  "
      ]
     },
     "execution_count": 6,
     "metadata": {},
     "output_type": "execute_result"
    }
   ],
   "source": [
    "df_seti.head(3)"
   ]
  },
  {
   "cell_type": "code",
   "execution_count": 7,
   "id": "19d3697d",
   "metadata": {},
   "outputs": [
    {
     "name": "stdout",
     "output_type": "stream",
     "text": [
      "<class 'pandas.core.frame.DataFrame'>\n",
      "RangeIndex: 6117 entries, 0 to 6116\n",
      "Data columns (total 12 columns):\n",
      " #   Column                                 Non-Null Count  Dtype  \n",
      "---  ------                                 --------------  -----  \n",
      " 0   Unnamed: 0                             6117 non-null   int64  \n",
      " 1   Код                                    6117 non-null   object \n",
      " 2   Инвентарный номер                      6117 non-null   object \n",
      " 3   Наименование                           6117 non-null   object \n",
      " 4   Наименование вида объекта              6117 non-null   object \n",
      " 5   Наименование района                    6117 non-null   object \n",
      " 6   Наименование подразделения             6117 non-null   object \n",
      " 7   Дата ввода в эксплуатацию              6117 non-null   object \n",
      " 8   Наименование материала                 6117 non-null   object \n",
      " 9   Наименование принадлежности имущества  6117 non-null   object \n",
      " 10  Длина, пог.м.                          6117 non-null   float64\n",
      " 11  Диаметр, мм.                           6117 non-null   float64\n",
      "dtypes: float64(2), int64(1), object(9)\n",
      "memory usage: 573.6+ KB\n"
     ]
    }
   ],
   "source": [
    "df_seti.info()"
   ]
  },
  {
   "cell_type": "code",
   "execution_count": 8,
   "id": "d40832e7",
   "metadata": {},
   "outputs": [
    {
     "data": {
      "text/plain": [
       "Index(['Unnamed: 0', 'Код ', 'Инвентарный номер', 'Наименование',\n",
       "       'Наименование вида объекта', 'Наименование района',\n",
       "       'Наименование подразделения', 'Дата ввода в эксплуатацию',\n",
       "       'Наименование материала', 'Наименование принадлежности имущества',\n",
       "       'Длина, пог.м.', 'Диаметр, мм.'],\n",
       "      dtype='object')"
      ]
     },
     "execution_count": 8,
     "metadata": {},
     "output_type": "execute_result"
    }
   ],
   "source": [
    "df_seti.columns"
   ]
  },
  {
   "cell_type": "code",
   "execution_count": 9,
   "id": "8c13267a",
   "metadata": {},
   "outputs": [
    {
     "name": "stdout",
     "output_type": "stream",
     "text": [
      "['Sheet1']\n"
     ]
    }
   ],
   "source": [
    "file_xlsx = r'df_target_sobitiya.xlsx'\n",
    "get_name_sheets_excel(dir_tabl = dir_tabl, file_xlsx = file_xlsx)"
   ]
  },
  {
   "cell_type": "code",
   "execution_count": 10,
   "id": "dbb5e2da",
   "metadata": {},
   "outputs": [],
   "source": [
    "data = open_name_sheets_excel(dir_tabl = dir_tabl, file_xlsx = file_xlsx,  name_sheets = 'Sheet1')\n",
    "df_target_sobitiya = data.copy()"
   ]
  },
  {
   "cell_type": "code",
   "execution_count": 11,
   "id": "5e3a5eab",
   "metadata": {},
   "outputs": [
    {
     "data": {
      "text/html": [
       "<div><div id=360d34f0-e6ca-425a-9162-b7ce57598dc4 style=\"display:none; background-color:#9D6CFF; color:white; width:200px; height:30px; padding-left:5px; border-radius:4px; flex-direction:row; justify-content:space-around; align-items:center;\" onmouseover=\"this.style.backgroundColor='#BA9BF8'\" onmouseout=\"this.style.backgroundColor='#9D6CFF'\" onclick=\"window.commands?.execute('create-mitosheet-from-dataframe-output');\">See Full Dataframe in Mito</div> <script> if (window.commands?.hasCommand('create-mitosheet-from-dataframe-output')) document.getElementById('360d34f0-e6ca-425a-9162-b7ce57598dc4').style.display = 'flex' </script> <table border=\"1\" class=\"dataframe\">\n",
       "  <thead>\n",
       "    <tr style=\"text-align: right;\">\n",
       "      <th></th>\n",
       "      <th>Unnamed: 0</th>\n",
       "      <th>Дата и время регистрации [заявки]</th>\n",
       "      <th>Дата и время создания [заявки]</th>\n",
       "      <th>Длительность, ч [заявки]</th>\n",
       "      <th>Номер [заявки]</th>\n",
       "      <th>Объект [заявки]</th>\n",
       "      <th>Проявление [заявки]</th>\n",
       "      <th>Тип системы [заявки]</th>\n",
       "      <th>Номер</th>\n",
       "      <th>date_time_x</th>\n",
       "      <th>...</th>\n",
       "      <th>Инвентарный номер</th>\n",
       "      <th>Наименование</th>\n",
       "      <th>Наименование вида объекта</th>\n",
       "      <th>Наименование района</th>\n",
       "      <th>Наименование подразделения</th>\n",
       "      <th>Дата ввода в эксплуатацию</th>\n",
       "      <th>Наименование материала</th>\n",
       "      <th>Наименование принадлежности имущества</th>\n",
       "      <th>Длина, пог.м.</th>\n",
       "      <th>Диаметр, мм.</th>\n",
       "    </tr>\n",
       "  </thead>\n",
       "  <tbody>\n",
       "    <tr>\n",
       "      <th>0</th>\n",
       "      <td>0</td>\n",
       "      <td>2018-03-21 00:00:00</td>\n",
       "      <td>2018-03-21 00:00:00</td>\n",
       "      <td>49.209167</td>\n",
       "      <td>226184</td>\n",
       "      <td>Сети водопровода ведомственные без объекта (04208)</td>\n",
       "      <td>Утечка из земли</td>\n",
       "      <td>Водоснабжение</td>\n",
       "      <td>226184</td>\n",
       "      <td>2018-03-21 15:00:00</td>\n",
       "      <td>...</td>\n",
       "      <td>04208_ведомственные</td>\n",
       "      <td>Сети водопровода ведомственные без объекта (04208)</td>\n",
       "      <td>Трубопровод напорный</td>\n",
       "      <td>СВЕРДЛОВСКИЙ</td>\n",
       "      <td>Свердловский  участок цех №4</td>\n",
       "      <td>01.01.1950</td>\n",
       "      <td>чугун</td>\n",
       "      <td>Ведомственное</td>\n",
       "      <td>54.98</td>\n",
       "      <td>100.0</td>\n",
       "    </tr>\n",
       "    <tr>\n",
       "      <th>1</th>\n",
       "      <td>1</td>\n",
       "      <td>2018-01-02 00:00:00</td>\n",
       "      <td>2018-01-02 00:00:00</td>\n",
       "      <td>189.864722</td>\n",
       "      <td>218618</td>\n",
       "      <td>Сети водопровода ведомственные без объекта (03200)</td>\n",
       "      <td>Утечка из земли</td>\n",
       "      <td>Водоснабжение</td>\n",
       "      <td>218618</td>\n",
       "      <td>2018-01-02 16:00:00</td>\n",
       "      <td>...</td>\n",
       "      <td>03200_ведомственные</td>\n",
       "      <td>Сети водопровода ведомственные без объекта (03200)</td>\n",
       "      <td>Трубопровод напорный</td>\n",
       "      <td>КИРОВСКИЙ</td>\n",
       "      <td>Эксплуатационный участок цех №3</td>\n",
       "      <td>01.01.1950</td>\n",
       "      <td>чугун</td>\n",
       "      <td>Ведомственное</td>\n",
       "      <td>54.98</td>\n",
       "      <td>100.0</td>\n",
       "    </tr>\n",
       "    <tr>\n",
       "      <th>2</th>\n",
       "      <td>2</td>\n",
       "      <td>2018-01-02 00:00:00</td>\n",
       "      <td>2018-01-02 00:00:00</td>\n",
       "      <td>11.211944</td>\n",
       "      <td>218631</td>\n",
       "      <td>Сети водопровода ведомственные без объекта (04208)</td>\n",
       "      <td>Утечка из земли</td>\n",
       "      <td>Водоснабжение</td>\n",
       "      <td>218631</td>\n",
       "      <td>2018-01-02 19:00:00</td>\n",
       "      <td>...</td>\n",
       "      <td>04208_ведомственные</td>\n",
       "      <td>Сети водопровода ведомственные без объекта (04208)</td>\n",
       "      <td>Трубопровод напорный</td>\n",
       "      <td>СВЕРДЛОВСКИЙ</td>\n",
       "      <td>Свердловский  участок цех №4</td>\n",
       "      <td>01.01.1950</td>\n",
       "      <td>чугун</td>\n",
       "      <td>Ведомственное</td>\n",
       "      <td>54.98</td>\n",
       "      <td>100.0</td>\n",
       "    </tr>\n",
       "  </tbody>\n",
       "</table></div>"
      ],
      "text/plain": [
       "   Unnamed: 0 Дата и время регистрации [заявки]  \\\n",
       "0           0               2018-03-21 00:00:00   \n",
       "1           1               2018-01-02 00:00:00   \n",
       "2           2               2018-01-02 00:00:00   \n",
       "\n",
       "  Дата и время создания [заявки]  Длительность, ч [заявки]  Номер [заявки]  \\\n",
       "0            2018-03-21 00:00:00                 49.209167          226184   \n",
       "1            2018-01-02 00:00:00                189.864722          218618   \n",
       "2            2018-01-02 00:00:00                 11.211944          218631   \n",
       "\n",
       "                                     Объект [заявки] Проявление [заявки]  \\\n",
       "0  Сети водопровода ведомственные без объекта (04...     Утечка из земли   \n",
       "1  Сети водопровода ведомственные без объекта (03...     Утечка из земли   \n",
       "2  Сети водопровода ведомственные без объекта (04...     Утечка из земли   \n",
       "\n",
       "  Тип системы [заявки]   Номер         date_time_x  ...    Инвентарный номер  \\\n",
       "0        Водоснабжение  226184 2018-03-21 15:00:00  ...  04208_ведомственные   \n",
       "1        Водоснабжение  218618 2018-01-02 16:00:00  ...  03200_ведомственные   \n",
       "2        Водоснабжение  218631 2018-01-02 19:00:00  ...  04208_ведомственные   \n",
       "\n",
       "                                        Наименование  \\\n",
       "0  Сети водопровода ведомственные без объекта (04...   \n",
       "1  Сети водопровода ведомственные без объекта (03...   \n",
       "2  Сети водопровода ведомственные без объекта (04...   \n",
       "\n",
       "  Наименование вида объекта  Наименование района  \\\n",
       "0      Трубопровод напорный         СВЕРДЛОВСКИЙ   \n",
       "1      Трубопровод напорный            КИРОВСКИЙ   \n",
       "2      Трубопровод напорный         СВЕРДЛОВСКИЙ   \n",
       "\n",
       "        Наименование подразделения  Дата ввода в эксплуатацию  \\\n",
       "0     Свердловский  участок цех №4                 01.01.1950   \n",
       "1  Эксплуатационный участок цех №3                 01.01.1950   \n",
       "2     Свердловский  участок цех №4                 01.01.1950   \n",
       "\n",
       "   Наименование материала Наименование принадлежности имущества Длина, пог.м.  \\\n",
       "0                   чугун                         Ведомственное         54.98   \n",
       "1                   чугун                         Ведомственное         54.98   \n",
       "2                   чугун                         Ведомственное         54.98   \n",
       "\n",
       "  Диаметр, мм.  \n",
       "0        100.0  \n",
       "1        100.0  \n",
       "2        100.0  \n",
       "\n",
       "[3 rows x 42 columns]"
      ]
     },
     "execution_count": 11,
     "metadata": {},
     "output_type": "execute_result"
    }
   ],
   "source": [
    "df_target_sobitiya.head(3)"
   ]
  },
  {
   "cell_type": "code",
   "execution_count": 12,
   "id": "a7964615",
   "metadata": {},
   "outputs": [
    {
     "name": "stdout",
     "output_type": "stream",
     "text": [
      "<class 'pandas.core.frame.DataFrame'>\n",
      "RangeIndex: 9152 entries, 0 to 9151\n",
      "Data columns (total 42 columns):\n",
      " #   Column                                 Non-Null Count  Dtype         \n",
      "---  ------                                 --------------  -----         \n",
      " 0   Unnamed: 0                             9152 non-null   int64         \n",
      " 1   Дата и время регистрации [заявки]      9152 non-null   object        \n",
      " 2   Дата и время создания [заявки]         9152 non-null   object        \n",
      " 3   Длительность, ч [заявки]               9114 non-null   float64       \n",
      " 4   Номер [заявки]                         9152 non-null   int64         \n",
      " 5   Объект [заявки]                        9152 non-null   object        \n",
      " 6   Проявление [заявки]                    9152 non-null   object        \n",
      " 7   Тип системы [заявки]                   9152 non-null   object        \n",
      " 8   Номер                                  9152 non-null   int64         \n",
      " 9   date_time_x                            9152 non-null   datetime64[ns]\n",
      " 10  Дата и время регистрации               9152 non-null   object        \n",
      " 11  date_time_range                        9152 non-null   datetime64[ns]\n",
      " 12  date_time_y                            9152 non-null   datetime64[ns]\n",
      " 13  T                                      9152 non-null   float64       \n",
      " 14  Po                                     9152 non-null   float64       \n",
      " 15  Pa                                     9152 non-null   float64       \n",
      " 16  U                                      9152 non-null   int64         \n",
      " 17  N                                      9152 non-null   object        \n",
      " 18  W1                                     9152 non-null   object        \n",
      " 19  W2                                     9152 non-null   object        \n",
      " 20  VV                                     9152 non-null   float64       \n",
      " 21  Td                                     9152 non-null   float64       \n",
      " 22  E'                                     9152 non-null   object        \n",
      " 23  sss                                    9152 non-null   object        \n",
      " 24  year                                   9152 non-null   int64         \n",
      " 25  date                                   9152 non-null   datetime64[ns]\n",
      " 26  month                                  9152 non-null   int64         \n",
      " 27  N_code                                 9152 non-null   int64         \n",
      " 28  W1_code                                9152 non-null   int64         \n",
      " 29  W2_code                                9152 non-null   int64         \n",
      " 30  sss_code                               9152 non-null   int64         \n",
      " 31  Код                                    9152 non-null   object        \n",
      " 32  Инвентарный номер                      9152 non-null   object        \n",
      " 33  Наименование                           9152 non-null   object        \n",
      " 34  Наименование вида объекта              9152 non-null   object        \n",
      " 35  Наименование района                    9152 non-null   object        \n",
      " 36  Наименование подразделения             9152 non-null   object        \n",
      " 37  Дата ввода в эксплуатацию              9152 non-null   object        \n",
      " 38  Наименование материала                 9152 non-null   object        \n",
      " 39  Наименование принадлежности имущества  9152 non-null   object        \n",
      " 40  Длина, пог.м.                          9152 non-null   float64       \n",
      " 41  Диаметр, мм.                           9152 non-null   float64       \n",
      "dtypes: datetime64[ns](4), float64(8), int64(10), object(20)\n",
      "memory usage: 2.9+ MB\n"
     ]
    }
   ],
   "source": [
    "df_target_sobitiya.info()"
   ]
  },
  {
   "cell_type": "code",
   "execution_count": 13,
   "id": "2b9366f6",
   "metadata": {},
   "outputs": [
    {
     "data": {
      "text/plain": [
       "Index(['Unnamed: 0', 'Дата и время регистрации [заявки]',\n",
       "       'Дата и время создания [заявки]', 'Длительность, ч [заявки]',\n",
       "       'Номер [заявки]', 'Объект [заявки]', 'Проявление [заявки]',\n",
       "       'Тип системы [заявки]', 'Номер', 'date_time_x',\n",
       "       'Дата и время регистрации', 'date_time_range', 'date_time_y', 'T', 'Po',\n",
       "       'Pa', 'U', 'N', 'W1', 'W2', 'VV', 'Td', 'E'', 'sss', 'year', 'date',\n",
       "       'month', 'N_code', 'W1_code', 'W2_code', 'sss_code', 'Код ',\n",
       "       'Инвентарный номер', 'Наименование', 'Наименование вида объекта',\n",
       "       'Наименование района', 'Наименование подразделения',\n",
       "       'Дата ввода в эксплуатацию', 'Наименование материала',\n",
       "       'Наименование принадлежности имущества', 'Длина, пог.м.',\n",
       "       'Диаметр, мм.'],\n",
       "      dtype='object')"
      ]
     },
     "execution_count": 13,
     "metadata": {},
     "output_type": "execute_result"
    }
   ],
   "source": [
    "df_target_sobitiya.columns"
   ]
  },
  {
   "cell_type": "code",
   "execution_count": 14,
   "id": "1bac22b5",
   "metadata": {},
   "outputs": [
    {
     "data": {
      "text/plain": [
       "(9152, 42)"
      ]
     },
     "execution_count": 14,
     "metadata": {},
     "output_type": "execute_result"
    }
   ],
   "source": [
    "df_target_sobitiya.shape"
   ]
  },
  {
   "cell_type": "code",
   "execution_count": 15,
   "id": "c983d8f0",
   "metadata": {},
   "outputs": [
    {
     "data": {
      "text/html": [
       "<div><div id=9ccde9d5-8b0c-448a-9f5e-5c05edc69035 style=\"display:none; background-color:#9D6CFF; color:white; width:200px; height:30px; padding-left:5px; border-radius:4px; flex-direction:row; justify-content:space-around; align-items:center;\" onmouseover=\"this.style.backgroundColor='#BA9BF8'\" onmouseout=\"this.style.backgroundColor='#9D6CFF'\" onclick=\"window.commands?.execute('create-mitosheet-from-dataframe-output');\">See Full Dataframe in Mito</div> <script> if (window.commands?.hasCommand('create-mitosheet-from-dataframe-output')) document.getElementById('9ccde9d5-8b0c-448a-9f5e-5c05edc69035').style.display = 'flex' </script> <table border=\"1\" class=\"dataframe\">\n",
       "  <thead>\n",
       "    <tr style=\"text-align: right;\">\n",
       "      <th></th>\n",
       "      <th>Номер</th>\n",
       "      <th>Объект [заявки]</th>\n",
       "    </tr>\n",
       "  </thead>\n",
       "  <tbody>\n",
       "    <tr>\n",
       "      <th>0</th>\n",
       "      <td>226184</td>\n",
       "      <td>Сети водопровода ведомственные без объекта (04208)</td>\n",
       "    </tr>\n",
       "    <tr>\n",
       "      <th>1</th>\n",
       "      <td>218618</td>\n",
       "      <td>Сети водопровода ведомственные без объекта (03200)</td>\n",
       "    </tr>\n",
       "    <tr>\n",
       "      <th>2</th>\n",
       "      <td>218631</td>\n",
       "      <td>Сети водопровода ведомственные без объекта (04208)</td>\n",
       "    </tr>\n",
       "    <tr>\n",
       "      <th>3</th>\n",
       "      <td>218654</td>\n",
       "      <td>Сети водопровода бесхозные без объекта (03200)</td>\n",
       "    </tr>\n",
       "    <tr>\n",
       "      <th>4</th>\n",
       "      <td>218658</td>\n",
       "      <td>Сети водопровода бесхозные без объекта (03200)</td>\n",
       "    </tr>\n",
       "    <tr>\n",
       "      <th>...</th>\n",
       "      <td>...</td>\n",
       "      <td>...</td>\n",
       "    </tr>\n",
       "    <tr>\n",
       "      <th>9147</th>\n",
       "      <td>412221</td>\n",
       "      <td>Сети водопровода ведомственные без объекта (04206)</td>\n",
       "    </tr>\n",
       "    <tr>\n",
       "      <th>9148</th>\n",
       "      <td>412231</td>\n",
       "      <td>по Гашкова41 на ЦТП-4от В-2доВКдома33 d200,l156 (5057ч_к)</td>\n",
       "    </tr>\n",
       "    <tr>\n",
       "      <th>9149</th>\n",
       "      <td>412235</td>\n",
       "      <td>Сети водопровода бесхозные без объекта (04208)</td>\n",
       "    </tr>\n",
       "    <tr>\n",
       "      <th>9150</th>\n",
       "      <td>412236</td>\n",
       "      <td>по Сысольская 8а ЦТП d150,l155.9</td>\n",
       "    </tr>\n",
       "    <tr>\n",
       "      <th>9151</th>\n",
       "      <td>412228</td>\n",
       "      <td>Сети водопровода ведомственные без объекта (04204)</td>\n",
       "    </tr>\n",
       "  </tbody>\n",
       "</table></div>"
      ],
      "text/plain": [
       "       Номер                                    Объект [заявки]\n",
       "0     226184  Сети водопровода ведомственные без объекта (04...\n",
       "1     218618  Сети водопровода ведомственные без объекта (03...\n",
       "2     218631  Сети водопровода ведомственные без объекта (04...\n",
       "3     218654     Сети водопровода бесхозные без объекта (03200)\n",
       "4     218658     Сети водопровода бесхозные без объекта (03200)\n",
       "...      ...                                                ...\n",
       "9147  412221  Сети водопровода ведомственные без объекта (04...\n",
       "9148  412231  по Гашкова41 на ЦТП-4от В-2доВКдома33 d200,l15...\n",
       "9149  412235     Сети водопровода бесхозные без объекта (04208)\n",
       "9150  412236                   по Сысольская 8а ЦТП d150,l155.9\n",
       "9151  412228  Сети водопровода ведомственные без объекта (04...\n",
       "\n",
       "[9152 rows x 2 columns]"
      ]
     },
     "execution_count": 15,
     "metadata": {},
     "output_type": "execute_result"
    }
   ],
   "source": [
    "df_target_sobitiya_columns = ['Номер', 'Объект [заявки]']\n",
    "df_target_sobitiya[df_target_sobitiya_columns]"
   ]
  },
  {
   "cell_type": "code",
   "execution_count": 16,
   "id": "f58a861b",
   "metadata": {},
   "outputs": [],
   "source": [
    "df_seti_s_sobitiyami = df_seti.merge(df_target_sobitiya[df_target_sobitiya_columns], \n",
    "              how = 'left', left_on = 'Наименование', right_on = 'Объект [заявки]')"
   ]
  },
  {
   "cell_type": "code",
   "execution_count": 17,
   "id": "90d7bf28",
   "metadata": {},
   "outputs": [],
   "source": [
    "df_seti_s_sobitiyami = df_seti_s_sobitiyami.drop(columns = ['Unnamed: 0', 'Объект [заявки]', 'Наименование'])"
   ]
  },
  {
   "cell_type": "code",
   "execution_count": 18,
   "id": "d9ace838",
   "metadata": {},
   "outputs": [],
   "source": [
    "df_seti_s_sobitiyami_groupby = df_seti_s_sobitiyami.groupby('Код ')[['Номер']].count()"
   ]
  },
  {
   "cell_type": "code",
   "execution_count": 19,
   "id": "7680cfbe",
   "metadata": {},
   "outputs": [],
   "source": [
    "df_seti_s_sobitiyami_groupby = df_seti_s_sobitiyami_groupby.reset_index()"
   ]
  },
  {
   "cell_type": "code",
   "execution_count": 20,
   "id": "aa771f0c",
   "metadata": {},
   "outputs": [
    {
     "data": {
      "text/html": [
       "<div><div id=84dac569-4baa-441f-8ee6-52aafb0a630a style=\"display:none; background-color:#9D6CFF; color:white; width:200px; height:30px; padding-left:5px; border-radius:4px; flex-direction:row; justify-content:space-around; align-items:center;\" onmouseover=\"this.style.backgroundColor='#BA9BF8'\" onmouseout=\"this.style.backgroundColor='#9D6CFF'\" onclick=\"window.commands?.execute('create-mitosheet-from-dataframe-output');\">See Full Dataframe in Mito</div> <script> if (window.commands?.hasCommand('create-mitosheet-from-dataframe-output')) document.getElementById('84dac569-4baa-441f-8ee6-52aafb0a630a').style.display = 'flex' </script> <table border=\"1\" class=\"dataframe\">\n",
       "  <thead>\n",
       "    <tr style=\"text-align: right;\">\n",
       "      <th></th>\n",
       "      <th>Код</th>\n",
       "      <th>Номер</th>\n",
       "    </tr>\n",
       "  </thead>\n",
       "  <tbody>\n",
       "    <tr>\n",
       "      <th>0</th>\n",
       "      <td>000005_к</td>\n",
       "      <td>0</td>\n",
       "    </tr>\n",
       "    <tr>\n",
       "      <th>1</th>\n",
       "      <td>000006_к</td>\n",
       "      <td>0</td>\n",
       "    </tr>\n",
       "    <tr>\n",
       "      <th>2</th>\n",
       "      <td>000007_к</td>\n",
       "      <td>1</td>\n",
       "    </tr>\n",
       "    <tr>\n",
       "      <th>3</th>\n",
       "      <td>000009_к</td>\n",
       "      <td>2</td>\n",
       "    </tr>\n",
       "    <tr>\n",
       "      <th>4</th>\n",
       "      <td>000043_к</td>\n",
       "      <td>0</td>\n",
       "    </tr>\n",
       "    <tr>\n",
       "      <th>...</th>\n",
       "      <td>...</td>\n",
       "      <td>...</td>\n",
       "    </tr>\n",
       "    <tr>\n",
       "      <th>6112</th>\n",
       "      <td>ФГБУ ЦЖКУ  04208_вед</td>\n",
       "      <td>0</td>\n",
       "    </tr>\n",
       "    <tr>\n",
       "      <th>6113</th>\n",
       "      <td>ЦО-00001076</td>\n",
       "      <td>0</td>\n",
       "    </tr>\n",
       "    <tr>\n",
       "      <th>6114</th>\n",
       "      <td>ЦО-00001078</td>\n",
       "      <td>0</td>\n",
       "    </tr>\n",
       "    <tr>\n",
       "      <th>6115</th>\n",
       "      <td>Энерг пр 04201_вед</td>\n",
       "      <td>0</td>\n",
       "    </tr>\n",
       "    <tr>\n",
       "      <th>6116</th>\n",
       "      <td>Энерг-ПМ  04208_вед</td>\n",
       "      <td>0</td>\n",
       "    </tr>\n",
       "  </tbody>\n",
       "</table></div>"
      ],
      "text/plain": [
       "                      Код   Номер\n",
       "0                 000005_к      0\n",
       "1                 000006_к      0\n",
       "2                 000007_к      1\n",
       "3                 000009_к      2\n",
       "4                 000043_к      0\n",
       "...                    ...    ...\n",
       "6112  ФГБУ ЦЖКУ  04208_вед      0\n",
       "6113           ЦО-00001076      0\n",
       "6114           ЦО-00001078      0\n",
       "6115    Энерг пр 04201_вед      0\n",
       "6116   Энерг-ПМ  04208_вед      0\n",
       "\n",
       "[6117 rows x 2 columns]"
      ]
     },
     "execution_count": 20,
     "metadata": {},
     "output_type": "execute_result"
    }
   ],
   "source": [
    "df_seti_s_sobitiyami_groupby"
   ]
  },
  {
   "cell_type": "code",
   "execution_count": 21,
   "id": "f0590d87",
   "metadata": {},
   "outputs": [],
   "source": [
    "df_seti_count_sobitiya = df_seti.merge(df_seti_s_sobitiyami_groupby, how = 'left', on = 'Код ')"
   ]
  },
  {
   "cell_type": "code",
   "execution_count": 22,
   "id": "d7c0a8bc",
   "metadata": {},
   "outputs": [],
   "source": [
    "df_seti_count_sobitiya = df_seti_count_sobitiya.drop(columns = 'Unnamed: 0')"
   ]
  },
  {
   "cell_type": "code",
   "execution_count": 23,
   "id": "6c92dca5",
   "metadata": {},
   "outputs": [
    {
     "data": {
      "text/plain": [
       "array([[<AxesSubplot:title={'center':'Длина, пог.м.'}>,\n",
       "        <AxesSubplot:title={'center':'Диаметр, мм.'}>],\n",
       "       [<AxesSubplot:title={'center':'Номер'}>, <AxesSubplot:>]],\n",
       "      dtype=object)"
      ]
     },
     "execution_count": 23,
     "metadata": {},
     "output_type": "execute_result"
    },
    {
     "data": {
      "image/png": "[encoded data removed]",
      "text/plain": [
       "<Figure size 432x288 with 4 Axes>"
      ]
     },
     "metadata": {
      "needs_background": "light"
     },
     "output_type": "display_data"
    }
   ],
   "source": [
    "df_seti_count_sobitiya.hist()"
   ]
  },
  {
   "cell_type": "code",
   "execution_count": 24,
   "id": "770100b1",
   "metadata": {},
   "outputs": [
    {
     "data": {
      "text/plain": [
       "1      809\n",
       "2      356\n",
       "3      174\n",
       "4      117\n",
       "5       74\n",
       "6       45\n",
       "8       28\n",
       "10      26\n",
       "9       24\n",
       "7       22\n",
       "11      14\n",
       "14       9\n",
       "12       8\n",
       "13       7\n",
       "16       6\n",
       "15       4\n",
       "21       4\n",
       "18       3\n",
       "30       2\n",
       "17       2\n",
       "33       2\n",
       "64       2\n",
       "39       1\n",
       "35       1\n",
       "28       1\n",
       "46       1\n",
       "19       1\n",
       "24       1\n",
       "75       1\n",
       "447      1\n",
       "26       1\n",
       "159      1\n",
       "54       1\n",
       "708      1\n",
       "226      1\n",
       "25       1\n",
       "360      1\n",
       "23       1\n",
       "500      1\n",
       "58       1\n",
       "545      1\n",
       "38       1\n",
       "29       1\n",
       "93       1\n",
       "430      1\n",
       "48       1\n",
       "41       1\n",
       "22       1\n",
       "Name: Номер, dtype: int64"
      ]
     },
     "execution_count": 24,
     "metadata": {},
     "output_type": "execute_result"
    }
   ],
   "source": [
    "df_seti_count_sobitiya[df_seti_count_sobitiya['Номер'] > 0]['Номер'].value_counts(dropna=False, sort=True, ascending=False)"
   ]
  },
  {
   "cell_type": "markdown",
   "id": "4807bf5d",
   "metadata": {},
   "source": [
    "### Номер > 356 - 9 Номер > 174 - 8 Номер > 74 - 7 Номер > 28 - 6 Номер > 14 - 5 Номер > 9 - 4 Номер > 3 - 3 Номер > 0 - 2 Номер = 0 - 1"
   ]
  },
  {
   "cell_type": "code",
   "execution_count": 25,
   "id": "9b0ce515",
   "metadata": {},
   "outputs": [],
   "source": [
    "df_seti_count_sobitiya['target'] = ''"
   ]
  },
  {
   "cell_type": "code",
   "execution_count": 26,
   "id": "1cae84ca",
   "metadata": {},
   "outputs": [],
   "source": [
    "df_seti_count_sobitiya.loc[df_seti_count_sobitiya['Номер'] > 356, 'target'] = 8\n",
    "df_seti_count_sobitiya.loc[(df_seti_count_sobitiya['Номер'] > 174) & (df_seti_count_sobitiya['Номер'] <= 356), 'target'] = 7\n",
    "df_seti_count_sobitiya.loc[(df_seti_count_sobitiya['Номер'] > 74) & (df_seti_count_sobitiya['Номер'] <= 174), 'target'] = 6\n",
    "df_seti_count_sobitiya.loc[(df_seti_count_sobitiya['Номер'] > 28) & (df_seti_count_sobitiya['Номер'] <= 74), 'target'] = 5\n",
    "df_seti_count_sobitiya.loc[(df_seti_count_sobitiya['Номер'] > 14) & (df_seti_count_sobitiya['Номер'] <= 28), 'target'] = 4\n",
    "df_seti_count_sobitiya.loc[(df_seti_count_sobitiya['Номер'] > 9) & (df_seti_count_sobitiya['Номер'] <= 14), 'target'] = 3\n",
    "df_seti_count_sobitiya.loc[(df_seti_count_sobitiya['Номер'] > 3) & (df_seti_count_sobitiya['Номер'] <= 9), 'target'] = 2\n",
    "df_seti_count_sobitiya.loc[(df_seti_count_sobitiya['Номер'] > 0) & (df_seti_count_sobitiya['Номер'] <= 3), 'target'] = 1\n",
    "df_seti_count_sobitiya.loc[df_seti_count_sobitiya['Номер'] == 0, 'target'] = 0"
   ]
  },
  {
   "cell_type": "code",
   "execution_count": 27,
   "id": "c91acef2",
   "metadata": {},
   "outputs": [
    {
     "data": {
      "text/plain": [
       "0    4353\n",
       "1    1339\n",
       "2     310\n",
       "3      64\n",
       "4      26\n",
       "5      15\n",
       "8       6\n",
       "6       3\n",
       "7       1\n",
       "Name: target, dtype: int64"
      ]
     },
     "execution_count": 27,
     "metadata": {},
     "output_type": "execute_result"
    }
   ],
   "source": [
    "df_seti_count_sobitiya['target'].value_counts(dropna=False, sort=True, ascending=False)"
   ]
  },
  {
   "cell_type": "markdown",
   "id": "90db38ba",
   "metadata": {},
   "source": [
    "### Определю, что все сети с 'target' > 0 - \"Плохие\" ('target_class' = 1)"
   ]
  },
  {
   "cell_type": "code",
   "execution_count": 28,
   "id": "cc2894d5",
   "metadata": {},
   "outputs": [],
   "source": [
    "df_seti_count_sobitiya['target_class'] = 0"
   ]
  },
  {
   "cell_type": "code",
   "execution_count": 29,
   "id": "7b00e828",
   "metadata": {},
   "outputs": [],
   "source": [
    "df_seti_count_sobitiya.loc[df_seti_count_sobitiya['target'] > 0, 'target_class'] = 1"
   ]
  },
  {
   "cell_type": "code",
   "execution_count": 30,
   "id": "2b908d15",
   "metadata": {},
   "outputs": [
    {
     "data": {
      "text/plain": [
       "<AxesSubplot:>"
      ]
     },
     "execution_count": 30,
     "metadata": {},
     "output_type": "execute_result"
    },
    {
     "data": {
      "image/png": "[encoded data removed]",
      "text/plain": [
       "<Figure size 432x288 with 1 Axes>"
      ]
     },
     "metadata": {
      "needs_background": "light"
     },
     "output_type": "display_data"
    }
   ],
   "source": [
    "df_seti_count_sobitiya['target_class'].hist()"
   ]
  },
  {
   "cell_type": "code",
   "execution_count": 31,
   "id": "53d35593",
   "metadata": {},
   "outputs": [
    {
     "data": {
      "text/plain": [
       "0.2883766552231486"
      ]
     },
     "execution_count": 31,
     "metadata": {},
     "output_type": "execute_result"
    }
   ],
   "source": [
    "# процент \n",
    "(df_seti_count_sobitiya[df_seti_count_sobitiya['Номер'] > 0]['Номер']\n",
    " .value_counts(dropna=False, sort=True, ascending=False)\n",
    " .sum())/df_seti_count_sobitiya.shape[0]"
   ]
  },
  {
   "cell_type": "markdown",
   "id": "80c19b3f",
   "metadata": {},
   "source": [
    "## EDA"
   ]
  },
  {
   "cell_type": "code",
   "execution_count": 32,
   "id": "dd552772",
   "metadata": {},
   "outputs": [
    {
     "data": {
      "text/html": [
       "<div><div id=2c9b0538-6b47-4b10-a52b-f1dc5479afd2 style=\"display:none; background-color:#9D6CFF; color:white; width:200px; height:30px; padding-left:5px; border-radius:4px; flex-direction:row; justify-content:space-around; align-items:center;\" onmouseover=\"this.style.backgroundColor='#BA9BF8'\" onmouseout=\"this.style.backgroundColor='#9D6CFF'\" onclick=\"window.commands?.execute('create-mitosheet-from-dataframe-output');\">See Full Dataframe in Mito</div> <script> if (window.commands?.hasCommand('create-mitosheet-from-dataframe-output')) document.getElementById('2c9b0538-6b47-4b10-a52b-f1dc5479afd2').style.display = 'flex' </script> <table border=\"1\" class=\"dataframe\">\n",
       "  <thead>\n",
       "    <tr style=\"text-align: right;\">\n",
       "      <th></th>\n",
       "      <th>Код</th>\n",
       "      <th>Инвентарный номер</th>\n",
       "      <th>Наименование</th>\n",
       "      <th>Наименование вида объекта</th>\n",
       "      <th>Наименование района</th>\n",
       "      <th>Наименование подразделения</th>\n",
       "      <th>Дата ввода в эксплуатацию</th>\n",
       "      <th>Наименование материала</th>\n",
       "      <th>Наименование принадлежности имущества</th>\n",
       "      <th>Длина, пог.м.</th>\n",
       "      <th>Диаметр, мм.</th>\n",
       "      <th>Номер</th>\n",
       "      <th>target</th>\n",
       "      <th>target_class</th>\n",
       "    </tr>\n",
       "  </thead>\n",
       "  <tbody>\n",
       "    <tr>\n",
       "      <th>0</th>\n",
       "      <td>03200_102_б/х</td>\n",
       "      <td>102_б/х</td>\n",
       "      <td>Сеть холодного водоснабжения от ВК-1 (сущ) у ж.д. № 8, 10 по ул. Чистопольской до ВК-2 (сущ) около ЦТП №42</td>\n",
       "      <td>Трубопровод напорный</td>\n",
       "      <td>КИРОВСКИЙ</td>\n",
       "      <td>Эксплуатационный участок цех №3</td>\n",
       "      <td>01.01.1970</td>\n",
       "      <td>чугун</td>\n",
       "      <td>На обслуживании</td>\n",
       "      <td>36.86</td>\n",
       "      <td>100.0</td>\n",
       "      <td>1</td>\n",
       "      <td>1</td>\n",
       "      <td>1</td>\n",
       "    </tr>\n",
       "    <tr>\n",
       "      <th>1</th>\n",
       "      <td>03200_100_б/х</td>\n",
       "      <td>100_б/х</td>\n",
       "      <td>Сети холодного водоснабжения по ул. Новоржевская от ул. Ардатовская до ул. Б. Хмельницкого</td>\n",
       "      <td>Трубопровод напорный</td>\n",
       "      <td>КИРОВСКИЙ</td>\n",
       "      <td>Эксплуатационный участок цех №3</td>\n",
       "      <td>01.01.1970</td>\n",
       "      <td>сталь</td>\n",
       "      <td>На обслуживании</td>\n",
       "      <td>755.00</td>\n",
       "      <td>200.0</td>\n",
       "      <td>1</td>\n",
       "      <td>1</td>\n",
       "      <td>1</td>\n",
       "    </tr>\n",
       "    <tr>\n",
       "      <th>2</th>\n",
       "      <td>03200_98_б/х</td>\n",
       "      <td>98_б/х</td>\n",
       "      <td>Автозаводская,4 ввод на ЦТП-41</td>\n",
       "      <td>Трубопровод напорный</td>\n",
       "      <td>КИРОВСКИЙ</td>\n",
       "      <td>Эксплуатационный участок цех №3</td>\n",
       "      <td>01.01.1970</td>\n",
       "      <td>чугун</td>\n",
       "      <td>На обслуживании</td>\n",
       "      <td>202.80</td>\n",
       "      <td>200.0</td>\n",
       "      <td>1</td>\n",
       "      <td>1</td>\n",
       "      <td>1</td>\n",
       "    </tr>\n",
       "    <tr>\n",
       "      <th>3</th>\n",
       "      <td>03200_96_б/х</td>\n",
       "      <td>96_б/х</td>\n",
       "      <td>Ввод водопровода от существующего колодца по ул. М. Рыбалко до ЦТП-37 (ул. Маршала Рыбалко, 43 \"а\") (М.Рыбалко,43а ввод на ЦТП-37)</td>\n",
       "      <td>Трубопровод напорный</td>\n",
       "      <td>КИРОВСКИЙ</td>\n",
       "      <td>Эксплуатационный участок цех №3</td>\n",
       "      <td>01.01.1970</td>\n",
       "      <td>чугун</td>\n",
       "      <td>На обслуживании</td>\n",
       "      <td>198.40</td>\n",
       "      <td>200.0</td>\n",
       "      <td>0</td>\n",
       "      <td>0</td>\n",
       "      <td>0</td>\n",
       "    </tr>\n",
       "    <tr>\n",
       "      <th>4</th>\n",
       "      <td>03200_95_б/х</td>\n",
       "      <td>95_б/х</td>\n",
       "      <td>Сеть холодного водоснабжения по ул. Котельнической от ВК-1 у ж.д. №24 до ВК-4 у ж.д.№22 по ул. Воронежской</td>\n",
       "      <td>Трубопровод напорный</td>\n",
       "      <td>КИРОВСКИЙ</td>\n",
       "      <td>Эксплуатационный участок цех №3</td>\n",
       "      <td>01.01.1970</td>\n",
       "      <td>сталь</td>\n",
       "      <td>На обслуживании</td>\n",
       "      <td>328.26</td>\n",
       "      <td>100.0</td>\n",
       "      <td>0</td>\n",
       "      <td>0</td>\n",
       "      <td>0</td>\n",
       "    </tr>\n",
       "  </tbody>\n",
       "</table></div>"
      ],
      "text/plain": [
       "            Код  Инвентарный номер  \\\n",
       "0  03200_102_б/х           102_б/х   \n",
       "1  03200_100_б/х           100_б/х   \n",
       "2   03200_98_б/х            98_б/х   \n",
       "3   03200_96_б/х            96_б/х   \n",
       "4   03200_95_б/х            95_б/х   \n",
       "\n",
       "                                        Наименование  \\\n",
       "0  Сеть холодного водоснабжения от ВК-1 (сущ) у ж...   \n",
       "1  Сети холодного водоснабжения по ул. Новоржевск...   \n",
       "2                     Автозаводская,4 ввод на ЦТП-41   \n",
       "3  Ввод водопровода от существующего колодца по у...   \n",
       "4  Сеть холодного водоснабжения по ул. Котельниче...   \n",
       "\n",
       "  Наименование вида объекта Наименование района  \\\n",
       "0      Трубопровод напорный           КИРОВСКИЙ   \n",
       "1      Трубопровод напорный           КИРОВСКИЙ   \n",
       "2      Трубопровод напорный           КИРОВСКИЙ   \n",
       "3      Трубопровод напорный           КИРОВСКИЙ   \n",
       "4      Трубопровод напорный           КИРОВСКИЙ   \n",
       "\n",
       "        Наименование подразделения Дата ввода в эксплуатацию  \\\n",
       "0  Эксплуатационный участок цех №3                01.01.1970   \n",
       "1  Эксплуатационный участок цех №3                01.01.1970   \n",
       "2  Эксплуатационный участок цех №3                01.01.1970   \n",
       "3  Эксплуатационный участок цех №3                01.01.1970   \n",
       "4  Эксплуатационный участок цех №3                01.01.1970   \n",
       "\n",
       "  Наименование материала Наименование принадлежности имущества  Длина, пог.м.  \\\n",
       "0                  чугун                       На обслуживании          36.86   \n",
       "1                  сталь                       На обслуживании         755.00   \n",
       "2                  чугун                       На обслуживании         202.80   \n",
       "3                  чугун                       На обслуживании         198.40   \n",
       "4                  сталь                       На обслуживании         328.26   \n",
       "\n",
       "   Диаметр, мм.  Номер target  target_class  \n",
       "0         100.0      1      1             1  \n",
       "1         200.0      1      1             1  \n",
       "2         200.0      1      1             1  \n",
       "3         200.0      0      0             0  \n",
       "4         100.0      0      0             0  "
      ]
     },
     "execution_count": 32,
     "metadata": {},
     "output_type": "execute_result"
    }
   ],
   "source": [
    "df_seti_count_sobitiya.head()"
   ]
  },
  {
   "cell_type": "code",
   "execution_count": 33,
   "id": "6a9674ce",
   "metadata": {},
   "outputs": [
    {
     "data": {
      "text/plain": [
       "Index(['Код ', 'Инвентарный номер', 'Наименование',\n",
       "       'Наименование вида объекта', 'Наименование района',\n",
       "       'Наименование подразделения', 'Дата ввода в эксплуатацию',\n",
       "       'Наименование материала', 'Наименование принадлежности имущества',\n",
       "       'Длина, пог.м.', 'Диаметр, мм.', 'Номер', 'target', 'target_class'],\n",
       "      dtype='object')"
      ]
     },
     "execution_count": 33,
     "metadata": {},
     "output_type": "execute_result"
    }
   ],
   "source": [
    "df_seti_count_sobitiya.columns"
   ]
  },
  {
   "cell_type": "code",
   "execution_count": 34,
   "id": "074d87d8",
   "metadata": {},
   "outputs": [
    {
     "data": {
      "text/plain": [
       "(6117, 14)"
      ]
     },
     "execution_count": 34,
     "metadata": {},
     "output_type": "execute_result"
    }
   ],
   "source": [
    "df_seti_count_sobitiya.shape"
   ]
  },
  {
   "cell_type": "code",
   "execution_count": 35,
   "id": "1681ee74",
   "metadata": {},
   "outputs": [
    {
     "data": {
      "text/plain": [
       "Index(['Код ', 'Инвентарный номер', 'Наименование',\n",
       "       'Наименование вида объекта', 'Наименование района',\n",
       "       'Наименование подразделения', 'Дата ввода в эксплуатацию',\n",
       "       'Наименование материала', 'Наименование принадлежности имущества',\n",
       "       'Длина, пог.м.', 'Диаметр, мм.', 'Номер', 'target', 'target_class'],\n",
       "      dtype='object')"
      ]
     },
     "execution_count": 35,
     "metadata": {},
     "output_type": "execute_result"
    }
   ],
   "source": [
    "df_seti_count_sobitiya.columns"
   ]
  },
  {
   "cell_type": "markdown",
   "id": "f39d3c41",
   "metadata": {},
   "source": [
    "### удалю колонки\n",
    "- 'Код ' = id;\n",
    "- 'Инвентарный номер' = id;\n",
    "- 'Наименование' = уникальное имя id;\n",
    "- 'Наименование вида объекта' - не несет сиысловой нагрузки;\n",
    "- 'target' - для мультиклассовой классификации в этом проекте не рассматривается такой подход\n",
    "\n",
    "### колонки для изучения распределений\n",
    "- 'Номер' - сколько номеров аварийных заявок было за рассматриваемый период, переименую в 'Количество' и удалю на этапе конструирование признаков;\n",
    "- 'Дата ввода в эксплуатацию' - перевести в срок эксплуатации, в единицах измерения 'год';"
   ]
  },
  {
   "cell_type": "code",
   "execution_count": 36,
   "id": "ce45a934",
   "metadata": {},
   "outputs": [],
   "source": [
    "drop_list = ['Код ', 'Инвентарный номер', 'Наименование','Наименование вида объекта', 'target']\n",
    "df_seti_count_sobitiya.drop(columns = drop_list, inplace = True)"
   ]
  },
  {
   "cell_type": "markdown",
   "id": "73923d04",
   "metadata": {},
   "source": [
    "#### 'Номер' - сколько номеров аварийных заявок было за рассматриваемый период, переименую в 'Количество' и удалю на этапе конструирование признаков;"
   ]
  },
  {
   "cell_type": "code",
   "execution_count": 37,
   "id": "769be5a1",
   "metadata": {},
   "outputs": [],
   "source": [
    "df_seti_count_sobitiya.rename(columns = {'Номер': 'Количество'}, inplace=True)"
   ]
  },
  {
   "cell_type": "code",
   "execution_count": 38,
   "id": "43a4a08c",
   "metadata": {},
   "outputs": [
    {
     "data": {
      "text/html": [
       "<div><div id=cc37f3df-75e1-411f-8867-ae5854f2fa8a style=\"display:none; background-color:#9D6CFF; color:white; width:200px; height:30px; padding-left:5px; border-radius:4px; flex-direction:row; justify-content:space-around; align-items:center;\" onmouseover=\"this.style.backgroundColor='#BA9BF8'\" onmouseout=\"this.style.backgroundColor='#9D6CFF'\" onclick=\"window.commands?.execute('create-mitosheet-from-dataframe-output');\">See Full Dataframe in Mito</div> <script> if (window.commands?.hasCommand('create-mitosheet-from-dataframe-output')) document.getElementById('cc37f3df-75e1-411f-8867-ae5854f2fa8a').style.display = 'flex' </script> <table border=\"1\" class=\"dataframe\">\n",
       "  <thead>\n",
       "    <tr style=\"text-align: right;\">\n",
       "      <th></th>\n",
       "      <th>Наименование района</th>\n",
       "      <th>Наименование подразделения</th>\n",
       "      <th>Дата ввода в эксплуатацию</th>\n",
       "      <th>Наименование материала</th>\n",
       "      <th>Наименование принадлежности имущества</th>\n",
       "      <th>Длина, пог.м.</th>\n",
       "      <th>Диаметр, мм.</th>\n",
       "      <th>Количество</th>\n",
       "      <th>target_class</th>\n",
       "    </tr>\n",
       "  </thead>\n",
       "  <tbody>\n",
       "    <tr>\n",
       "      <th>0</th>\n",
       "      <td>КИРОВСКИЙ</td>\n",
       "      <td>Эксплуатационный участок цех №3</td>\n",
       "      <td>01.01.1970</td>\n",
       "      <td>чугун</td>\n",
       "      <td>На обслуживании</td>\n",
       "      <td>36.86</td>\n",
       "      <td>100.0</td>\n",
       "      <td>1</td>\n",
       "      <td>1</td>\n",
       "    </tr>\n",
       "  </tbody>\n",
       "</table></div>"
      ],
      "text/plain": [
       "  Наименование района       Наименование подразделения  \\\n",
       "0           КИРОВСКИЙ  Эксплуатационный участок цех №3   \n",
       "\n",
       "  Дата ввода в эксплуатацию Наименование материала  \\\n",
       "0                01.01.1970                  чугун   \n",
       "\n",
       "  Наименование принадлежности имущества  Длина, пог.м.  Диаметр, мм.  \\\n",
       "0                       На обслуживании          36.86         100.0   \n",
       "\n",
       "   Количество  target_class  \n",
       "0           1             1  "
      ]
     },
     "execution_count": 38,
     "metadata": {},
     "output_type": "execute_result"
    }
   ],
   "source": [
    "df_seti_count_sobitiya.head(1)"
   ]
  },
  {
   "cell_type": "markdown",
   "id": "11c0854a",
   "metadata": {},
   "source": [
    "#### 'Дата ввода в эксплуатацию' - перевести в срок эксплуатации, в единицах измерения 'год'. Срок эксплуатации возьму от  'Дата ввода в эксплуатацию' по 31.12.2022 г"
   ]
  },
  {
   "cell_type": "code",
   "execution_count": 39,
   "id": "401a171c",
   "metadata": {},
   "outputs": [],
   "source": [
    "#подготовка столбца date\n",
    "df_temp_date = df_seti_count_sobitiya['Дата ввода в эксплуатацию'].str.split('.', expand = True).rename(columns={0: 'DD', 1: 'MM', 2: 'YYYY'})\n",
    "df_seti_count_sobitiya = pd.concat([df_seti_count_sobitiya, df_temp_date], axis = 1)\n",
    "df_seti_count_sobitiya['date'] = pd.to_datetime(df_seti_count_sobitiya['DD'].astype(int).astype(str)+'-'\n",
    "                            +df_seti_count_sobitiya['MM'].astype(int).astype(str)+'-'\n",
    "                            +df_seti_count_sobitiya['YYYY'].astype(int).astype(str), format = '%d-%m-%Y').dt.date\n",
    "\n",
    "df_seti_count_sobitiya['date'] = df_seti_count_sobitiya['date'].astype('datetime64')"
   ]
  },
  {
   "cell_type": "markdown",
   "id": "ffacf581",
   "metadata": {},
   "source": [
    "#### data_set создаю дата-сет с колонками\n",
    " - 'Наименование района', \n",
    " - 'Наименование подразделения', \n",
    " - 'date', \n",
    " - 'Наименование материала', \n",
    " - 'Наименование принадлежности имущества', \n",
    " - 'Длина, пог.м.', \n",
    " - 'Диаметр, мм.', \n",
    " - 'target_class'"
   ]
  },
  {
   "cell_type": "code",
   "execution_count": 40,
   "id": "f70e7b02",
   "metadata": {},
   "outputs": [],
   "source": [
    "data_set = df_seti_count_sobitiya[['Наименование района', 'Наименование подразделения', \n",
    "                        'date', 'Наименование материала', \n",
    "                        'Наименование принадлежности имущества', 'Длина, пог.м.', 'Диаметр, мм.', 'target_class']].copy()"
   ]
  },
  {
   "cell_type": "markdown",
   "id": "8d3abc2e",
   "metadata": {},
   "source": [
    "#### Посчитаю Срок эксплуатации и запишу в колонку data_set['years']"
   ]
  },
  {
   "cell_type": "code",
   "execution_count": 41,
   "id": "f8bad5b6",
   "metadata": {},
   "outputs": [],
   "source": [
    "data_set['final_date'] = '2022-12-31'\n",
    "data_set['final_date'] = data_set['final_date'].astype('datetime64')"
   ]
  },
  {
   "cell_type": "code",
   "execution_count": 42,
   "id": "1a58dc7a",
   "metadata": {},
   "outputs": [],
   "source": [
    "data_set['days'] = data_set['final_date'] - data_set['date']"
   ]
  },
  {
   "cell_type": "code",
   "execution_count": 43,
   "id": "a10dc19e",
   "metadata": {},
   "outputs": [],
   "source": [
    "data_set['years'] = data_set['days'].dt.days//365"
   ]
  },
  {
   "cell_type": "markdown",
   "id": "339ee4dc",
   "metadata": {},
   "source": [
    "#### итоговый data_set для EDA"
   ]
  },
  {
   "cell_type": "code",
   "execution_count": 44,
   "id": "d62970f3",
   "metadata": {},
   "outputs": [],
   "source": [
    "data_set = data_set[['target_class',\n",
    "                     'Наименование района', \n",
    "                     'Наименование подразделения',\n",
    "                     'Наименование материала', \n",
    "                     'Наименование принадлежности имущества',\n",
    "                     'Длина, пог.м.', \n",
    "                     'Диаметр, мм.',  \n",
    "                     'years']].copy()"
   ]
  },
  {
   "cell_type": "code",
   "execution_count": 45,
   "id": "2d40a446",
   "metadata": {},
   "outputs": [
    {
     "data": {
      "text/html": [
       "<div><div id=5e478d83-510b-4a95-bd39-4cbe0f8d7a7e style=\"display:none; background-color:#9D6CFF; color:white; width:200px; height:30px; padding-left:5px; border-radius:4px; flex-direction:row; justify-content:space-around; align-items:center;\" onmouseover=\"this.style.backgroundColor='#BA9BF8'\" onmouseout=\"this.style.backgroundColor='#9D6CFF'\" onclick=\"window.commands?.execute('create-mitosheet-from-dataframe-output');\">See Full Dataframe in Mito</div> <script> if (window.commands?.hasCommand('create-mitosheet-from-dataframe-output')) document.getElementById('5e478d83-510b-4a95-bd39-4cbe0f8d7a7e').style.display = 'flex' </script> <table border=\"1\" class=\"dataframe\">\n",
       "  <thead>\n",
       "    <tr style=\"text-align: right;\">\n",
       "      <th></th>\n",
       "      <th>target_class</th>\n",
       "      <th>Наименование района</th>\n",
       "      <th>Наименование подразделения</th>\n",
       "      <th>Наименование материала</th>\n",
       "      <th>Наименование принадлежности имущества</th>\n",
       "      <th>Длина, пог.м.</th>\n",
       "      <th>Диаметр, мм.</th>\n",
       "      <th>years</th>\n",
       "    </tr>\n",
       "  </thead>\n",
       "  <tbody>\n",
       "    <tr>\n",
       "      <th>0</th>\n",
       "      <td>1</td>\n",
       "      <td>КИРОВСКИЙ</td>\n",
       "      <td>Эксплуатационный участок цех №3</td>\n",
       "      <td>чугун</td>\n",
       "      <td>На обслуживании</td>\n",
       "      <td>36.86</td>\n",
       "      <td>100.0</td>\n",
       "      <td>53</td>\n",
       "    </tr>\n",
       "  </tbody>\n",
       "</table></div>"
      ],
      "text/plain": [
       "   target_class Наименование района       Наименование подразделения  \\\n",
       "0             1           КИРОВСКИЙ  Эксплуатационный участок цех №3   \n",
       "\n",
       "  Наименование материала Наименование принадлежности имущества  Длина, пог.м.  \\\n",
       "0                  чугун                       На обслуживании          36.86   \n",
       "\n",
       "   Диаметр, мм.  years  \n",
       "0         100.0     53  "
      ]
     },
     "execution_count": 45,
     "metadata": {},
     "output_type": "execute_result"
    }
   ],
   "source": [
    "data_set.head(1)"
   ]
  },
  {
   "cell_type": "markdown",
   "id": "7bd35857",
   "metadata": {},
   "source": [
    "#### Посмотрю основные распределения и корреляции использую data_set"
   ]
  },
  {
   "cell_type": "code",
   "execution_count": 46,
   "id": "bd2e4392",
   "metadata": {},
   "outputs": [],
   "source": [
    "#функция для построения histplot с hue\n",
    "def graf(df, col, col_hue):\n",
    "    return sns.histplot(data=df, x=df[col], hue=col_hue, multiple=\"dodge\", shrink=0.8) "
   ]
  },
  {
   "cell_type": "code",
   "execution_count": 47,
   "id": "779cebf8",
   "metadata": {},
   "outputs": [
    {
     "data": {
      "text/plain": [
       "(6117, 8)"
      ]
     },
     "execution_count": 47,
     "metadata": {},
     "output_type": "execute_result"
    }
   ],
   "source": [
    "data_set.shape"
   ]
  },
  {
   "cell_type": "code",
   "execution_count": 48,
   "id": "28d8dec3",
   "metadata": {},
   "outputs": [
    {
     "name": "stdout",
     "output_type": "stream",
     "text": [
      "<class 'pandas.core.frame.DataFrame'>\n",
      "Int64Index: 6117 entries, 0 to 6116\n",
      "Data columns (total 8 columns):\n",
      " #   Column                                 Non-Null Count  Dtype  \n",
      "---  ------                                 --------------  -----  \n",
      " 0   target_class                           6117 non-null   int64  \n",
      " 1   Наименование района                    6117 non-null   object \n",
      " 2   Наименование подразделения             6117 non-null   object \n",
      " 3   Наименование материала                 6117 non-null   object \n",
      " 4   Наименование принадлежности имущества  6117 non-null   object \n",
      " 5   Длина, пог.м.                          6117 non-null   float64\n",
      " 6   Диаметр, мм.                           6117 non-null   float64\n",
      " 7   years                                  6117 non-null   int64  \n",
      "dtypes: float64(2), int64(2), object(4)\n",
      "memory usage: 430.1+ KB\n"
     ]
    }
   ],
   "source": [
    "data_set.info()"
   ]
  },
  {
   "cell_type": "code",
   "execution_count": 49,
   "id": "4095d18d",
   "metadata": {},
   "outputs": [
    {
     "data": {
      "text/plain": [
       "object     4\n",
       "int64      2\n",
       "float64    2\n",
       "dtype: int64"
      ]
     },
     "execution_count": 49,
     "metadata": {},
     "output_type": "execute_result"
    }
   ],
   "source": [
    "data_set.dtypes.value_counts()"
   ]
  },
  {
   "cell_type": "code",
   "execution_count": 50,
   "id": "996090eb",
   "metadata": {},
   "outputs": [
    {
     "data": {
      "image/png": "[encoded data removed]",
      "text/plain": [
       "<Figure size 864x432 with 4 Axes>"
      ]
     },
     "metadata": {
      "needs_background": "light"
     },
     "output_type": "display_data"
    }
   ],
   "source": [
    "#графики для колонок 'float64'\n",
    "columns = data_set.select_dtypes(['float64']).columns\n",
    "\n",
    "fig, axs = plt.subplots(nrows=len(columns), ncols=2, figsize=(12,6))\n",
    "\n",
    "for index, column in enumerate(columns):\n",
    "    # В первом столбце гистограмма\n",
    "    data_set[column].hist(ax=axs[index, 0], bins = 20)\n",
    "    axs[index, 0].set_title(f'Histogram: {column}', fontsize=12)\n",
    "    axs[index, 0].set_ylabel('Count', fontsize=12)\n",
    "        \n",
    "    # Во втором столбце график сглаженной плотности распределения на основе ядерной оценки\n",
    "    data_set[column].plot(kind='kde', ax=axs[index, 1])\n",
    "    axs[index, 1].set_title(f'Kernel density estimate: {column}', fontsize=12)\n",
    "    axs[index, 1].grid(True)\n",
    "\n",
    "plt.tight_layout(pad=3.0)\n",
    "plt.show()"
   ]
  },
  {
   "cell_type": "markdown",
   "id": "4470fa6e",
   "metadata": {},
   "source": [
    "#### 'Длина, пог.м.' поссмотрю распределение для <1000"
   ]
  },
  {
   "cell_type": "code",
   "execution_count": 51,
   "id": "5b959a10",
   "metadata": {},
   "outputs": [
    {
     "data": {
      "text/plain": [
       "<AxesSubplot:>"
      ]
     },
     "execution_count": 51,
     "metadata": {},
     "output_type": "execute_result"
    },
    {
     "data": {
      "image/png": "[encoded data removed]",
      "text/plain": [
       "<Figure size 720x288 with 1 Axes>"
      ]
     },
     "metadata": {
      "needs_background": "light"
     },
     "output_type": "display_data"
    }
   ],
   "source": [
    "fig, ax = plt.subplots(figsize=(10,4))\n",
    "\n",
    "data_set.loc[data_set['Длина, пог.м.'] < 1000, 'Длина, пог.м.'].hist()"
   ]
  },
  {
   "cell_type": "code",
   "execution_count": 52,
   "id": "276fda2f",
   "metadata": {},
   "outputs": [
    {
     "data": {
      "image/png": "[encoded data removed]",
      "text/plain": [
       "<Figure size 720x288 with 1 Axes>"
      ]
     },
     "metadata": {
      "needs_background": "light"
     },
     "output_type": "display_data"
    }
   ],
   "source": [
    "fig, ax = plt.subplots(figsize=(10,4))\n",
    "\n",
    "ax = graf(data_set.loc[data_set['Длина, пог.м.'] < 1000], 'Длина, пог.м.', 'target_class')\n",
    "ax.grid(True)"
   ]
  },
  {
   "cell_type": "code",
   "execution_count": 53,
   "id": "ebb9ceb6",
   "metadata": {},
   "outputs": [
    {
     "data": {
      "image/png": "[encoded data removed]",
      "text/plain": [
       "<Figure size 720x288 with 1 Axes>"
      ]
     },
     "metadata": {
      "needs_background": "light"
     },
     "output_type": "display_data"
    }
   ],
   "source": [
    "# 'Длина, пог.м.' поссмотрю распределение для <100\n",
    "fig, ax = plt.subplots(figsize=(10,4))\n",
    "\n",
    "ax = data_set.loc[data_set['Длина, пог.м.'] < 100, 'Длина, пог.м.'].hist()"
   ]
  },
  {
   "cell_type": "code",
   "execution_count": 54,
   "id": "189a0369",
   "metadata": {},
   "outputs": [
    {
     "data": {
      "image/png": "[encoded data removed]",
      "text/plain": [
       "<Figure size 720x288 with 1 Axes>"
      ]
     },
     "metadata": {
      "needs_background": "light"
     },
     "output_type": "display_data"
    }
   ],
   "source": [
    "fig, ax = plt.subplots(figsize=(10,4))\n",
    "\n",
    "ax = graf(data_set.loc[data_set['Длина, пог.м.'] < 100], 'Длина, пог.м.', 'target_class')\n",
    "ax.grid(True)"
   ]
  },
  {
   "cell_type": "code",
   "execution_count": 55,
   "id": "da01abb5",
   "metadata": {},
   "outputs": [],
   "source": [
    "#### 'Диаметр, мм.' поссмотрю распределение для <250"
   ]
  },
  {
   "cell_type": "code",
   "execution_count": 56,
   "id": "70fe6c30",
   "metadata": {},
   "outputs": [
    {
     "data": {
      "text/plain": [
       "<AxesSubplot:>"
      ]
     },
     "execution_count": 56,
     "metadata": {},
     "output_type": "execute_result"
    },
    {
     "data": {
      "image/png": "[encoded data removed]",
      "text/plain": [
       "<Figure size 720x288 with 1 Axes>"
      ]
     },
     "metadata": {
      "needs_background": "light"
     },
     "output_type": "display_data"
    }
   ],
   "source": [
    "# 'Длина, пог.м.' поссмотрю распределение для <100\n",
    "fig, ax = plt.subplots(figsize=(10,4))\n",
    "\n",
    "data_set.loc[data_set['Диаметр, мм.'] < 250, 'Диаметр, мм.'].hist()"
   ]
  },
  {
   "cell_type": "code",
   "execution_count": 57,
   "id": "4d90ffdd",
   "metadata": {},
   "outputs": [
    {
     "data": {
      "image/png": "[encoded data removed]",
      "text/plain": [
       "<Figure size 720x288 with 1 Axes>"
      ]
     },
     "metadata": {
      "needs_background": "light"
     },
     "output_type": "display_data"
    }
   ],
   "source": [
    "fig, ax = plt.subplots(figsize=(10,4))\n",
    "\n",
    "ax = graf(data_set.loc[data_set['Диаметр, мм.'] < 250], 'Диаметр, мм.', 'target_class')\n",
    "ax.grid(True)"
   ]
  },
  {
   "cell_type": "code",
   "execution_count": 58,
   "id": "7c97744d",
   "metadata": {},
   "outputs": [
    {
     "data": {
      "image/png": "[encoded data removed]",
      "text/plain": [
       "<Figure size 720x288 with 1 Axes>"
      ]
     },
     "metadata": {
      "needs_background": "light"
     },
     "output_type": "display_data"
    }
   ],
   "source": [
    "# распределение по годам\n",
    "fig, ax = plt.subplots(figsize=(10,4))\n",
    "\n",
    "ax = graf(data_set, 'years', 'target_class')\n",
    "ax.grid(True)"
   ]
  },
  {
   "cell_type": "code",
   "execution_count": 59,
   "id": "bf327da6",
   "metadata": {},
   "outputs": [
    {
     "data": {
      "image/png": "[encoded data removed]",
      "text/plain": [
       "<Figure size 720x288 with 1 Axes>"
      ]
     },
     "metadata": {
      "needs_background": "light"
     },
     "output_type": "display_data"
    }
   ],
   "source": [
    "fig, ax = plt.subplots(figsize=(10,4))\n",
    "\n",
    "ax = data_set.loc[data_set['years'] > 80, 'years'].hist() #-> заменить на медиа"
   ]
  },
  {
   "cell_type": "code",
   "execution_count": 60,
   "id": "62bd4e9e",
   "metadata": {},
   "outputs": [
    {
     "data": {
      "text/plain": [
       "35.0"
      ]
     },
     "execution_count": 60,
     "metadata": {},
     "output_type": "execute_result"
    }
   ],
   "source": [
    "data_set['years'].median()"
   ]
  },
  {
   "cell_type": "code",
   "execution_count": 61,
   "id": "260691f5",
   "metadata": {},
   "outputs": [],
   "source": [
    "data_set.loc[data_set['years'] > 80, 'years'] = data_set['years'].median()"
   ]
  },
  {
   "cell_type": "code",
   "execution_count": 62,
   "id": "e290631c",
   "metadata": {},
   "outputs": [
    {
     "data": {
      "image/png": "[encoded data removed]",
      "text/plain": [
       "<Figure size 720x288 with 1 Axes>"
      ]
     },
     "metadata": {
      "needs_background": "light"
     },
     "output_type": "display_data"
    }
   ],
   "source": [
    "# распределение по годам\n",
    "fig, ax = plt.subplots(figsize=(10,4))\n",
    "\n",
    "ax = graf(data_set, 'years', 'target_class')\n",
    "ax.grid(True)"
   ]
  },
  {
   "cell_type": "markdown",
   "id": "bba2c17b",
   "metadata": {},
   "source": [
    "#### Вывод рассмотрены распределния числовых признаков по target_class"
   ]
  },
  {
   "cell_type": "code",
   "execution_count": 63,
   "id": "74d2fbdd",
   "metadata": {},
   "outputs": [
    {
     "data": {
      "image/png": "[encoded data removed]",
      "text/plain": [
       "<Figure size 720x216 with 1 Axes>"
      ]
     },
     "metadata": {
      "needs_background": "light"
     },
     "output_type": "display_data"
    },
    {
     "data": {
      "image/png": "[encoded data removed]",
      "text/plain": [
       "<Figure size 720x216 with 1 Axes>"
      ]
     },
     "metadata": {
      "needs_background": "light"
     },
     "output_type": "display_data"
    },
    {
     "data": {
      "image/png": "[encoded data removed]",
      "text/plain": [
       "<Figure size 720x216 with 1 Axes>"
      ]
     },
     "metadata": {
      "needs_background": "light"
     },
     "output_type": "display_data"
    },
    {
     "data": {
      "image/png": "[encoded data removed]",
      "text/plain": [
       "<Figure size 720x216 with 1 Axes>"
      ]
     },
     "metadata": {
      "needs_background": "light"
     },
     "output_type": "display_data"
    }
   ],
   "source": [
    "columns_temp = ['Наименование района','Наименование подразделения',\n",
    "                'Наименование материала', 'Наименование принадлежности имущества']\n",
    "\n",
    "for el in columns_temp:\n",
    "    fig, ax = plt.subplots(figsize = (10,3))\n",
    "    ax = data_set[el].hist()\n",
    "    ax.tick_params(axis='x', labelrotation = 90)"
   ]
  },
  {
   "cell_type": "code",
   "execution_count": 64,
   "id": "f25b7dfa",
   "metadata": {},
   "outputs": [
    {
     "data": {
      "image/png": "[encoded data removed]",
      "text/plain": [
       "<Figure size 720x288 with 1 Axes>"
      ]
     },
     "metadata": {
      "needs_background": "light"
     },
     "output_type": "display_data"
    },
    {
     "data": {
      "image/png": "[encoded data removed]",
      "text/plain": [
       "<Figure size 720x288 with 1 Axes>"
      ]
     },
     "metadata": {
      "needs_background": "light"
     },
     "output_type": "display_data"
    },
    {
     "data": {
      "image/png": "[encoded data removed]",
      "text/plain": [
       "<Figure size 720x288 with 1 Axes>"
      ]
     },
     "metadata": {
      "needs_background": "light"
     },
     "output_type": "display_data"
    },
    {
     "data": {
      "image/png": "[encoded data removed]",
      "text/plain": [
       "<Figure size 720x288 with 1 Axes>"
      ]
     },
     "metadata": {
      "needs_background": "light"
     },
     "output_type": "display_data"
    }
   ],
   "source": [
    "for column in columns_temp:\n",
    "    # распределение по годам\n",
    "    fig, ax = plt.subplots(figsize=(10,4))\n",
    "    ax = graf(data_set, column, 'target_class')\n",
    "    ax.tick_params(axis='x', labelrotation = 90)\n",
    "    ax.set_title(column)\n",
    "    ax.grid(True)"
   ]
  },
  {
   "cell_type": "markdown",
   "id": "067bd1d4",
   "metadata": {},
   "source": [
    "#### Матрицы корреляций"
   ]
  },
  {
   "cell_type": "code",
   "execution_count": 65,
   "id": "f2f92d17",
   "metadata": {},
   "outputs": [
    {
     "data": {
      "image/png": "[encoded data removed]",
      "text/plain": [
       "<Figure size 1152x648 with 2 Axes>"
      ]
     },
     "metadata": {
      "needs_background": "light"
     },
     "output_type": "display_data"
    }
   ],
   "source": [
    "# Корреляции\n",
    "# Ex.: https://github.com/smddyakonov/otus_ds_dyakonov/blob/main/hw-4/hw_4_smndyakonov.ipynb, 231 строка\n",
    "data_set.corr() # - матрица корреляций [прямолинейная связь, y = kx +b]\n",
    "plt.subplots(figsize=(16,9))\n",
    "sns.heatmap(data_set.corr(), cmap=sns.color_palette(\"coolwarm\", 10000), annot=True, fmt='.2f', vmin=-1, center=0)\n",
    "plt.show()"
   ]
  },
  {
   "cell_type": "code",
   "execution_count": 66,
   "id": "45f1d554",
   "metadata": {},
   "outputs": [
    {
     "name": "stdout",
     "output_type": "stream",
     "text": [
      "interval columns not set, guessing: ['target_class', 'Длина, пог.м.', 'Диаметр, мм.', 'years']\n",
      "interval columns not set, guessing: ['target_class', 'Длина, пог.м.', 'Диаметр, мм.', 'years']\n"
     ]
    },
    {
     "data": {
      "image/png": "[encoded data removed]",
      "text/plain": [
       "<Figure size 1152x648 with 2 Axes>"
      ]
     },
     "metadata": {
      "needs_background": "light"
     },
     "output_type": "display_data"
    }
   ],
   "source": [
    "data_set.phik_matrix() # - матрица корреляций [прямолинейная связь, y = kx +b]\n",
    "plt.subplots(figsize=(16,9))\n",
    "sns.heatmap(data_set.phik_matrix(), cmap=sns.color_palette(\"coolwarm\", 10000), annot=True, fmt='.2f', vmin=-1, center=0)\n",
    "plt.show()"
   ]
  },
  {
   "cell_type": "markdown",
   "id": "20630fb2",
   "metadata": {},
   "source": [
    "## Конструирование признаков"
   ]
  },
  {
   "cell_type": "markdown",
   "id": "903bc5bb",
   "metadata": {},
   "source": [
    "### Делаю data_set_learning\n",
    "1. Выбор столбцов \n",
    "'target_class', \n",
    "'Наименование района',\n",
    "'Наименование подразделения',\n",
    "'years',\n",
    "'Наименование материала',\n",
    "'Наименование принадлежности имущества',\n",
    "'Длина, пог.м.',\n",
    "'Диаметр, мм.'\n",
    "2. Проведу кодировку столбцов 'Наименование района' - OrdinalEncoder 'Наименование подразделения' - OrdinalEncoder 'Наименование материала' - частотный 'Наименование принадлежности имущества' - OrdinalEncoder"
   ]
  },
  {
   "cell_type": "code",
   "execution_count": 67,
   "id": "c2f47673",
   "metadata": {},
   "outputs": [],
   "source": [
    "data_set_learning = data_set[['target_class', \n",
    "                             'Наименование района',\n",
    "                             'Наименование подразделения',\n",
    "                             'years',\n",
    "                             'Наименование материала',\n",
    "                             'Наименование принадлежности имущества',\n",
    "                             'Длина, пог.м.',\n",
    "                             'Диаметр, мм.']].copy()"
   ]
  },
  {
   "cell_type": "code",
   "execution_count": 68,
   "id": "86d53452",
   "metadata": {},
   "outputs": [
    {
     "data": {
      "text/html": [
       "<div><div id=c1f9ca5a-e2a9-4893-af56-f06fe244f135 style=\"display:none; background-color:#9D6CFF; color:white; width:200px; height:30px; padding-left:5px; border-radius:4px; flex-direction:row; justify-content:space-around; align-items:center;\" onmouseover=\"this.style.backgroundColor='#BA9BF8'\" onmouseout=\"this.style.backgroundColor='#9D6CFF'\" onclick=\"window.commands?.execute('create-mitosheet-from-dataframe-output');\">See Full Dataframe in Mito</div> <script> if (window.commands?.hasCommand('create-mitosheet-from-dataframe-output')) document.getElementById('c1f9ca5a-e2a9-4893-af56-f06fe244f135').style.display = 'flex' </script> <table border=\"1\" class=\"dataframe\">\n",
       "  <thead>\n",
       "    <tr style=\"text-align: right;\">\n",
       "      <th></th>\n",
       "      <th>target_class</th>\n",
       "      <th>Наименование района</th>\n",
       "      <th>Наименование подразделения</th>\n",
       "      <th>years</th>\n",
       "      <th>Наименование материала</th>\n",
       "      <th>Наименование принадлежности имущества</th>\n",
       "      <th>Длина, пог.м.</th>\n",
       "      <th>Диаметр, мм.</th>\n",
       "    </tr>\n",
       "  </thead>\n",
       "  <tbody>\n",
       "    <tr>\n",
       "      <th>0</th>\n",
       "      <td>1</td>\n",
       "      <td>КИРОВСКИЙ</td>\n",
       "      <td>Эксплуатационный участок цех №3</td>\n",
       "      <td>53</td>\n",
       "      <td>чугун</td>\n",
       "      <td>На обслуживании</td>\n",
       "      <td>36.86</td>\n",
       "      <td>100.0</td>\n",
       "    </tr>\n",
       "    <tr>\n",
       "      <th>1</th>\n",
       "      <td>1</td>\n",
       "      <td>КИРОВСКИЙ</td>\n",
       "      <td>Эксплуатационный участок цех №3</td>\n",
       "      <td>53</td>\n",
       "      <td>сталь</td>\n",
       "      <td>На обслуживании</td>\n",
       "      <td>755.00</td>\n",
       "      <td>200.0</td>\n",
       "    </tr>\n",
       "    <tr>\n",
       "      <th>2</th>\n",
       "      <td>1</td>\n",
       "      <td>КИРОВСКИЙ</td>\n",
       "      <td>Эксплуатационный участок цех №3</td>\n",
       "      <td>53</td>\n",
       "      <td>чугун</td>\n",
       "      <td>На обслуживании</td>\n",
       "      <td>202.80</td>\n",
       "      <td>200.0</td>\n",
       "    </tr>\n",
       "    <tr>\n",
       "      <th>3</th>\n",
       "      <td>0</td>\n",
       "      <td>КИРОВСКИЙ</td>\n",
       "      <td>Эксплуатационный участок цех №3</td>\n",
       "      <td>53</td>\n",
       "      <td>чугун</td>\n",
       "      <td>На обслуживании</td>\n",
       "      <td>198.40</td>\n",
       "      <td>200.0</td>\n",
       "    </tr>\n",
       "    <tr>\n",
       "      <th>4</th>\n",
       "      <td>0</td>\n",
       "      <td>КИРОВСКИЙ</td>\n",
       "      <td>Эксплуатационный участок цех №3</td>\n",
       "      <td>53</td>\n",
       "      <td>сталь</td>\n",
       "      <td>На обслуживании</td>\n",
       "      <td>328.26</td>\n",
       "      <td>100.0</td>\n",
       "    </tr>\n",
       "    <tr>\n",
       "      <th>...</th>\n",
       "      <td>...</td>\n",
       "      <td>...</td>\n",
       "      <td>...</td>\n",
       "      <td>...</td>\n",
       "      <td>...</td>\n",
       "      <td>...</td>\n",
       "      <td>...</td>\n",
       "      <td>...</td>\n",
       "    </tr>\n",
       "    <tr>\n",
       "      <th>6112</th>\n",
       "      <td>0</td>\n",
       "      <td>СВЕРДЛОВСКИЙ</td>\n",
       "      <td>Свердловский  участок цех №4</td>\n",
       "      <td>58</td>\n",
       "      <td>чугун</td>\n",
       "      <td>Концессия</td>\n",
       "      <td>40.22</td>\n",
       "      <td>100.0</td>\n",
       "    </tr>\n",
       "    <tr>\n",
       "      <th>6113</th>\n",
       "      <td>0</td>\n",
       "      <td>СВЕРДЛОВСКИЙ</td>\n",
       "      <td>Свердловский  участок цех №4</td>\n",
       "      <td>58</td>\n",
       "      <td>чугун</td>\n",
       "      <td>Концессия</td>\n",
       "      <td>69.85</td>\n",
       "      <td>100.0</td>\n",
       "    </tr>\n",
       "    <tr>\n",
       "      <th>6114</th>\n",
       "      <td>1</td>\n",
       "      <td>СВЕРДЛОВСКИЙ</td>\n",
       "      <td>Свердловский  участок цех №4</td>\n",
       "      <td>58</td>\n",
       "      <td>чугун</td>\n",
       "      <td>Концессия</td>\n",
       "      <td>372.42</td>\n",
       "      <td>100.0</td>\n",
       "    </tr>\n",
       "    <tr>\n",
       "      <th>6115</th>\n",
       "      <td>0</td>\n",
       "      <td>СВЕРДЛОВСКИЙ</td>\n",
       "      <td>Свердловский  участок цех №4</td>\n",
       "      <td>68</td>\n",
       "      <td>сталь</td>\n",
       "      <td>Концессия</td>\n",
       "      <td>777.00</td>\n",
       "      <td>200.0</td>\n",
       "    </tr>\n",
       "    <tr>\n",
       "      <th>6116</th>\n",
       "      <td>0</td>\n",
       "      <td>СВЕРДЛОВСКИЙ</td>\n",
       "      <td>Свердловский  участок цех №4</td>\n",
       "      <td>23</td>\n",
       "      <td>сталь</td>\n",
       "      <td>Концессия</td>\n",
       "      <td>42.00</td>\n",
       "      <td>400.0</td>\n",
       "    </tr>\n",
       "  </tbody>\n",
       "</table></div>"
      ],
      "text/plain": [
       "      target_class Наименование района       Наименование подразделения  \\\n",
       "0                1           КИРОВСКИЙ  Эксплуатационный участок цех №3   \n",
       "1                1           КИРОВСКИЙ  Эксплуатационный участок цех №3   \n",
       "2                1           КИРОВСКИЙ  Эксплуатационный участок цех №3   \n",
       "3                0           КИРОВСКИЙ  Эксплуатационный участок цех №3   \n",
       "4                0           КИРОВСКИЙ  Эксплуатационный участок цех №3   \n",
       "...            ...                 ...                              ...   \n",
       "6112             0        СВЕРДЛОВСКИЙ     Свердловский  участок цех №4   \n",
       "6113             0        СВЕРДЛОВСКИЙ     Свердловский  участок цех №4   \n",
       "6114             1        СВЕРДЛОВСКИЙ     Свердловский  участок цех №4   \n",
       "6115             0        СВЕРДЛОВСКИЙ     Свердловский  участок цех №4   \n",
       "6116             0        СВЕРДЛОВСКИЙ     Свердловский  участок цех №4   \n",
       "\n",
       "      years Наименование материала Наименование принадлежности имущества  \\\n",
       "0        53                  чугун                       На обслуживании   \n",
       "1        53                  сталь                       На обслуживании   \n",
       "2        53                  чугун                       На обслуживании   \n",
       "3        53                  чугун                       На обслуживании   \n",
       "4        53                  сталь                       На обслуживании   \n",
       "...     ...                    ...                                   ...   \n",
       "6112     58                  чугун                             Концессия   \n",
       "6113     58                  чугун                             Концессия   \n",
       "6114     58                  чугун                             Концессия   \n",
       "6115     68                  сталь                             Концессия   \n",
       "6116     23                  сталь                             Концессия   \n",
       "\n",
       "      Длина, пог.м.  Диаметр, мм.  \n",
       "0             36.86         100.0  \n",
       "1            755.00         200.0  \n",
       "2            202.80         200.0  \n",
       "3            198.40         200.0  \n",
       "4            328.26         100.0  \n",
       "...             ...           ...  \n",
       "6112          40.22         100.0  \n",
       "6113          69.85         100.0  \n",
       "6114         372.42         100.0  \n",
       "6115         777.00         200.0  \n",
       "6116          42.00         400.0  \n",
       "\n",
       "[6117 rows x 8 columns]"
      ]
     },
     "execution_count": 68,
     "metadata": {},
     "output_type": "execute_result"
    }
   ],
   "source": [
    "data_set_learning"
   ]
  },
  {
   "cell_type": "code",
   "execution_count": 69,
   "id": "c79f4bff",
   "metadata": {},
   "outputs": [],
   "source": [
    "label_encoder = LabelEncoder()"
   ]
  },
  {
   "cell_type": "code",
   "execution_count": 70,
   "id": "8293d18c",
   "metadata": {},
   "outputs": [],
   "source": [
    "data_set_learning['district'] = label_encoder.fit_transform(data_set_learning['Наименование района'])\n",
    "data_set_learning['user'] = label_encoder.fit_transform(data_set_learning['Наименование подразделения'])\n",
    "data_set_learning['material'] = label_encoder.fit_transform(data_set_learning['Наименование материала'])\n",
    "data_set_learning['belong'] = label_encoder.fit_transform(data_set_learning['Наименование принадлежности имущества'])"
   ]
  },
  {
   "cell_type": "code",
   "execution_count": 71,
   "id": "5fd3fb87",
   "metadata": {},
   "outputs": [
    {
     "data": {
      "text/html": [
       "<div><div id=1a6e80a7-616c-438a-bfc6-176c94459952 style=\"display:none; background-color:#9D6CFF; color:white; width:200px; height:30px; padding-left:5px; border-radius:4px; flex-direction:row; justify-content:space-around; align-items:center;\" onmouseover=\"this.style.backgroundColor='#BA9BF8'\" onmouseout=\"this.style.backgroundColor='#9D6CFF'\" onclick=\"window.commands?.execute('create-mitosheet-from-dataframe-output');\">See Full Dataframe in Mito</div> <script> if (window.commands?.hasCommand('create-mitosheet-from-dataframe-output')) document.getElementById('1a6e80a7-616c-438a-bfc6-176c94459952').style.display = 'flex' </script> <table border=\"1\" class=\"dataframe\">\n",
       "  <thead>\n",
       "    <tr style=\"text-align: right;\">\n",
       "      <th></th>\n",
       "      <th>target_class</th>\n",
       "      <th>Наименование района</th>\n",
       "      <th>Наименование подразделения</th>\n",
       "      <th>years</th>\n",
       "      <th>Наименование материала</th>\n",
       "      <th>Наименование принадлежности имущества</th>\n",
       "      <th>Длина, пог.м.</th>\n",
       "      <th>Диаметр, мм.</th>\n",
       "      <th>district</th>\n",
       "      <th>user</th>\n",
       "      <th>material</th>\n",
       "      <th>belong</th>\n",
       "    </tr>\n",
       "  </thead>\n",
       "  <tbody>\n",
       "    <tr>\n",
       "      <th>0</th>\n",
       "      <td>1</td>\n",
       "      <td>КИРОВСКИЙ</td>\n",
       "      <td>Эксплуатационный участок цех №3</td>\n",
       "      <td>53</td>\n",
       "      <td>чугун</td>\n",
       "      <td>На обслуживании</td>\n",
       "      <td>36.86</td>\n",
       "      <td>100.0</td>\n",
       "      <td>2</td>\n",
       "      <td>6</td>\n",
       "      <td>9</td>\n",
       "      <td>4</td>\n",
       "    </tr>\n",
       "    <tr>\n",
       "      <th>1</th>\n",
       "      <td>1</td>\n",
       "      <td>КИРОВСКИЙ</td>\n",
       "      <td>Эксплуатационный участок цех №3</td>\n",
       "      <td>53</td>\n",
       "      <td>сталь</td>\n",
       "      <td>На обслуживании</td>\n",
       "      <td>755.00</td>\n",
       "      <td>200.0</td>\n",
       "      <td>2</td>\n",
       "      <td>6</td>\n",
       "      <td>7</td>\n",
       "      <td>4</td>\n",
       "    </tr>\n",
       "    <tr>\n",
       "      <th>2</th>\n",
       "      <td>1</td>\n",
       "      <td>КИРОВСКИЙ</td>\n",
       "      <td>Эксплуатационный участок цех №3</td>\n",
       "      <td>53</td>\n",
       "      <td>чугун</td>\n",
       "      <td>На обслуживании</td>\n",
       "      <td>202.80</td>\n",
       "      <td>200.0</td>\n",
       "      <td>2</td>\n",
       "      <td>6</td>\n",
       "      <td>9</td>\n",
       "      <td>4</td>\n",
       "    </tr>\n",
       "    <tr>\n",
       "      <th>3</th>\n",
       "      <td>0</td>\n",
       "      <td>КИРОВСКИЙ</td>\n",
       "      <td>Эксплуатационный участок цех №3</td>\n",
       "      <td>53</td>\n",
       "      <td>чугун</td>\n",
       "      <td>На обслуживании</td>\n",
       "      <td>198.40</td>\n",
       "      <td>200.0</td>\n",
       "      <td>2</td>\n",
       "      <td>6</td>\n",
       "      <td>9</td>\n",
       "      <td>4</td>\n",
       "    </tr>\n",
       "    <tr>\n",
       "      <th>4</th>\n",
       "      <td>0</td>\n",
       "      <td>КИРОВСКИЙ</td>\n",
       "      <td>Эксплуатационный участок цех №3</td>\n",
       "      <td>53</td>\n",
       "      <td>сталь</td>\n",
       "      <td>На обслуживании</td>\n",
       "      <td>328.26</td>\n",
       "      <td>100.0</td>\n",
       "      <td>2</td>\n",
       "      <td>6</td>\n",
       "      <td>7</td>\n",
       "      <td>4</td>\n",
       "    </tr>\n",
       "    <tr>\n",
       "      <th>...</th>\n",
       "      <td>...</td>\n",
       "      <td>...</td>\n",
       "      <td>...</td>\n",
       "      <td>...</td>\n",
       "      <td>...</td>\n",
       "      <td>...</td>\n",
       "      <td>...</td>\n",
       "      <td>...</td>\n",
       "      <td>...</td>\n",
       "      <td>...</td>\n",
       "      <td>...</td>\n",
       "      <td>...</td>\n",
       "    </tr>\n",
       "    <tr>\n",
       "      <th>6112</th>\n",
       "      <td>0</td>\n",
       "      <td>СВЕРДЛОВСКИЙ</td>\n",
       "      <td>Свердловский  участок цех №4</td>\n",
       "      <td>58</td>\n",
       "      <td>чугун</td>\n",
       "      <td>Концессия</td>\n",
       "      <td>40.22</td>\n",
       "      <td>100.0</td>\n",
       "      <td>7</td>\n",
       "      <td>3</td>\n",
       "      <td>9</td>\n",
       "      <td>3</td>\n",
       "    </tr>\n",
       "    <tr>\n",
       "      <th>6113</th>\n",
       "      <td>0</td>\n",
       "      <td>СВЕРДЛОВСКИЙ</td>\n",
       "      <td>Свердловский  участок цех №4</td>\n",
       "      <td>58</td>\n",
       "      <td>чугун</td>\n",
       "      <td>Концессия</td>\n",
       "      <td>69.85</td>\n",
       "      <td>100.0</td>\n",
       "      <td>7</td>\n",
       "      <td>3</td>\n",
       "      <td>9</td>\n",
       "      <td>3</td>\n",
       "    </tr>\n",
       "    <tr>\n",
       "      <th>6114</th>\n",
       "      <td>1</td>\n",
       "      <td>СВЕРДЛОВСКИЙ</td>\n",
       "      <td>Свердловский  участок цех №4</td>\n",
       "      <td>58</td>\n",
       "      <td>чугун</td>\n",
       "      <td>Концессия</td>\n",
       "      <td>372.42</td>\n",
       "      <td>100.0</td>\n",
       "      <td>7</td>\n",
       "      <td>3</td>\n",
       "      <td>9</td>\n",
       "      <td>3</td>\n",
       "    </tr>\n",
       "    <tr>\n",
       "      <th>6115</th>\n",
       "      <td>0</td>\n",
       "      <td>СВЕРДЛОВСКИЙ</td>\n",
       "      <td>Свердловский  участок цех №4</td>\n",
       "      <td>68</td>\n",
       "      <td>сталь</td>\n",
       "      <td>Концессия</td>\n",
       "      <td>777.00</td>\n",
       "      <td>200.0</td>\n",
       "      <td>7</td>\n",
       "      <td>3</td>\n",
       "      <td>7</td>\n",
       "      <td>3</td>\n",
       "    </tr>\n",
       "    <tr>\n",
       "      <th>6116</th>\n",
       "      <td>0</td>\n",
       "      <td>СВЕРДЛОВСКИЙ</td>\n",
       "      <td>Свердловский  участок цех №4</td>\n",
       "      <td>23</td>\n",
       "      <td>сталь</td>\n",
       "      <td>Концессия</td>\n",
       "      <td>42.00</td>\n",
       "      <td>400.0</td>\n",
       "      <td>7</td>\n",
       "      <td>3</td>\n",
       "      <td>7</td>\n",
       "      <td>3</td>\n",
       "    </tr>\n",
       "  </tbody>\n",
       "</table></div>"
      ],
      "text/plain": [
       "      target_class Наименование района       Наименование подразделения  \\\n",
       "0                1           КИРОВСКИЙ  Эксплуатационный участок цех №3   \n",
       "1                1           КИРОВСКИЙ  Эксплуатационный участок цех №3   \n",
       "2                1           КИРОВСКИЙ  Эксплуатационный участок цех №3   \n",
       "3                0           КИРОВСКИЙ  Эксплуатационный участок цех №3   \n",
       "4                0           КИРОВСКИЙ  Эксплуатационный участок цех №3   \n",
       "...            ...                 ...                              ...   \n",
       "6112             0        СВЕРДЛОВСКИЙ     Свердловский  участок цех №4   \n",
       "6113             0        СВЕРДЛОВСКИЙ     Свердловский  участок цех №4   \n",
       "6114             1        СВЕРДЛОВСКИЙ     Свердловский  участок цех №4   \n",
       "6115             0        СВЕРДЛОВСКИЙ     Свердловский  участок цех №4   \n",
       "6116             0        СВЕРДЛОВСКИЙ     Свердловский  участок цех №4   \n",
       "\n",
       "      years Наименование материала Наименование принадлежности имущества  \\\n",
       "0        53                  чугун                       На обслуживании   \n",
       "1        53                  сталь                       На обслуживании   \n",
       "2        53                  чугун                       На обслуживании   \n",
       "3        53                  чугун                       На обслуживании   \n",
       "4        53                  сталь                       На обслуживании   \n",
       "...     ...                    ...                                   ...   \n",
       "6112     58                  чугун                             Концессия   \n",
       "6113     58                  чугун                             Концессия   \n",
       "6114     58                  чугун                             Концессия   \n",
       "6115     68                  сталь                             Концессия   \n",
       "6116     23                  сталь                             Концессия   \n",
       "\n",
       "      Длина, пог.м.  Диаметр, мм.  district  user  material  belong  \n",
       "0             36.86         100.0         2     6         9       4  \n",
       "1            755.00         200.0         2     6         7       4  \n",
       "2            202.80         200.0         2     6         9       4  \n",
       "3            198.40         200.0         2     6         9       4  \n",
       "4            328.26         100.0         2     6         7       4  \n",
       "...             ...           ...       ...   ...       ...     ...  \n",
       "6112          40.22         100.0         7     3         9       3  \n",
       "6113          69.85         100.0         7     3         9       3  \n",
       "6114         372.42         100.0         7     3         9       3  \n",
       "6115         777.00         200.0         7     3         7       3  \n",
       "6116          42.00         400.0         7     3         7       3  \n",
       "\n",
       "[6117 rows x 12 columns]"
      ]
     },
     "execution_count": 71,
     "metadata": {},
     "output_type": "execute_result"
    }
   ],
   "source": [
    "data_set_learning"
   ]
  },
  {
   "cell_type": "code",
   "execution_count": 72,
   "id": "9aa00425",
   "metadata": {},
   "outputs": [],
   "source": [
    "data_set_learning = data_set_learning[['target_class', \n",
    "                                       'Длина, пог.м.', \n",
    "                                       'Диаметр, мм.', \n",
    "                                       'years', \n",
    "                                       'district', \n",
    "                                       'user', \n",
    "                                       'material', \n",
    "                                       'belong']]"
   ]
  },
  {
   "cell_type": "code",
   "execution_count": 73,
   "id": "ccbc67c2",
   "metadata": {},
   "outputs": [
    {
     "data": {
      "text/html": [
       "<div><div id=6aa3ccad-1164-4413-8585-d299b8b48fb4 style=\"display:none; background-color:#9D6CFF; color:white; width:200px; height:30px; padding-left:5px; border-radius:4px; flex-direction:row; justify-content:space-around; align-items:center;\" onmouseover=\"this.style.backgroundColor='#BA9BF8'\" onmouseout=\"this.style.backgroundColor='#9D6CFF'\" onclick=\"window.commands?.execute('create-mitosheet-from-dataframe-output');\">See Full Dataframe in Mito</div> <script> if (window.commands?.hasCommand('create-mitosheet-from-dataframe-output')) document.getElementById('6aa3ccad-1164-4413-8585-d299b8b48fb4').style.display = 'flex' </script> <table border=\"1\" class=\"dataframe\">\n",
       "  <thead>\n",
       "    <tr style=\"text-align: right;\">\n",
       "      <th></th>\n",
       "      <th>target_class</th>\n",
       "      <th>Длина, пог.м.</th>\n",
       "      <th>Диаметр, мм.</th>\n",
       "      <th>years</th>\n",
       "      <th>district</th>\n",
       "      <th>user</th>\n",
       "      <th>material</th>\n",
       "      <th>belong</th>\n",
       "    </tr>\n",
       "  </thead>\n",
       "  <tbody>\n",
       "    <tr>\n",
       "      <th>0</th>\n",
       "      <td>1</td>\n",
       "      <td>36.86</td>\n",
       "      <td>100.0</td>\n",
       "      <td>53</td>\n",
       "      <td>2</td>\n",
       "      <td>6</td>\n",
       "      <td>9</td>\n",
       "      <td>4</td>\n",
       "    </tr>\n",
       "    <tr>\n",
       "      <th>1</th>\n",
       "      <td>1</td>\n",
       "      <td>755.00</td>\n",
       "      <td>200.0</td>\n",
       "      <td>53</td>\n",
       "      <td>2</td>\n",
       "      <td>6</td>\n",
       "      <td>7</td>\n",
       "      <td>4</td>\n",
       "    </tr>\n",
       "    <tr>\n",
       "      <th>2</th>\n",
       "      <td>1</td>\n",
       "      <td>202.80</td>\n",
       "      <td>200.0</td>\n",
       "      <td>53</td>\n",
       "      <td>2</td>\n",
       "      <td>6</td>\n",
       "      <td>9</td>\n",
       "      <td>4</td>\n",
       "    </tr>\n",
       "    <tr>\n",
       "      <th>3</th>\n",
       "      <td>0</td>\n",
       "      <td>198.40</td>\n",
       "      <td>200.0</td>\n",
       "      <td>53</td>\n",
       "      <td>2</td>\n",
       "      <td>6</td>\n",
       "      <td>9</td>\n",
       "      <td>4</td>\n",
       "    </tr>\n",
       "    <tr>\n",
       "      <th>4</th>\n",
       "      <td>0</td>\n",
       "      <td>328.26</td>\n",
       "      <td>100.0</td>\n",
       "      <td>53</td>\n",
       "      <td>2</td>\n",
       "      <td>6</td>\n",
       "      <td>7</td>\n",
       "      <td>4</td>\n",
       "    </tr>\n",
       "    <tr>\n",
       "      <th>...</th>\n",
       "      <td>...</td>\n",
       "      <td>...</td>\n",
       "      <td>...</td>\n",
       "      <td>...</td>\n",
       "      <td>...</td>\n",
       "      <td>...</td>\n",
       "      <td>...</td>\n",
       "      <td>...</td>\n",
       "    </tr>\n",
       "    <tr>\n",
       "      <th>6112</th>\n",
       "      <td>0</td>\n",
       "      <td>40.22</td>\n",
       "      <td>100.0</td>\n",
       "      <td>58</td>\n",
       "      <td>7</td>\n",
       "      <td>3</td>\n",
       "      <td>9</td>\n",
       "      <td>3</td>\n",
       "    </tr>\n",
       "    <tr>\n",
       "      <th>6113</th>\n",
       "      <td>0</td>\n",
       "      <td>69.85</td>\n",
       "      <td>100.0</td>\n",
       "      <td>58</td>\n",
       "      <td>7</td>\n",
       "      <td>3</td>\n",
       "      <td>9</td>\n",
       "      <td>3</td>\n",
       "    </tr>\n",
       "    <tr>\n",
       "      <th>6114</th>\n",
       "      <td>1</td>\n",
       "      <td>372.42</td>\n",
       "      <td>100.0</td>\n",
       "      <td>58</td>\n",
       "      <td>7</td>\n",
       "      <td>3</td>\n",
       "      <td>9</td>\n",
       "      <td>3</td>\n",
       "    </tr>\n",
       "    <tr>\n",
       "      <th>6115</th>\n",
       "      <td>0</td>\n",
       "      <td>777.00</td>\n",
       "      <td>200.0</td>\n",
       "      <td>68</td>\n",
       "      <td>7</td>\n",
       "      <td>3</td>\n",
       "      <td>7</td>\n",
       "      <td>3</td>\n",
       "    </tr>\n",
       "    <tr>\n",
       "      <th>6116</th>\n",
       "      <td>0</td>\n",
       "      <td>42.00</td>\n",
       "      <td>400.0</td>\n",
       "      <td>23</td>\n",
       "      <td>7</td>\n",
       "      <td>3</td>\n",
       "      <td>7</td>\n",
       "      <td>3</td>\n",
       "    </tr>\n",
       "  </tbody>\n",
       "</table></div>"
      ],
      "text/plain": [
       "      target_class  Длина, пог.м.  Диаметр, мм.  years  district  user  \\\n",
       "0                1          36.86         100.0     53         2     6   \n",
       "1                1         755.00         200.0     53         2     6   \n",
       "2                1         202.80         200.0     53         2     6   \n",
       "3                0         198.40         200.0     53         2     6   \n",
       "4                0         328.26         100.0     53         2     6   \n",
       "...            ...            ...           ...    ...       ...   ...   \n",
       "6112             0          40.22         100.0     58         7     3   \n",
       "6113             0          69.85         100.0     58         7     3   \n",
       "6114             1         372.42         100.0     58         7     3   \n",
       "6115             0         777.00         200.0     68         7     3   \n",
       "6116             0          42.00         400.0     23         7     3   \n",
       "\n",
       "      material  belong  \n",
       "0            9       4  \n",
       "1            7       4  \n",
       "2            9       4  \n",
       "3            9       4  \n",
       "4            7       4  \n",
       "...        ...     ...  \n",
       "6112         9       3  \n",
       "6113         9       3  \n",
       "6114         9       3  \n",
       "6115         7       3  \n",
       "6116         7       3  \n",
       "\n",
       "[6117 rows x 8 columns]"
      ]
     },
     "execution_count": 73,
     "metadata": {},
     "output_type": "execute_result"
    }
   ],
   "source": [
    "data_set_learning"
   ]
  },
  {
   "cell_type": "markdown",
   "id": "7b7a6fb0",
   "metadata": {},
   "source": [
    "## Моделирование"
   ]
  },
  {
   "cell_type": "code",
   "execution_count": 74,
   "id": "f931cee4",
   "metadata": {},
   "outputs": [],
   "source": [
    "# метрики качества буду собирать в дата-фрейм df_metrics. Создам функцию\n",
    "\n",
    "df_score = pd.DataFrame({\"score\":[\"Accuracy\", \"Precision\", \"Recall\", \"F1-score\", \"AUC\"]})\n",
    "df_score.set_index(\"score\")\n",
    "\n",
    "def get_df_score(classifier, y_expected, y_predicted, y_predicted_proba):\n",
    "    accuracy = accuracy_score(y_predicted, y_expected)\n",
    "    print(\"Accuracy:  {:.3f}\".format(accuracy))\n",
    "\n",
    "    precision = precision_score(y_predicted, y_expected)\n",
    "    print(\"Precision: {:.3f}\".format(precision))\n",
    "\n",
    "    recall = recall_score(y_predicted, y_expected)\n",
    "    print(\"Recall:    {:.3f}\".format(recall))\n",
    "\n",
    "    f1 = f1_score(y_predicted, y_expected)\n",
    "    print(\"F1-score:  {:.3f}\".format(f1))\n",
    "    \n",
    "    auc = roc_auc_score(y_expected, y_predicted_proba)\n",
    "    print(\"AUC:       {:.3f}\".format(auc))\n",
    "    \n",
    "    df_score[classifier] = [accuracy, precision, recall, f1, auc]"
   ]
  },
  {
   "cell_type": "code",
   "execution_count": 75,
   "id": "4ade0124",
   "metadata": {},
   "outputs": [
    {
     "data": {
      "text/plain": [
       "((6117, 7), (6117,))"
      ]
     },
     "execution_count": 75,
     "metadata": {},
     "output_type": "execute_result"
    }
   ],
   "source": [
    "#Сохраним в  𝑋 все колонки признаки, а в  𝑦 − целевую переменную.\n",
    "X = data_set_learning.drop('target_class', axis=1)\n",
    "y = data_set_learning['target_class']\n",
    "\n",
    "X.shape, y.shape"
   ]
  },
  {
   "cell_type": "code",
   "execution_count": 76,
   "id": "985ef86f",
   "metadata": {},
   "outputs": [
    {
     "data": {
      "text/html": [
       "<div><div id=a0ea1a01-eaad-46f6-8b81-91a4a4435e41 style=\"display:none; background-color:#9D6CFF; color:white; width:200px; height:30px; padding-left:5px; border-radius:4px; flex-direction:row; justify-content:space-around; align-items:center;\" onmouseover=\"this.style.backgroundColor='#BA9BF8'\" onmouseout=\"this.style.backgroundColor='#9D6CFF'\" onclick=\"window.commands?.execute('create-mitosheet-from-dataframe-output');\">See Full Dataframe in Mito</div> <script> if (window.commands?.hasCommand('create-mitosheet-from-dataframe-output')) document.getElementById('a0ea1a01-eaad-46f6-8b81-91a4a4435e41').style.display = 'flex' </script> <table border=\"1\" class=\"dataframe\">\n",
       "  <thead>\n",
       "    <tr style=\"text-align: right;\">\n",
       "      <th></th>\n",
       "      <th>Длина, пог.м.</th>\n",
       "      <th>Диаметр, мм.</th>\n",
       "      <th>years</th>\n",
       "      <th>district</th>\n",
       "      <th>user</th>\n",
       "      <th>material</th>\n",
       "      <th>belong</th>\n",
       "    </tr>\n",
       "  </thead>\n",
       "  <tbody>\n",
       "    <tr>\n",
       "      <th>0</th>\n",
       "      <td>36.86</td>\n",
       "      <td>100.0</td>\n",
       "      <td>53</td>\n",
       "      <td>2</td>\n",
       "      <td>6</td>\n",
       "      <td>9</td>\n",
       "      <td>4</td>\n",
       "    </tr>\n",
       "    <tr>\n",
       "      <th>1</th>\n",
       "      <td>755.00</td>\n",
       "      <td>200.0</td>\n",
       "      <td>53</td>\n",
       "      <td>2</td>\n",
       "      <td>6</td>\n",
       "      <td>7</td>\n",
       "      <td>4</td>\n",
       "    </tr>\n",
       "    <tr>\n",
       "      <th>2</th>\n",
       "      <td>202.80</td>\n",
       "      <td>200.0</td>\n",
       "      <td>53</td>\n",
       "      <td>2</td>\n",
       "      <td>6</td>\n",
       "      <td>9</td>\n",
       "      <td>4</td>\n",
       "    </tr>\n",
       "    <tr>\n",
       "      <th>3</th>\n",
       "      <td>198.40</td>\n",
       "      <td>200.0</td>\n",
       "      <td>53</td>\n",
       "      <td>2</td>\n",
       "      <td>6</td>\n",
       "      <td>9</td>\n",
       "      <td>4</td>\n",
       "    </tr>\n",
       "    <tr>\n",
       "      <th>4</th>\n",
       "      <td>328.26</td>\n",
       "      <td>100.0</td>\n",
       "      <td>53</td>\n",
       "      <td>2</td>\n",
       "      <td>6</td>\n",
       "      <td>7</td>\n",
       "      <td>4</td>\n",
       "    </tr>\n",
       "    <tr>\n",
       "      <th>...</th>\n",
       "      <td>...</td>\n",
       "      <td>...</td>\n",
       "      <td>...</td>\n",
       "      <td>...</td>\n",
       "      <td>...</td>\n",
       "      <td>...</td>\n",
       "      <td>...</td>\n",
       "    </tr>\n",
       "    <tr>\n",
       "      <th>6112</th>\n",
       "      <td>40.22</td>\n",
       "      <td>100.0</td>\n",
       "      <td>58</td>\n",
       "      <td>7</td>\n",
       "      <td>3</td>\n",
       "      <td>9</td>\n",
       "      <td>3</td>\n",
       "    </tr>\n",
       "    <tr>\n",
       "      <th>6113</th>\n",
       "      <td>69.85</td>\n",
       "      <td>100.0</td>\n",
       "      <td>58</td>\n",
       "      <td>7</td>\n",
       "      <td>3</td>\n",
       "      <td>9</td>\n",
       "      <td>3</td>\n",
       "    </tr>\n",
       "    <tr>\n",
       "      <th>6114</th>\n",
       "      <td>372.42</td>\n",
       "      <td>100.0</td>\n",
       "      <td>58</td>\n",
       "      <td>7</td>\n",
       "      <td>3</td>\n",
       "      <td>9</td>\n",
       "      <td>3</td>\n",
       "    </tr>\n",
       "    <tr>\n",
       "      <th>6115</th>\n",
       "      <td>777.00</td>\n",
       "      <td>200.0</td>\n",
       "      <td>68</td>\n",
       "      <td>7</td>\n",
       "      <td>3</td>\n",
       "      <td>7</td>\n",
       "      <td>3</td>\n",
       "    </tr>\n",
       "    <tr>\n",
       "      <th>6116</th>\n",
       "      <td>42.00</td>\n",
       "      <td>400.0</td>\n",
       "      <td>23</td>\n",
       "      <td>7</td>\n",
       "      <td>3</td>\n",
       "      <td>7</td>\n",
       "      <td>3</td>\n",
       "    </tr>\n",
       "  </tbody>\n",
       "</table></div>"
      ],
      "text/plain": [
       "      Длина, пог.м.  Диаметр, мм.  years  district  user  material  belong\n",
       "0             36.86         100.0     53         2     6         9       4\n",
       "1            755.00         200.0     53         2     6         7       4\n",
       "2            202.80         200.0     53         2     6         9       4\n",
       "3            198.40         200.0     53         2     6         9       4\n",
       "4            328.26         100.0     53         2     6         7       4\n",
       "...             ...           ...    ...       ...   ...       ...     ...\n",
       "6112          40.22         100.0     58         7     3         9       3\n",
       "6113          69.85         100.0     58         7     3         9       3\n",
       "6114         372.42         100.0     58         7     3         9       3\n",
       "6115         777.00         200.0     68         7     3         7       3\n",
       "6116          42.00         400.0     23         7     3         7       3\n",
       "\n",
       "[6117 rows x 7 columns]"
      ]
     },
     "execution_count": 76,
     "metadata": {},
     "output_type": "execute_result"
    }
   ],
   "source": [
    "X"
   ]
  },
  {
   "cell_type": "code",
   "execution_count": 77,
   "id": "64ae6634",
   "metadata": {},
   "outputs": [],
   "source": [
    "#Разобьем данные на тренировочный и тестовый наборы.\n",
    "X_train, X_test, y_train, y_test = train_test_split(X, y, test_size=0.3, random_state=42)"
   ]
  },
  {
   "cell_type": "code",
   "execution_count": 78,
   "id": "c1802398",
   "metadata": {},
   "outputs": [],
   "source": [
    "scaler_list = ['Длина, пог.м.', 'Диаметр, мм.', 'years', 'district', 'user','material', 'belong'] "
   ]
  },
  {
   "cell_type": "code",
   "execution_count": 79,
   "id": "e508d616",
   "metadata": {},
   "outputs": [],
   "source": [
    "#Приведу к одному масштабу непрерывные признаки\n",
    " \n",
    "X_train_scaled = X_train.copy()\n",
    "X_test_scaled = X_test.copy()\n",
    "\n",
    "scaler = MinMaxScaler()\n",
    "X_train_scaled[scaler_list] = scaler.fit_transform(X_train[scaler_list])\n",
    "X_test_scaled[scaler_list] = scaler.transform(X_test[scaler_list])"
   ]
  },
  {
   "cell_type": "code",
   "execution_count": 80,
   "id": "8cab6658",
   "metadata": {},
   "outputs": [
    {
     "data": {
      "text/html": [
       "<div><div id=209578ea-54db-4ee5-ae13-1c5b6b513393 style=\"display:none; background-color:#9D6CFF; color:white; width:200px; height:30px; padding-left:5px; border-radius:4px; flex-direction:row; justify-content:space-around; align-items:center;\" onmouseover=\"this.style.backgroundColor='#BA9BF8'\" onmouseout=\"this.style.backgroundColor='#9D6CFF'\" onclick=\"window.commands?.execute('create-mitosheet-from-dataframe-output');\">See Full Dataframe in Mito</div> <script> if (window.commands?.hasCommand('create-mitosheet-from-dataframe-output')) document.getElementById('209578ea-54db-4ee5-ae13-1c5b6b513393').style.display = 'flex' </script> <table border=\"1\" class=\"dataframe\">\n",
       "  <thead>\n",
       "    <tr style=\"text-align: right;\">\n",
       "      <th></th>\n",
       "      <th>Длина, пог.м.</th>\n",
       "      <th>Диаметр, мм.</th>\n",
       "      <th>years</th>\n",
       "      <th>district</th>\n",
       "      <th>user</th>\n",
       "      <th>material</th>\n",
       "      <th>belong</th>\n",
       "    </tr>\n",
       "  </thead>\n",
       "  <tbody>\n",
       "    <tr>\n",
       "      <th>0</th>\n",
       "      <td>36.86</td>\n",
       "      <td>100.0</td>\n",
       "      <td>53</td>\n",
       "      <td>2</td>\n",
       "      <td>6</td>\n",
       "      <td>9</td>\n",
       "      <td>4</td>\n",
       "    </tr>\n",
       "    <tr>\n",
       "      <th>1</th>\n",
       "      <td>755.00</td>\n",
       "      <td>200.0</td>\n",
       "      <td>53</td>\n",
       "      <td>2</td>\n",
       "      <td>6</td>\n",
       "      <td>7</td>\n",
       "      <td>4</td>\n",
       "    </tr>\n",
       "    <tr>\n",
       "      <th>2</th>\n",
       "      <td>202.80</td>\n",
       "      <td>200.0</td>\n",
       "      <td>53</td>\n",
       "      <td>2</td>\n",
       "      <td>6</td>\n",
       "      <td>9</td>\n",
       "      <td>4</td>\n",
       "    </tr>\n",
       "    <tr>\n",
       "      <th>3</th>\n",
       "      <td>198.40</td>\n",
       "      <td>200.0</td>\n",
       "      <td>53</td>\n",
       "      <td>2</td>\n",
       "      <td>6</td>\n",
       "      <td>9</td>\n",
       "      <td>4</td>\n",
       "    </tr>\n",
       "    <tr>\n",
       "      <th>4</th>\n",
       "      <td>328.26</td>\n",
       "      <td>100.0</td>\n",
       "      <td>53</td>\n",
       "      <td>2</td>\n",
       "      <td>6</td>\n",
       "      <td>7</td>\n",
       "      <td>4</td>\n",
       "    </tr>\n",
       "    <tr>\n",
       "      <th>...</th>\n",
       "      <td>...</td>\n",
       "      <td>...</td>\n",
       "      <td>...</td>\n",
       "      <td>...</td>\n",
       "      <td>...</td>\n",
       "      <td>...</td>\n",
       "      <td>...</td>\n",
       "    </tr>\n",
       "    <tr>\n",
       "      <th>6112</th>\n",
       "      <td>40.22</td>\n",
       "      <td>100.0</td>\n",
       "      <td>58</td>\n",
       "      <td>7</td>\n",
       "      <td>3</td>\n",
       "      <td>9</td>\n",
       "      <td>3</td>\n",
       "    </tr>\n",
       "    <tr>\n",
       "      <th>6113</th>\n",
       "      <td>69.85</td>\n",
       "      <td>100.0</td>\n",
       "      <td>58</td>\n",
       "      <td>7</td>\n",
       "      <td>3</td>\n",
       "      <td>9</td>\n",
       "      <td>3</td>\n",
       "    </tr>\n",
       "    <tr>\n",
       "      <th>6114</th>\n",
       "      <td>372.42</td>\n",
       "      <td>100.0</td>\n",
       "      <td>58</td>\n",
       "      <td>7</td>\n",
       "      <td>3</td>\n",
       "      <td>9</td>\n",
       "      <td>3</td>\n",
       "    </tr>\n",
       "    <tr>\n",
       "      <th>6115</th>\n",
       "      <td>777.00</td>\n",
       "      <td>200.0</td>\n",
       "      <td>68</td>\n",
       "      <td>7</td>\n",
       "      <td>3</td>\n",
       "      <td>7</td>\n",
       "      <td>3</td>\n",
       "    </tr>\n",
       "    <tr>\n",
       "      <th>6116</th>\n",
       "      <td>42.00</td>\n",
       "      <td>400.0</td>\n",
       "      <td>23</td>\n",
       "      <td>7</td>\n",
       "      <td>3</td>\n",
       "      <td>7</td>\n",
       "      <td>3</td>\n",
       "    </tr>\n",
       "  </tbody>\n",
       "</table></div>"
      ],
      "text/plain": [
       "      Длина, пог.м.  Диаметр, мм.  years  district  user  material  belong\n",
       "0             36.86         100.0     53         2     6         9       4\n",
       "1            755.00         200.0     53         2     6         7       4\n",
       "2            202.80         200.0     53         2     6         9       4\n",
       "3            198.40         200.0     53         2     6         9       4\n",
       "4            328.26         100.0     53         2     6         7       4\n",
       "...             ...           ...    ...       ...   ...       ...     ...\n",
       "6112          40.22         100.0     58         7     3         9       3\n",
       "6113          69.85         100.0     58         7     3         9       3\n",
       "6114         372.42         100.0     58         7     3         9       3\n",
       "6115         777.00         200.0     68         7     3         7       3\n",
       "6116          42.00         400.0     23         7     3         7       3\n",
       "\n",
       "[6117 rows x 7 columns]"
      ]
     },
     "execution_count": 80,
     "metadata": {},
     "output_type": "execute_result"
    }
   ],
   "source": [
    "X"
   ]
  },
  {
   "cell_type": "markdown",
   "id": "63c26a97",
   "metadata": {},
   "source": [
    "Посмотрим на соотношение классов в нашем датасете, для этого посчитаем количество нулей и единиц:"
   ]
  },
  {
   "cell_type": "code",
   "execution_count": 81,
   "id": "6b7b8b1b",
   "metadata": {},
   "outputs": [
    {
     "name": "stdout",
     "output_type": "stream",
     "text": [
      "Labels: {0, 1}\n",
      "Zero count: 4353, One count: 1764\n"
     ]
    }
   ],
   "source": [
    "print(f\"Labels: {set(y)}\")\n",
    "print(f\"Zero count: {len(y)-sum(y)}, One count: {sum(y)}\")"
   ]
  },
  {
   "cell_type": "markdown",
   "id": "c63d7048",
   "metadata": {},
   "source": [
    "Нулей в выборке 4353, а единиц 1764, это свидетельствует дисбаланса нет"
   ]
  },
  {
   "cell_type": "markdown",
   "id": "25173b25",
   "metadata": {},
   "source": [
    "### CatBoost"
   ]
  },
  {
   "cell_type": "markdown",
   "id": "4e5f31b6",
   "metadata": {},
   "source": [
    "#### CatBoost из коробки"
   ]
  },
  {
   "cell_type": "code",
   "execution_count": 82,
   "id": "dae7abee",
   "metadata": {},
   "outputs": [
    {
     "data": {
      "application/vnd.jupyter.widget-view+json": {
       "model_id": "84e1c9331beb4ab48fdfac12dde76d18",
       "version_major": 2,
       "version_minor": 0
      },
      "text/plain": [
       "MetricVisualizer(layout=Layout(align_self='stretch', height='500px'))"
      ]
     },
     "metadata": {},
     "output_type": "display_data"
    },
    {
     "data": {
      "text/plain": [
       "<catboost.core.CatBoostClassifier at 0x283339cd040>"
      ]
     },
     "execution_count": 82,
     "metadata": {},
     "output_type": "execute_result"
    }
   ],
   "source": [
    "catboost_classifier_base = CatBoostClassifier()\n",
    "\n",
    "catboost_classifier_base.fit(X_train_scaled, y_train, \n",
    "                              eval_set=(X_test_scaled, y_test),\n",
    "                              verbose=False, plot=True)"
   ]
  },
  {
   "cell_type": "code",
   "execution_count": 83,
   "id": "78381c40",
   "metadata": {},
   "outputs": [
    {
     "name": "stdout",
     "output_type": "stream",
     "text": [
      "Accuracy:  0.776\n",
      "Precision: 0.426\n",
      "Recall:    0.657\n",
      "F1-score:  0.516\n",
      "AUC:       0.782\n"
     ]
    }
   ],
   "source": [
    "#CatBoost get_df_score\n",
    "y_pred = catboost_classifier_base.predict(X_test_scaled)\n",
    "y_pred_proba = catboost_classifier_base.predict_proba(X_test_scaled)\n",
    "get_df_score('CatBoostClassifier_base', y_test, y_pred, y_pred_proba[:, 1])"
   ]
  },
  {
   "cell_type": "markdown",
   "id": "904f5724",
   "metadata": {},
   "source": [
    "#### Найду лучшие параметры на кросс-валидации"
   ]
  },
  {
   "cell_type": "code",
   "execution_count": 84,
   "id": "cf99985a",
   "metadata": {},
   "outputs": [
    {
     "name": "stdout",
     "output_type": "stream",
     "text": [
      "0.7748189675309507\n",
      "{'bagging_temperature': 0.9018307468516794, 'border_count': 128, 'depth': 4, 'l2_leaf_reg': 1, 'learning_rate': 0.06490668608777676, 'min_data_in_leaf': 1, 'n_estimators': 114, 'random_strength': 0.594719083675863, 'subsample': 0.9821384253147367}\n"
     ]
    },
    {
     "name": "stderr",
     "output_type": "stream",
     "text": [
      "C:\\Users\\smndy\\anaconda3\\lib\\site-packages\\sklearn\\model_selection\\_validation.py:372: FitFailedWarning: \n",
      "30 fits failed out of a total of 50.\n",
      "The score on these train-test partitions for these parameters will be set to nan.\n",
      "If these failures are not expected, you can try to debug them by setting error_score='raise'.\n",
      "\n",
      "Below are more details about the failures:\n",
      "--------------------------------------------------------------------------------\n",
      "30 fits failed with the following error:\n",
      "Traceback (most recent call last):\n",
      "  File \"C:\\Users\\smndy\\anaconda3\\lib\\site-packages\\sklearn\\model_selection\\_validation.py\", line 680, in _fit_and_score\n",
      "    estimator.fit(X_train, y_train, **fit_params)\n",
      "  File \"C:\\Users\\smndy\\anaconda3\\lib\\site-packages\\catboost\\core.py\", line 5128, in fit\n",
      "    self._fit(X, y, cat_features, text_features, embedding_features, None, sample_weight, None, None, None, None, baseline, use_best_model,\n",
      "  File \"C:\\Users\\smndy\\anaconda3\\lib\\site-packages\\catboost\\core.py\", line 2339, in _fit\n",
      "    train_params = self._prepare_train_params(\n",
      "  File \"C:\\Users\\smndy\\anaconda3\\lib\\site-packages\\catboost\\core.py\", line 2266, in _prepare_train_params\n",
      "    _check_train_params(params)\n",
      "  File \"_catboost.pyx\", line 6080, in _catboost._check_train_params\n",
      "  File \"_catboost.pyx\", line 6099, in _catboost._check_train_params\n",
      "_catboost.CatBoostError: C:/Program Files (x86)/Go Agent/pipelines/BuildMaster/catboost.git/catboost/private/libs/options/bootstrap_options.cpp:5: Taken fraction should be in (0,1]\n",
      "\n",
      "  warnings.warn(some_fits_failed_message, FitFailedWarning)\n",
      "C:\\Users\\smndy\\anaconda3\\lib\\site-packages\\sklearn\\model_selection\\_search.py:969: UserWarning: One or more of the test scores are non-finite: [0.76197341        nan        nan        nan        nan 0.75029281\n",
      " 0.74772298 0.76407404        nan        nan]\n",
      "  warnings.warn(\n"
     ]
    }
   ],
   "source": [
    "parameters = {\n",
    "    'n_estimators': stats.randint(100, 1000),\n",
    "    'learning_rate': stats.uniform(0.01, 0.1),\n",
    "    'subsample': stats.uniform(0.5, 0.9),\n",
    "\n",
    "    'depth': stats.randint(3, 13),\n",
    "    \"min_data_in_leaf\": stats.randint(1, 10),    \n",
    "    'l2_leaf_reg': stats.randint(1, 5),\n",
    "    'random_strength': stats.uniform(0, 3),\n",
    "    'bagging_temperature': stats.uniform(0.5, 1.0),\n",
    "    'border_count': [32, 64, 128, 256]\n",
    "}\n",
    "\n",
    "catboost_classifier_tuned = RandomizedSearchCV(CatBoostClassifier(silent=True), parameters, \n",
    "                                               cv=5, n_jobs=-1)\n",
    "catboost_classifier_tuned.fit(X_train_scaled, y_train)\n",
    "\n",
    "print(catboost_classifier_tuned.score(X_train_scaled, y_train))\n",
    "print(catboost_classifier_tuned.best_params_)"
   ]
  },
  {
   "cell_type": "code",
   "execution_count": 85,
   "id": "7cac2586",
   "metadata": {},
   "outputs": [
    {
     "name": "stdout",
     "output_type": "stream",
     "text": [
      "Accuracy:  0.773\n",
      "Precision: 0.416\n",
      "Recall:    0.653\n",
      "F1-score:  0.508\n",
      "AUC:       0.779\n"
     ]
    }
   ],
   "source": [
    "#CatBoost get_df_score\n",
    "y_pred = catboost_classifier_tuned.predict(X_test_scaled)\n",
    "y_pred_proba = catboost_classifier_tuned.predict_proba(X_test_scaled)\n",
    "get_df_score('CatBoostClassifier_Tuned', y_test, y_pred, y_pred_proba[:, 1])"
   ]
  },
  {
   "cell_type": "markdown",
   "id": "bb784bef",
   "metadata": {},
   "source": [
    "посмотрю как модель обучается с лучшими параметрами"
   ]
  },
  {
   "cell_type": "code",
   "execution_count": 86,
   "id": "3695e35a",
   "metadata": {},
   "outputs": [
    {
     "data": {
      "application/vnd.jupyter.widget-view+json": {
       "model_id": "c70bb045ddd249f38dadb8dd850885f5",
       "version_major": 2,
       "version_minor": 0
      },
      "text/plain": [
       "MetricVisualizer(layout=Layout(align_self='stretch', height='500px'))"
      ]
     },
     "metadata": {},
     "output_type": "display_data"
    },
    {
     "name": "stdout",
     "output_type": "stream",
     "text": [
      "0.7766876897921047\n"
     ]
    }
   ],
   "source": [
    "catboost_classifier_final = CatBoostClassifier(silent=True, \n",
    "                                               bagging_temperature = 0.8620600396341012, \n",
    "                                               border_count = 32,\n",
    "                                               depth = 3, \n",
    "                                               l2_leaf_reg = 2, \n",
    "                                               learning_rate = 0.06231792887990922,\n",
    "                                               min_data_in_leaf = 8,\n",
    "                                               n_estimators = 221,\n",
    "                                               random_strength = 2.3699029997837253,\n",
    "                                               subsample = 0.6799237073536213)\n",
    "\n",
    "catboost_classifier_final.fit(X_train_scaled, y_train, \n",
    "                              eval_set=(X_test_scaled, y_test),\n",
    "                              verbose=False, plot=True)\n",
    "\n",
    "print(catboost_classifier_final.score(X_train_scaled, y_train))"
   ]
  },
  {
   "cell_type": "markdown",
   "id": "2c6a5489",
   "metadata": {},
   "source": [
    "Применю n_estimators = 192 для теста"
   ]
  },
  {
   "cell_type": "code",
   "execution_count": 87,
   "id": "2bb8bc1b",
   "metadata": {},
   "outputs": [
    {
     "data": {
      "application/vnd.jupyter.widget-view+json": {
       "model_id": "ec6f83a75e7f4186a4632e7d63fef44a",
       "version_major": 2,
       "version_minor": 0
      },
      "text/plain": [
       "MetricVisualizer(layout=Layout(align_self='stretch', height='500px'))"
      ]
     },
     "metadata": {},
     "output_type": "display_data"
    },
    {
     "name": "stdout",
     "output_type": "stream",
     "text": [
      "0.773183835552441\n"
     ]
    }
   ],
   "source": [
    "catboost_classifier_final = CatBoostClassifier(silent=True, \n",
    "                                               bagging_temperature = 0.8620600396341012, \n",
    "                                               border_count = 32,\n",
    "                                               depth = 3, \n",
    "                                               l2_leaf_reg = 2, \n",
    "                                               learning_rate = 0.06231792887990922,\n",
    "                                               min_data_in_leaf = 8,\n",
    "                                               n_estimators = 192,\n",
    "                                               random_strength = 2.3699029997837253,\n",
    "                                               subsample = 0.6799237073536213)\n",
    "\n",
    "catboost_classifier_final.fit(X_train_scaled, y_train, \n",
    "                              eval_set=(X_test_scaled, y_test),\n",
    "                              verbose=False, plot=True)\n",
    "\n",
    "print(catboost_classifier_final.score(X_train_scaled, y_train))"
   ]
  },
  {
   "cell_type": "code",
   "execution_count": 88,
   "id": "fc53d337",
   "metadata": {},
   "outputs": [
    {
     "name": "stdout",
     "output_type": "stream",
     "text": [
      "Accuracy:  0.777\n",
      "Precision: 0.416\n",
      "Recall:    0.666\n",
      "F1-score:  0.512\n",
      "AUC:       0.777\n"
     ]
    }
   ],
   "source": [
    "#CatBoost get_df_score\n",
    "y_pred = catboost_classifier_final.predict(X_test_scaled)\n",
    "y_pred_proba = catboost_classifier_final.predict_proba(X_test_scaled)\n",
    "get_df_score('catboost_classifier_final', y_test, y_pred, y_pred_proba[:, 1])"
   ]
  },
  {
   "cell_type": "markdown",
   "id": "ad729ecd",
   "metadata": {},
   "source": [
    "### Моделирование. Вероятность"
   ]
  },
  {
   "cell_type": "markdown",
   "id": "818ef1ac",
   "metadata": {},
   "source": [
    "#### для прогнозирования возьму X и по столбцу years промоделирую 5 лет"
   ]
  },
  {
   "cell_type": "code",
   "execution_count": 89,
   "id": "85410190",
   "metadata": {},
   "outputs": [],
   "source": [
    "df_pred_proba = pd.concat([y, X], axis = 1)"
   ]
  },
  {
   "cell_type": "code",
   "execution_count": 90,
   "id": "0ea5295a",
   "metadata": {},
   "outputs": [
    {
     "data": {
      "text/html": [
       "<div><div id=3a2c481b-7011-4310-83a3-22cc8959b1b7 style=\"display:none; background-color:#9D6CFF; color:white; width:200px; height:30px; padding-left:5px; border-radius:4px; flex-direction:row; justify-content:space-around; align-items:center;\" onmouseover=\"this.style.backgroundColor='#BA9BF8'\" onmouseout=\"this.style.backgroundColor='#9D6CFF'\" onclick=\"window.commands?.execute('create-mitosheet-from-dataframe-output');\">See Full Dataframe in Mito</div> <script> if (window.commands?.hasCommand('create-mitosheet-from-dataframe-output')) document.getElementById('3a2c481b-7011-4310-83a3-22cc8959b1b7').style.display = 'flex' </script> <table border=\"1\" class=\"dataframe\">\n",
       "  <thead>\n",
       "    <tr style=\"text-align: right;\">\n",
       "      <th></th>\n",
       "      <th>target_class</th>\n",
       "      <th>Длина, пог.м.</th>\n",
       "      <th>Диаметр, мм.</th>\n",
       "      <th>years</th>\n",
       "      <th>district</th>\n",
       "      <th>user</th>\n",
       "      <th>material</th>\n",
       "      <th>belong</th>\n",
       "    </tr>\n",
       "  </thead>\n",
       "  <tbody>\n",
       "    <tr>\n",
       "      <th>0</th>\n",
       "      <td>1</td>\n",
       "      <td>36.86</td>\n",
       "      <td>100.0</td>\n",
       "      <td>53</td>\n",
       "      <td>2</td>\n",
       "      <td>6</td>\n",
       "      <td>9</td>\n",
       "      <td>4</td>\n",
       "    </tr>\n",
       "  </tbody>\n",
       "</table></div>"
      ],
      "text/plain": [
       "   target_class  Длина, пог.м.  Диаметр, мм.  years  district  user  material  \\\n",
       "0             1          36.86         100.0     53         2     6         9   \n",
       "\n",
       "   belong  \n",
       "0       4  "
      ]
     },
     "execution_count": 90,
     "metadata": {},
     "output_type": "execute_result"
    }
   ],
   "source": [
    "df_pred_proba.head(1)"
   ]
  },
  {
   "cell_type": "code",
   "execution_count": 91,
   "id": "13f12907",
   "metadata": {},
   "outputs": [],
   "source": [
    "X_pred_proba = df_pred_proba.drop(columns = 'target_class')\n",
    "y_before_prediction = df_pred_proba['target_class']"
   ]
  },
  {
   "cell_type": "code",
   "execution_count": 145,
   "id": "65167126",
   "metadata": {},
   "outputs": [],
   "source": [
    "k = 0.8"
   ]
  },
  {
   "cell_type": "markdown",
   "id": "1f450741",
   "metadata": {},
   "source": [
    "### Моделирование. Вероятность  'years' + 1"
   ]
  },
  {
   "cell_type": "code",
   "execution_count": 146,
   "id": "a9a10885",
   "metadata": {},
   "outputs": [],
   "source": [
    "X_pred_proba['years'] = X_pred_proba['years'] + 1"
   ]
  },
  {
   "cell_type": "code",
   "execution_count": 147,
   "id": "26230d32",
   "metadata": {},
   "outputs": [
    {
     "data": {
      "text/html": [
       "<div><div id=e5d7545e-3988-40b9-9498-3fa742fe69df style=\"display:none; background-color:#9D6CFF; color:white; width:200px; height:30px; padding-left:5px; border-radius:4px; flex-direction:row; justify-content:space-around; align-items:center;\" onmouseover=\"this.style.backgroundColor='#BA9BF8'\" onmouseout=\"this.style.backgroundColor='#9D6CFF'\" onclick=\"window.commands?.execute('create-mitosheet-from-dataframe-output');\">See Full Dataframe in Mito</div> <script> if (window.commands?.hasCommand('create-mitosheet-from-dataframe-output')) document.getElementById('e5d7545e-3988-40b9-9498-3fa742fe69df').style.display = 'flex' </script> <table border=\"1\" class=\"dataframe\">\n",
       "  <thead>\n",
       "    <tr style=\"text-align: right;\">\n",
       "      <th></th>\n",
       "      <th>Длина, пог.м.</th>\n",
       "      <th>Диаметр, мм.</th>\n",
       "      <th>years</th>\n",
       "      <th>district</th>\n",
       "      <th>user</th>\n",
       "      <th>material</th>\n",
       "      <th>belong</th>\n",
       "    </tr>\n",
       "  </thead>\n",
       "  <tbody>\n",
       "    <tr>\n",
       "      <th>0</th>\n",
       "      <td>36.86</td>\n",
       "      <td>100.0</td>\n",
       "      <td>69</td>\n",
       "      <td>2</td>\n",
       "      <td>6</td>\n",
       "      <td>9</td>\n",
       "      <td>4</td>\n",
       "    </tr>\n",
       "    <tr>\n",
       "      <th>1</th>\n",
       "      <td>755.00</td>\n",
       "      <td>200.0</td>\n",
       "      <td>69</td>\n",
       "      <td>2</td>\n",
       "      <td>6</td>\n",
       "      <td>7</td>\n",
       "      <td>4</td>\n",
       "    </tr>\n",
       "    <tr>\n",
       "      <th>2</th>\n",
       "      <td>202.80</td>\n",
       "      <td>200.0</td>\n",
       "      <td>69</td>\n",
       "      <td>2</td>\n",
       "      <td>6</td>\n",
       "      <td>9</td>\n",
       "      <td>4</td>\n",
       "    </tr>\n",
       "    <tr>\n",
       "      <th>3</th>\n",
       "      <td>198.40</td>\n",
       "      <td>200.0</td>\n",
       "      <td>69</td>\n",
       "      <td>2</td>\n",
       "      <td>6</td>\n",
       "      <td>9</td>\n",
       "      <td>4</td>\n",
       "    </tr>\n",
       "    <tr>\n",
       "      <th>4</th>\n",
       "      <td>328.26</td>\n",
       "      <td>100.0</td>\n",
       "      <td>69</td>\n",
       "      <td>2</td>\n",
       "      <td>6</td>\n",
       "      <td>7</td>\n",
       "      <td>4</td>\n",
       "    </tr>\n",
       "    <tr>\n",
       "      <th>...</th>\n",
       "      <td>...</td>\n",
       "      <td>...</td>\n",
       "      <td>...</td>\n",
       "      <td>...</td>\n",
       "      <td>...</td>\n",
       "      <td>...</td>\n",
       "      <td>...</td>\n",
       "    </tr>\n",
       "    <tr>\n",
       "      <th>6112</th>\n",
       "      <td>40.22</td>\n",
       "      <td>100.0</td>\n",
       "      <td>74</td>\n",
       "      <td>7</td>\n",
       "      <td>3</td>\n",
       "      <td>9</td>\n",
       "      <td>3</td>\n",
       "    </tr>\n",
       "    <tr>\n",
       "      <th>6113</th>\n",
       "      <td>69.85</td>\n",
       "      <td>100.0</td>\n",
       "      <td>74</td>\n",
       "      <td>7</td>\n",
       "      <td>3</td>\n",
       "      <td>9</td>\n",
       "      <td>3</td>\n",
       "    </tr>\n",
       "    <tr>\n",
       "      <th>6114</th>\n",
       "      <td>372.42</td>\n",
       "      <td>100.0</td>\n",
       "      <td>74</td>\n",
       "      <td>7</td>\n",
       "      <td>3</td>\n",
       "      <td>9</td>\n",
       "      <td>3</td>\n",
       "    </tr>\n",
       "    <tr>\n",
       "      <th>6115</th>\n",
       "      <td>777.00</td>\n",
       "      <td>200.0</td>\n",
       "      <td>84</td>\n",
       "      <td>7</td>\n",
       "      <td>3</td>\n",
       "      <td>7</td>\n",
       "      <td>3</td>\n",
       "    </tr>\n",
       "    <tr>\n",
       "      <th>6116</th>\n",
       "      <td>42.00</td>\n",
       "      <td>400.0</td>\n",
       "      <td>39</td>\n",
       "      <td>7</td>\n",
       "      <td>3</td>\n",
       "      <td>7</td>\n",
       "      <td>3</td>\n",
       "    </tr>\n",
       "  </tbody>\n",
       "</table></div>"
      ],
      "text/plain": [
       "      Длина, пог.м.  Диаметр, мм.  years  district  user  material  belong\n",
       "0             36.86         100.0     69         2     6         9       4\n",
       "1            755.00         200.0     69         2     6         7       4\n",
       "2            202.80         200.0     69         2     6         9       4\n",
       "3            198.40         200.0     69         2     6         9       4\n",
       "4            328.26         100.0     69         2     6         7       4\n",
       "...             ...           ...    ...       ...   ...       ...     ...\n",
       "6112          40.22         100.0     74         7     3         9       3\n",
       "6113          69.85         100.0     74         7     3         9       3\n",
       "6114         372.42         100.0     74         7     3         9       3\n",
       "6115         777.00         200.0     84         7     3         7       3\n",
       "6116          42.00         400.0     39         7     3         7       3\n",
       "\n",
       "[6117 rows x 7 columns]"
      ]
     },
     "execution_count": 147,
     "metadata": {},
     "output_type": "execute_result"
    }
   ],
   "source": [
    "X_pred_proba"
   ]
  },
  {
   "cell_type": "code",
   "execution_count": 148,
   "id": "073c3cc6",
   "metadata": {},
   "outputs": [],
   "source": [
    "X_pred_proba_scaled = X_pred_proba.copy()\n",
    "X_pred_proba_scaled[scaler_list] = scaler.transform(X_pred_proba[scaler_list])"
   ]
  },
  {
   "cell_type": "code",
   "execution_count": 149,
   "id": "a0436807",
   "metadata": {},
   "outputs": [],
   "source": [
    "y_pred_proba = catboost_classifier_final.predict_proba(X_pred_proba_scaled)"
   ]
  },
  {
   "cell_type": "code",
   "execution_count": 150,
   "id": "47867589",
   "metadata": {},
   "outputs": [
    {
     "data": {
      "text/plain": [
       "(6117, 2)"
      ]
     },
     "execution_count": 150,
     "metadata": {},
     "output_type": "execute_result"
    }
   ],
   "source": [
    "y_pred_proba.shape"
   ]
  },
  {
   "cell_type": "code",
   "execution_count": 151,
   "id": "fb120e9a",
   "metadata": {
    "scrolled": true
   },
   "outputs": [
    {
     "data": {
      "text/plain": [
       "0       1\n",
       "1       1\n",
       "2       1\n",
       "3       0\n",
       "4       0\n",
       "       ..\n",
       "6112    0\n",
       "6113    0\n",
       "6114    1\n",
       "6115    0\n",
       "6116    0\n",
       "Name: target_class, Length: 6117, dtype: int64"
      ]
     },
     "execution_count": 151,
     "metadata": {},
     "output_type": "execute_result"
    }
   ],
   "source": [
    "y_before_prediction"
   ]
  },
  {
   "cell_type": "code",
   "execution_count": 152,
   "id": "6ec26f6f",
   "metadata": {},
   "outputs": [],
   "source": [
    "df_pred_proba = pd.DataFrame(y_pred_proba)"
   ]
  },
  {
   "cell_type": "code",
   "execution_count": 153,
   "id": "88154796",
   "metadata": {},
   "outputs": [
    {
     "data": {
      "text/plain": [
       "Index(['Unnamed: 0', 'Код ', 'Инвентарный номер', 'Наименование',\n",
       "       'Наименование вида объекта', 'Наименование района',\n",
       "       'Наименование подразделения', 'Дата ввода в эксплуатацию',\n",
       "       'Наименование материала', 'Наименование принадлежности имущества',\n",
       "       'Длина, пог.м.', 'Диаметр, мм.'],\n",
       "      dtype='object')"
      ]
     },
     "execution_count": 153,
     "metadata": {},
     "output_type": "execute_result"
    }
   ],
   "source": [
    "df_seti.columns"
   ]
  },
  {
   "cell_type": "code",
   "execution_count": 154,
   "id": "15256a9c",
   "metadata": {},
   "outputs": [
    {
     "data": {
      "text/html": [
       "<div><div id=f0d139a5-1f9d-40c4-97fe-82783d3a54cb style=\"display:none; background-color:#9D6CFF; color:white; width:200px; height:30px; padding-left:5px; border-radius:4px; flex-direction:row; justify-content:space-around; align-items:center;\" onmouseover=\"this.style.backgroundColor='#BA9BF8'\" onmouseout=\"this.style.backgroundColor='#9D6CFF'\" onclick=\"window.commands?.execute('create-mitosheet-from-dataframe-output');\">See Full Dataframe in Mito</div> <script> if (window.commands?.hasCommand('create-mitosheet-from-dataframe-output')) document.getElementById('f0d139a5-1f9d-40c4-97fe-82783d3a54cb').style.display = 'flex' </script> <table border=\"1\" class=\"dataframe\">\n",
       "  <thead>\n",
       "    <tr style=\"text-align: right;\">\n",
       "      <th></th>\n",
       "      <th>Код</th>\n",
       "    </tr>\n",
       "  </thead>\n",
       "  <tbody>\n",
       "    <tr>\n",
       "      <th>0</th>\n",
       "      <td>03200_102_б/х</td>\n",
       "    </tr>\n",
       "    <tr>\n",
       "      <th>1</th>\n",
       "      <td>03200_100_б/х</td>\n",
       "    </tr>\n",
       "    <tr>\n",
       "      <th>2</th>\n",
       "      <td>03200_98_б/х</td>\n",
       "    </tr>\n",
       "    <tr>\n",
       "      <th>3</th>\n",
       "      <td>03200_96_б/х</td>\n",
       "    </tr>\n",
       "    <tr>\n",
       "      <th>4</th>\n",
       "      <td>03200_95_б/х</td>\n",
       "    </tr>\n",
       "    <tr>\n",
       "      <th>...</th>\n",
       "      <td>...</td>\n",
       "    </tr>\n",
       "    <tr>\n",
       "      <th>6112</th>\n",
       "      <td>000612_к</td>\n",
       "    </tr>\n",
       "    <tr>\n",
       "      <th>6113</th>\n",
       "      <td>000611_к</td>\n",
       "    </tr>\n",
       "    <tr>\n",
       "      <th>6114</th>\n",
       "      <td>000608_к</td>\n",
       "    </tr>\n",
       "    <tr>\n",
       "      <th>6115</th>\n",
       "      <td>02436_к</td>\n",
       "    </tr>\n",
       "    <tr>\n",
       "      <th>6116</th>\n",
       "      <td>5738с_к</td>\n",
       "    </tr>\n",
       "  </tbody>\n",
       "</table></div>"
      ],
      "text/plain": [
       "               Код \n",
       "0     03200_102_б/х\n",
       "1     03200_100_б/х\n",
       "2      03200_98_б/х\n",
       "3      03200_96_б/х\n",
       "4      03200_95_б/х\n",
       "...             ...\n",
       "6112       000612_к\n",
       "6113       000611_к\n",
       "6114       000608_к\n",
       "6115        02436_к\n",
       "6116        5738с_к\n",
       "\n",
       "[6117 rows x 1 columns]"
      ]
     },
     "execution_count": 154,
     "metadata": {},
     "output_type": "execute_result"
    }
   ],
   "source": [
    "df_seti[['Код ']]"
   ]
  },
  {
   "cell_type": "code",
   "execution_count": 155,
   "id": "9c0e82dd",
   "metadata": {},
   "outputs": [],
   "source": [
    "df_y_before_prediction = pd.DataFrame(y_before_prediction)"
   ]
  },
  {
   "cell_type": "code",
   "execution_count": 156,
   "id": "3dc47428",
   "metadata": {},
   "outputs": [
    {
     "data": {
      "text/html": [
       "<div><div id=fb7b0595-cffc-4ecf-adac-f047b5699bba style=\"display:none; background-color:#9D6CFF; color:white; width:200px; height:30px; padding-left:5px; border-radius:4px; flex-direction:row; justify-content:space-around; align-items:center;\" onmouseover=\"this.style.backgroundColor='#BA9BF8'\" onmouseout=\"this.style.backgroundColor='#9D6CFF'\" onclick=\"window.commands?.execute('create-mitosheet-from-dataframe-output');\">See Full Dataframe in Mito</div> <script> if (window.commands?.hasCommand('create-mitosheet-from-dataframe-output')) document.getElementById('fb7b0595-cffc-4ecf-adac-f047b5699bba').style.display = 'flex' </script> <table border=\"1\" class=\"dataframe\">\n",
       "  <thead>\n",
       "    <tr style=\"text-align: right;\">\n",
       "      <th></th>\n",
       "      <th>target_class</th>\n",
       "    </tr>\n",
       "  </thead>\n",
       "  <tbody>\n",
       "    <tr>\n",
       "      <th>0</th>\n",
       "      <td>1</td>\n",
       "    </tr>\n",
       "    <tr>\n",
       "      <th>1</th>\n",
       "      <td>1</td>\n",
       "    </tr>\n",
       "    <tr>\n",
       "      <th>2</th>\n",
       "      <td>1</td>\n",
       "    </tr>\n",
       "    <tr>\n",
       "      <th>3</th>\n",
       "      <td>0</td>\n",
       "    </tr>\n",
       "    <tr>\n",
       "      <th>4</th>\n",
       "      <td>0</td>\n",
       "    </tr>\n",
       "    <tr>\n",
       "      <th>...</th>\n",
       "      <td>...</td>\n",
       "    </tr>\n",
       "    <tr>\n",
       "      <th>6112</th>\n",
       "      <td>0</td>\n",
       "    </tr>\n",
       "    <tr>\n",
       "      <th>6113</th>\n",
       "      <td>0</td>\n",
       "    </tr>\n",
       "    <tr>\n",
       "      <th>6114</th>\n",
       "      <td>1</td>\n",
       "    </tr>\n",
       "    <tr>\n",
       "      <th>6115</th>\n",
       "      <td>0</td>\n",
       "    </tr>\n",
       "    <tr>\n",
       "      <th>6116</th>\n",
       "      <td>0</td>\n",
       "    </tr>\n",
       "  </tbody>\n",
       "</table></div>"
      ],
      "text/plain": [
       "      target_class\n",
       "0                1\n",
       "1                1\n",
       "2                1\n",
       "3                0\n",
       "4                0\n",
       "...            ...\n",
       "6112             0\n",
       "6113             0\n",
       "6114             1\n",
       "6115             0\n",
       "6116             0\n",
       "\n",
       "[6117 rows x 1 columns]"
      ]
     },
     "execution_count": 156,
     "metadata": {},
     "output_type": "execute_result"
    }
   ],
   "source": [
    "df_y_before_prediction"
   ]
  },
  {
   "cell_type": "code",
   "execution_count": 157,
   "id": "31d74e9c",
   "metadata": {},
   "outputs": [],
   "source": [
    "df_pred_proba = pd.concat([df_seti[['Код ', 'Наименование']], df_y_before_prediction, df_pred_proba], axis = 1)"
   ]
  },
  {
   "cell_type": "code",
   "execution_count": 158,
   "id": "b18ad52a",
   "metadata": {},
   "outputs": [
    {
     "data": {
      "text/plain": [
       "(6, 5)"
      ]
     },
     "execution_count": 158,
     "metadata": {},
     "output_type": "execute_result"
    }
   ],
   "source": [
    "df_pred_proba.loc[(df_pred_proba[1] > k) & (df_pred_proba['target_class'] == 0)].shape"
   ]
  },
  {
   "cell_type": "code",
   "execution_count": 159,
   "id": "3236608b",
   "metadata": {},
   "outputs": [],
   "source": [
    "df_pred_proba_1 = df_pred_proba.loc[(df_pred_proba[1] > k) & (df_pred_proba['target_class'] == 0)]"
   ]
  },
  {
   "cell_type": "markdown",
   "id": "eb92a0c5",
   "metadata": {},
   "source": [
    "### Моделирование. Вероятность  'years' +2"
   ]
  },
  {
   "cell_type": "code",
   "execution_count": 160,
   "id": "4c7ff524",
   "metadata": {},
   "outputs": [],
   "source": [
    "X_pred_proba['years'] = X_pred_proba['years'] + 2"
   ]
  },
  {
   "cell_type": "code",
   "execution_count": 161,
   "id": "da8335a2",
   "metadata": {},
   "outputs": [],
   "source": [
    "X_pred_proba_scaled = X_pred_proba.copy()\n",
    "X_pred_proba_scaled[scaler_list] = scaler.transform(X_pred_proba[scaler_list])"
   ]
  },
  {
   "cell_type": "code",
   "execution_count": 162,
   "id": "6dc78d07",
   "metadata": {},
   "outputs": [],
   "source": [
    "y_pred_proba = catboost_classifier_final.predict_proba(X_pred_proba_scaled)"
   ]
  },
  {
   "cell_type": "code",
   "execution_count": 163,
   "id": "c5e3fe09",
   "metadata": {},
   "outputs": [],
   "source": [
    "df_pred_proba = pd.DataFrame(y_pred_proba)"
   ]
  },
  {
   "cell_type": "code",
   "execution_count": 164,
   "id": "0e6476cb",
   "metadata": {},
   "outputs": [],
   "source": [
    "df_y_before_prediction = pd.DataFrame(y_before_prediction)"
   ]
  },
  {
   "cell_type": "code",
   "execution_count": 165,
   "id": "57d1d678",
   "metadata": {},
   "outputs": [],
   "source": [
    "df_pred_proba = pd.concat([df_seti[['Код ', 'Наименование']], df_y_before_prediction, df_pred_proba], axis = 1)"
   ]
  },
  {
   "cell_type": "code",
   "execution_count": 166,
   "id": "5c7c238b",
   "metadata": {},
   "outputs": [
    {
     "data": {
      "text/plain": [
       "(7, 5)"
      ]
     },
     "execution_count": 166,
     "metadata": {},
     "output_type": "execute_result"
    }
   ],
   "source": [
    "df_pred_proba.loc[(df_pred_proba[1] > k) & (df_pred_proba['target_class'] == 0)].shape"
   ]
  },
  {
   "cell_type": "code",
   "execution_count": 167,
   "id": "0f947fa9",
   "metadata": {
    "scrolled": true
   },
   "outputs": [],
   "source": [
    "df_pred_proba_2 = df_pred_proba.loc[(df_pred_proba[1] > k) & (df_pred_proba['target_class'] == 0)]"
   ]
  },
  {
   "cell_type": "markdown",
   "id": "00775fba",
   "metadata": {},
   "source": [
    "### Моделирование. Вероятность  'years' + 3"
   ]
  },
  {
   "cell_type": "code",
   "execution_count": 168,
   "id": "f09bce7b",
   "metadata": {},
   "outputs": [],
   "source": [
    "X_pred_proba['years'] = X_pred_proba['years'] + 3"
   ]
  },
  {
   "cell_type": "code",
   "execution_count": 169,
   "id": "1e0e16cc",
   "metadata": {},
   "outputs": [],
   "source": [
    "X_pred_proba_scaled = X_pred_proba.copy()\n",
    "X_pred_proba_scaled[scaler_list] = scaler.transform(X_pred_proba[scaler_list])"
   ]
  },
  {
   "cell_type": "code",
   "execution_count": 170,
   "id": "c08de564",
   "metadata": {},
   "outputs": [],
   "source": [
    "y_pred_proba = catboost_classifier_final.predict_proba(X_pred_proba_scaled)"
   ]
  },
  {
   "cell_type": "code",
   "execution_count": 171,
   "id": "8bb295e3",
   "metadata": {},
   "outputs": [],
   "source": [
    "df_pred_proba = pd.DataFrame(y_pred_proba)"
   ]
  },
  {
   "cell_type": "code",
   "execution_count": 172,
   "id": "c9104bc3",
   "metadata": {},
   "outputs": [],
   "source": [
    "df_y_before_prediction = pd.DataFrame(y_before_prediction)"
   ]
  },
  {
   "cell_type": "code",
   "execution_count": 173,
   "id": "5dd797f0",
   "metadata": {},
   "outputs": [],
   "source": [
    "df_pred_proba = pd.concat([df_seti[['Код ', 'Наименование']], df_y_before_prediction, df_pred_proba], axis = 1)"
   ]
  },
  {
   "cell_type": "code",
   "execution_count": 174,
   "id": "9a10fb23",
   "metadata": {},
   "outputs": [
    {
     "data": {
      "text/plain": [
       "(7, 5)"
      ]
     },
     "execution_count": 174,
     "metadata": {},
     "output_type": "execute_result"
    }
   ],
   "source": [
    "df_pred_proba.loc[(df_pred_proba[1] > k) & (df_pred_proba['target_class'] == 0)].shape"
   ]
  },
  {
   "cell_type": "code",
   "execution_count": 175,
   "id": "0d2d478d",
   "metadata": {
    "scrolled": true
   },
   "outputs": [],
   "source": [
    "df_pred_proba_3 = df_pred_proba.loc[(df_pred_proba[1] > k) & (df_pred_proba['target_class'] == 0)]"
   ]
  },
  {
   "cell_type": "markdown",
   "id": "0aaa6c04",
   "metadata": {},
   "source": [
    "### Моделирование. Вероятность  'years' + 4"
   ]
  },
  {
   "cell_type": "code",
   "execution_count": 176,
   "id": "1d428671",
   "metadata": {},
   "outputs": [],
   "source": [
    "X_pred_proba['years'] = X_pred_proba['years'] + 4"
   ]
  },
  {
   "cell_type": "code",
   "execution_count": 177,
   "id": "2397411a",
   "metadata": {},
   "outputs": [],
   "source": [
    "X_pred_proba_scaled = X_pred_proba.copy()\n",
    "X_pred_proba_scaled[scaler_list] = scaler.transform(X_pred_proba[scaler_list])"
   ]
  },
  {
   "cell_type": "code",
   "execution_count": 178,
   "id": "891e0a0c",
   "metadata": {},
   "outputs": [],
   "source": [
    "y_pred_proba = catboost_classifier_final.predict_proba(X_pred_proba_scaled)"
   ]
  },
  {
   "cell_type": "code",
   "execution_count": 179,
   "id": "65a2ccd2",
   "metadata": {},
   "outputs": [],
   "source": [
    "df_pred_proba = pd.DataFrame(y_pred_proba)"
   ]
  },
  {
   "cell_type": "code",
   "execution_count": 180,
   "id": "d3bde29e",
   "metadata": {},
   "outputs": [],
   "source": [
    "df_y_before_prediction = pd.DataFrame(y_before_prediction)"
   ]
  },
  {
   "cell_type": "code",
   "execution_count": 181,
   "id": "3a0c3e63",
   "metadata": {},
   "outputs": [],
   "source": [
    "df_pred_proba = pd.concat([df_seti[['Код ', 'Наименование']], df_y_before_prediction, df_pred_proba], axis = 1)"
   ]
  },
  {
   "cell_type": "code",
   "execution_count": 182,
   "id": "17b1fefb",
   "metadata": {},
   "outputs": [
    {
     "data": {
      "text/plain": [
       "(5, 5)"
      ]
     },
     "execution_count": 182,
     "metadata": {},
     "output_type": "execute_result"
    }
   ],
   "source": [
    "df_pred_proba.loc[(df_pred_proba[1] > k) & (df_pred_proba['target_class'] == 0)].shape"
   ]
  },
  {
   "cell_type": "code",
   "execution_count": 183,
   "id": "494a9ee7",
   "metadata": {
    "scrolled": true
   },
   "outputs": [],
   "source": [
    "df_pred_proba_4 = df_pred_proba.loc[(df_pred_proba[1] > k) & (df_pred_proba['target_class'] == 0)]"
   ]
  },
  {
   "cell_type": "markdown",
   "id": "580a7432",
   "metadata": {},
   "source": [
    "### Моделирование. Вероятность  'years' + 5"
   ]
  },
  {
   "cell_type": "code",
   "execution_count": 184,
   "id": "42aeaa68",
   "metadata": {},
   "outputs": [],
   "source": [
    "X_pred_proba['years'] = X_pred_proba['years'] + 5"
   ]
  },
  {
   "cell_type": "code",
   "execution_count": 185,
   "id": "3a437b05",
   "metadata": {},
   "outputs": [],
   "source": [
    "X_pred_proba_scaled = X_pred_proba.copy()\n",
    "X_pred_proba_scaled[scaler_list] = scaler.transform(X_pred_proba[scaler_list])"
   ]
  },
  {
   "cell_type": "code",
   "execution_count": 186,
   "id": "cf27af18",
   "metadata": {},
   "outputs": [],
   "source": [
    "y_pred_proba = catboost_classifier_final.predict_proba(X_pred_proba_scaled)"
   ]
  },
  {
   "cell_type": "code",
   "execution_count": 187,
   "id": "847ee3fa",
   "metadata": {},
   "outputs": [],
   "source": [
    "df_pred_proba = pd.DataFrame(y_pred_proba)"
   ]
  },
  {
   "cell_type": "code",
   "execution_count": 188,
   "id": "02eeba49",
   "metadata": {},
   "outputs": [],
   "source": [
    "df_y_before_prediction = pd.DataFrame(y_before_prediction)"
   ]
  },
  {
   "cell_type": "code",
   "execution_count": 189,
   "id": "e56cc1ed",
   "metadata": {},
   "outputs": [],
   "source": [
    "df_pred_proba = pd.concat([df_seti[['Код ', 'Наименование']], df_y_before_prediction, df_pred_proba], axis = 1)"
   ]
  },
  {
   "cell_type": "code",
   "execution_count": 190,
   "id": "e2d617be",
   "metadata": {},
   "outputs": [
    {
     "data": {
      "text/plain": [
       "(5, 5)"
      ]
     },
     "execution_count": 190,
     "metadata": {},
     "output_type": "execute_result"
    }
   ],
   "source": [
    "df_pred_proba.loc[(df_pred_proba[1] > k) & (df_pred_proba['target_class'] == 0)].shape"
   ]
  },
  {
   "cell_type": "code",
   "execution_count": 191,
   "id": "620add4b",
   "metadata": {
    "scrolled": true
   },
   "outputs": [],
   "source": [
    "df_pred_proba_5 = df_pred_proba.loc[(df_pred_proba[1] > k) & (df_pred_proba['target_class'] == 0)]"
   ]
  },
  {
   "cell_type": "markdown",
   "id": "f83d57e2",
   "metadata": {},
   "source": [
    "### Моделирование. Вероятность итоговая таблица"
   ]
  },
  {
   "cell_type": "code",
   "execution_count": 192,
   "id": "e4260bfa",
   "metadata": {},
   "outputs": [],
   "source": [
    "df_pred_proba_1_5 = (pd.concat([df_pred_proba_1, df_pred_proba_2, df_pred_proba_3, df_pred_proba_4, df_pred_proba_5], axis = 0)\n",
    "                     .drop_duplicates())\n",
    "df_pred_proba_1_5 = df_pred_proba_1_5[['Код ', 'Наименование', 1]]"
   ]
  },
  {
   "cell_type": "code",
   "execution_count": 193,
   "id": "88b60b8b",
   "metadata": {},
   "outputs": [],
   "source": [
    "df_pred_proba_1_5.rename(columns = {1: 'вероятность наступления целевого случая'}, inplace = True)"
   ]
  },
  {
   "cell_type": "code",
   "execution_count": 194,
   "id": "93728ed5",
   "metadata": {},
   "outputs": [],
   "source": [
    "df_pred_proba_1_5.to_excel('вероятность наступления целевого случая.xlsx')"
   ]
  },
  {
   "cell_type": "markdown",
   "id": "8e2d0153",
   "metadata": {},
   "source": [
    "# Вывод:\n",
    "    1. Проведен EDA\n",
    "    2. Cконструированы признаки\n",
    "    3. Посчитана модель\n",
    "    4. Сформирован перечень сетей для планирования"
   ]
  },
  {
   "cell_type": "code",
   "execution_count": 195,
   "id": "a18f7d3a",
   "metadata": {},
   "outputs": [
    {
     "data": {
      "text/html": [
       "<div><div id=3a6145f1-4b02-4076-b9b0-9ef189f6265d style=\"display:none; background-color:#9D6CFF; color:white; width:200px; height:30px; padding-left:5px; border-radius:4px; flex-direction:row; justify-content:space-around; align-items:center;\" onmouseover=\"this.style.backgroundColor='#BA9BF8'\" onmouseout=\"this.style.backgroundColor='#9D6CFF'\" onclick=\"window.commands?.execute('create-mitosheet-from-dataframe-output');\">See Full Dataframe in Mito</div> <script> if (window.commands?.hasCommand('create-mitosheet-from-dataframe-output')) document.getElementById('3a6145f1-4b02-4076-b9b0-9ef189f6265d').style.display = 'flex' </script> <table border=\"1\" class=\"dataframe\">\n",
       "  <thead>\n",
       "    <tr style=\"text-align: right;\">\n",
       "      <th></th>\n",
       "      <th>Код</th>\n",
       "      <th>вероятность наступления целевого случая</th>\n",
       "    </tr>\n",
       "  </thead>\n",
       "  <tbody>\n",
       "    <tr>\n",
       "      <th>3435</th>\n",
       "      <td>3189ч_к</td>\n",
       "      <td>0.812772</td>\n",
       "    </tr>\n",
       "    <tr>\n",
       "      <th>3766</th>\n",
       "      <td>687ч_к</td>\n",
       "      <td>0.805148</td>\n",
       "    </tr>\n",
       "    <tr>\n",
       "      <th>4039</th>\n",
       "      <td>3952с_к</td>\n",
       "      <td>0.806813</td>\n",
       "    </tr>\n",
       "    <tr>\n",
       "      <th>4075</th>\n",
       "      <td>1060ч_к</td>\n",
       "      <td>0.814789</td>\n",
       "    </tr>\n",
       "    <tr>\n",
       "      <th>4107</th>\n",
       "      <td>3664с_к</td>\n",
       "      <td>0.809063</td>\n",
       "    </tr>\n",
       "    <tr>\n",
       "      <th>...</th>\n",
       "      <td>...</td>\n",
       "      <td>...</td>\n",
       "    </tr>\n",
       "    <tr>\n",
       "      <th>1090</th>\n",
       "      <td>471553_к</td>\n",
       "      <td>0.805100</td>\n",
       "    </tr>\n",
       "    <tr>\n",
       "      <th>2234</th>\n",
       "      <td>4187ч_к</td>\n",
       "      <td>0.802453</td>\n",
       "    </tr>\n",
       "    <tr>\n",
       "      <th>3919</th>\n",
       "      <td>4942ч_к</td>\n",
       "      <td>0.801147</td>\n",
       "    </tr>\n",
       "    <tr>\n",
       "      <th>5432</th>\n",
       "      <td>4603ч_к</td>\n",
       "      <td>0.811650</td>\n",
       "    </tr>\n",
       "    <tr>\n",
       "      <th>5975</th>\n",
       "      <td>02417_к</td>\n",
       "      <td>0.809952</td>\n",
       "    </tr>\n",
       "  </tbody>\n",
       "</table></div>"
      ],
      "text/plain": [
       "          Код   вероятность наступления целевого случая\n",
       "3435   3189ч_к                                 0.812772\n",
       "3766    687ч_к                                 0.805148\n",
       "4039   3952с_к                                 0.806813\n",
       "4075   1060ч_к                                 0.814789\n",
       "4107   3664с_к                                 0.809063\n",
       "5420   4041ч_к                                 0.802551\n",
       "3435   3189ч_к                                 0.804368\n",
       "3766    687ч_к                                 0.807587\n",
       "4039   3952с_к                                 0.809063\n",
       "5420   4041ч_к                                 0.808710\n",
       "5975   02417_к                                 0.809459\n",
       "2234   4187ч_к                                 0.801723\n",
       "3766    687ч_к                                 0.808156\n",
       "4075   1060ч_к                                 0.810714\n",
       "4107   3664с_к                                 0.808508\n",
       "5420   4041ч_к                                 0.810942\n",
       "5975   02417_к                                 0.815453\n",
       "2234   4187ч_к                                 0.803022\n",
       "4039   3952с_к                                 0.801118\n",
       "5420   4041ч_к                                 0.811503\n",
       "5432   4603ч_к                                 0.809424\n",
       "5975   02417_к                                 0.817624\n",
       "1090  471553_к                                 0.805100\n",
       "2234   4187ч_к                                 0.802453\n",
       "3919   4942ч_к                                 0.801147\n",
       "5432   4603ч_к                                 0.811650\n",
       "5975   02417_к                                 0.809952"
      ]
     },
     "execution_count": 195,
     "metadata": {},
     "output_type": "execute_result"
    }
   ],
   "source": [
    "df_pred_proba_1_5[['Код ', 'вероятность наступления целевого случая']]"
   ]
  },
  {
   "cell_type": "code",
   "execution_count": 196,
   "id": "14ae3e17",
   "metadata": {},
   "outputs": [
    {
     "data": {
      "text/plain": [
       "(27, 3)"
      ]
     },
     "execution_count": 196,
     "metadata": {},
     "output_type": "execute_result"
    }
   ],
   "source": [
    "df_pred_proba_1_5.shape"
   ]
  }
 ],
 "metadata": {
  "kernelspec": {
   "display_name": "Python 3 (ipykernel)",
   "language": "python",
   "name": "python3"
  },
  "language_info": {
   "codemirror_mode": {
    "name": "ipython",
    "version": 3
   },
   "file_extension": ".py",
   "mimetype": "text/x-python",
   "name": "python",
   "nbconvert_exporter": "python",
   "pygments_lexer": "ipython3",
   "version": "3.9.12"
  }
 },
 "nbformat": 4,
 "nbformat_minor": 5
}

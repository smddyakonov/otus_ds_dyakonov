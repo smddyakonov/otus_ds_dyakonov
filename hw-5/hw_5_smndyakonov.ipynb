{
 "cells": [
  {
   "cell_type": "code",
   "execution_count": 165,
   "id": "15ab19be",
   "metadata": {},
   "outputs": [],
   "source": [
    "import math\n",
    "import numpy as np\n",
    "import pandas as pd\n",
    "import matplotlib.pyplot as plt\n",
    "import seaborn as sns\n",
    "\n",
    "from sklearn.model_selection import train_test_split\n",
    "from sklearn.preprocessing import StandardScaler\n",
    "from sklearn.preprocessing import RobustScaler\n",
    "from sklearn.linear_model import LinearRegression\n",
    "from sklearn.linear_model import RidgeCV\n",
    "from sklearn.linear_model import LassoCV\n",
    "from sklearn.linear_model import ElasticNetCV\n",
    "from sklearn import metrics\n",
    "\n",
    "import phik #https://towardsdatascience.com/phik-k-get-familiar-with-the-latest-correlation-coefficient-9ba0032b37e7"
   ]
  },
  {
   "cell_type": "markdown",
   "id": "d0b930a4",
   "metadata": {},
   "source": [
    "# Домашнее задание\n",
    "Где дешевле жить? Предсказание цен в Airbnb - учимся генерировать признаки и интерпретировать результаты модели\n",
    "\n",
    "Цель:\n",
    "В этом проекте вы потренируетесь строить интерпретируемые модели линейной регрессии с регуляризацией и без, а также придумывать новые признаки для улучшения качества модели."
   ]
  },
  {
   "cell_type": "markdown",
   "id": "38a1b68c",
   "metadata": {},
   "source": [
    "## Часть 1. EDA"
   ]
  },
  {
   "cell_type": "markdown",
   "id": "a9479a8b",
   "metadata": {},
   "source": [
    "### 1.1 Скачайте данные с Kaggle по ценам на жильё в Airbnb в Нью-Йорке:\n",
    "https://www.kaggle.com/dgomonov/new-york-city-airbnb-open-data"
   ]
  },
  {
   "cell_type": "code",
   "execution_count": 166,
   "id": "4a891cf6",
   "metadata": {},
   "outputs": [],
   "source": [
    "data = pd.read_csv('AB_NYC_2019.csv')"
   ]
  },
  {
   "cell_type": "code",
   "execution_count": 167,
   "id": "336bd06c",
   "metadata": {},
   "outputs": [],
   "source": [
    "df = data.copy() #скопирую data в переменую df, чтобы не подгружать data"
   ]
  },
  {
   "cell_type": "code",
   "execution_count": 168,
   "id": "eb0e2c25",
   "metadata": {},
   "outputs": [
    {
     "data": {
      "text/html": [
       "<div>\n",
       "<style scoped>\n",
       "    .dataframe tbody tr th:only-of-type {\n",
       "        vertical-align: middle;\n",
       "    }\n",
       "\n",
       "    .dataframe tbody tr th {\n",
       "        vertical-align: top;\n",
       "    }\n",
       "\n",
       "    .dataframe thead th {\n",
       "        text-align: right;\n",
       "    }\n",
       "</style>\n",
       "<table border=\"1\" class=\"dataframe\">\n",
       "  <thead>\n",
       "    <tr style=\"text-align: right;\">\n",
       "      <th></th>\n",
       "      <th>id</th>\n",
       "      <th>name</th>\n",
       "      <th>host_id</th>\n",
       "      <th>host_name</th>\n",
       "      <th>neighbourhood_group</th>\n",
       "      <th>neighbourhood</th>\n",
       "      <th>latitude</th>\n",
       "      <th>longitude</th>\n",
       "      <th>room_type</th>\n",
       "      <th>price</th>\n",
       "      <th>minimum_nights</th>\n",
       "      <th>number_of_reviews</th>\n",
       "      <th>last_review</th>\n",
       "      <th>reviews_per_month</th>\n",
       "      <th>calculated_host_listings_count</th>\n",
       "      <th>availability_365</th>\n",
       "    </tr>\n",
       "  </thead>\n",
       "  <tbody>\n",
       "    <tr>\n",
       "      <th>0</th>\n",
       "      <td>2539</td>\n",
       "      <td>Clean &amp; quiet apt home by the park</td>\n",
       "      <td>2787</td>\n",
       "      <td>John</td>\n",
       "      <td>Brooklyn</td>\n",
       "      <td>Kensington</td>\n",
       "      <td>40.64749</td>\n",
       "      <td>-73.97237</td>\n",
       "      <td>Private room</td>\n",
       "      <td>149</td>\n",
       "      <td>1</td>\n",
       "      <td>9</td>\n",
       "      <td>2018-10-19</td>\n",
       "      <td>0.21</td>\n",
       "      <td>6</td>\n",
       "      <td>365</td>\n",
       "    </tr>\n",
       "    <tr>\n",
       "      <th>1</th>\n",
       "      <td>2595</td>\n",
       "      <td>Skylit Midtown Castle</td>\n",
       "      <td>2845</td>\n",
       "      <td>Jennifer</td>\n",
       "      <td>Manhattan</td>\n",
       "      <td>Midtown</td>\n",
       "      <td>40.75362</td>\n",
       "      <td>-73.98377</td>\n",
       "      <td>Entire home/apt</td>\n",
       "      <td>225</td>\n",
       "      <td>1</td>\n",
       "      <td>45</td>\n",
       "      <td>2019-05-21</td>\n",
       "      <td>0.38</td>\n",
       "      <td>2</td>\n",
       "      <td>355</td>\n",
       "    </tr>\n",
       "    <tr>\n",
       "      <th>2</th>\n",
       "      <td>3647</td>\n",
       "      <td>THE VILLAGE OF HARLEM....NEW YORK !</td>\n",
       "      <td>4632</td>\n",
       "      <td>Elisabeth</td>\n",
       "      <td>Manhattan</td>\n",
       "      <td>Harlem</td>\n",
       "      <td>40.80902</td>\n",
       "      <td>-73.94190</td>\n",
       "      <td>Private room</td>\n",
       "      <td>150</td>\n",
       "      <td>3</td>\n",
       "      <td>0</td>\n",
       "      <td>NaN</td>\n",
       "      <td>NaN</td>\n",
       "      <td>1</td>\n",
       "      <td>365</td>\n",
       "    </tr>\n",
       "    <tr>\n",
       "      <th>3</th>\n",
       "      <td>3831</td>\n",
       "      <td>Cozy Entire Floor of Brownstone</td>\n",
       "      <td>4869</td>\n",
       "      <td>LisaRoxanne</td>\n",
       "      <td>Brooklyn</td>\n",
       "      <td>Clinton Hill</td>\n",
       "      <td>40.68514</td>\n",
       "      <td>-73.95976</td>\n",
       "      <td>Entire home/apt</td>\n",
       "      <td>89</td>\n",
       "      <td>1</td>\n",
       "      <td>270</td>\n",
       "      <td>2019-07-05</td>\n",
       "      <td>4.64</td>\n",
       "      <td>1</td>\n",
       "      <td>194</td>\n",
       "    </tr>\n",
       "    <tr>\n",
       "      <th>4</th>\n",
       "      <td>5022</td>\n",
       "      <td>Entire Apt: Spacious Studio/Loft by central park</td>\n",
       "      <td>7192</td>\n",
       "      <td>Laura</td>\n",
       "      <td>Manhattan</td>\n",
       "      <td>East Harlem</td>\n",
       "      <td>40.79851</td>\n",
       "      <td>-73.94399</td>\n",
       "      <td>Entire home/apt</td>\n",
       "      <td>80</td>\n",
       "      <td>10</td>\n",
       "      <td>9</td>\n",
       "      <td>2018-11-19</td>\n",
       "      <td>0.10</td>\n",
       "      <td>1</td>\n",
       "      <td>0</td>\n",
       "    </tr>\n",
       "  </tbody>\n",
       "</table>\n",
       "</div>"
      ],
      "text/plain": [
       "     id                                              name  host_id  \\\n",
       "0  2539                Clean & quiet apt home by the park     2787   \n",
       "1  2595                             Skylit Midtown Castle     2845   \n",
       "2  3647               THE VILLAGE OF HARLEM....NEW YORK !     4632   \n",
       "3  3831                   Cozy Entire Floor of Brownstone     4869   \n",
       "4  5022  Entire Apt: Spacious Studio/Loft by central park     7192   \n",
       "\n",
       "     host_name neighbourhood_group neighbourhood  latitude  longitude  \\\n",
       "0         John            Brooklyn    Kensington  40.64749  -73.97237   \n",
       "1     Jennifer           Manhattan       Midtown  40.75362  -73.98377   \n",
       "2    Elisabeth           Manhattan        Harlem  40.80902  -73.94190   \n",
       "3  LisaRoxanne            Brooklyn  Clinton Hill  40.68514  -73.95976   \n",
       "4        Laura           Manhattan   East Harlem  40.79851  -73.94399   \n",
       "\n",
       "         room_type  price  minimum_nights  number_of_reviews last_review  \\\n",
       "0     Private room    149               1                  9  2018-10-19   \n",
       "1  Entire home/apt    225               1                 45  2019-05-21   \n",
       "2     Private room    150               3                  0         NaN   \n",
       "3  Entire home/apt     89               1                270  2019-07-05   \n",
       "4  Entire home/apt     80              10                  9  2018-11-19   \n",
       "\n",
       "   reviews_per_month  calculated_host_listings_count  availability_365  \n",
       "0               0.21                               6               365  \n",
       "1               0.38                               2               355  \n",
       "2                NaN                               1               365  \n",
       "3               4.64                               1               194  \n",
       "4               0.10                               1                 0  "
      ]
     },
     "execution_count": 168,
     "metadata": {},
     "output_type": "execute_result"
    }
   ],
   "source": [
    "df.head()"
   ]
  },
  {
   "cell_type": "markdown",
   "id": "d4353e7b",
   "metadata": {},
   "source": [
    "#### Вывод: Скачал данные с Kaggle по ценам на жильё в Airbnb в Нью-Йорке"
   ]
  },
  {
   "cell_type": "markdown",
   "id": "648f3ca4",
   "metadata": {},
   "source": [
    "###  1.2 Пройдите по основным шагам работы с данными - базовые статистики, визуализации (распределения, корреляции, pair plots), предобработка переменных. Переменные, которые пока нужно убрать: id, name, host_id, host_name, last_review."
   ]
  },
  {
   "cell_type": "markdown",
   "id": "fd746d1d",
   "metadata": {},
   "source": [
    "#### 1.2.1 базовые статистики"
   ]
  },
  {
   "cell_type": "code",
   "execution_count": 169,
   "id": "368206d1",
   "metadata": {},
   "outputs": [
    {
     "data": {
      "text/plain": [
       "(48895, 16)"
      ]
     },
     "execution_count": 169,
     "metadata": {},
     "output_type": "execute_result"
    }
   ],
   "source": [
    "df.shape"
   ]
  },
  {
   "cell_type": "code",
   "execution_count": 170,
   "id": "86830502",
   "metadata": {},
   "outputs": [
    {
     "name": "stdout",
     "output_type": "stream",
     "text": [
      "<class 'pandas.core.frame.DataFrame'>\n",
      "RangeIndex: 48895 entries, 0 to 48894\n",
      "Data columns (total 16 columns):\n",
      " #   Column                          Non-Null Count  Dtype  \n",
      "---  ------                          --------------  -----  \n",
      " 0   id                              48895 non-null  int64  \n",
      " 1   name                            48879 non-null  object \n",
      " 2   host_id                         48895 non-null  int64  \n",
      " 3   host_name                       48874 non-null  object \n",
      " 4   neighbourhood_group             48895 non-null  object \n",
      " 5   neighbourhood                   48895 non-null  object \n",
      " 6   latitude                        48895 non-null  float64\n",
      " 7   longitude                       48895 non-null  float64\n",
      " 8   room_type                       48895 non-null  object \n",
      " 9   price                           48895 non-null  int64  \n",
      " 10  minimum_nights                  48895 non-null  int64  \n",
      " 11  number_of_reviews               48895 non-null  int64  \n",
      " 12  last_review                     38843 non-null  object \n",
      " 13  reviews_per_month               38843 non-null  float64\n",
      " 14  calculated_host_listings_count  48895 non-null  int64  \n",
      " 15  availability_365                48895 non-null  int64  \n",
      "dtypes: float64(3), int64(7), object(6)\n",
      "memory usage: 6.0+ MB\n"
     ]
    }
   ],
   "source": [
    "df.info()"
   ]
  },
  {
   "cell_type": "code",
   "execution_count": 171,
   "id": "7b97e12d",
   "metadata": {},
   "outputs": [],
   "source": [
    "# колонки на удаление Переменные, которые пока нужно убрать: id, name, host_id, host_name, last_review\n",
    "drop_list = ['id', 'name', 'host_id', 'host_name', 'last_review']"
   ]
  },
  {
   "cell_type": "code",
   "execution_count": 172,
   "id": "f1ccb8a7",
   "metadata": {},
   "outputs": [
    {
     "data": {
      "text/html": [
       "<div>\n",
       "<style scoped>\n",
       "    .dataframe tbody tr th:only-of-type {\n",
       "        vertical-align: middle;\n",
       "    }\n",
       "\n",
       "    .dataframe tbody tr th {\n",
       "        vertical-align: top;\n",
       "    }\n",
       "\n",
       "    .dataframe thead th {\n",
       "        text-align: right;\n",
       "    }\n",
       "</style>\n",
       "<table border=\"1\" class=\"dataframe\">\n",
       "  <thead>\n",
       "    <tr style=\"text-align: right;\">\n",
       "      <th></th>\n",
       "      <th>id</th>\n",
       "      <th>host_id</th>\n",
       "      <th>latitude</th>\n",
       "      <th>longitude</th>\n",
       "      <th>price</th>\n",
       "      <th>minimum_nights</th>\n",
       "      <th>number_of_reviews</th>\n",
       "      <th>reviews_per_month</th>\n",
       "      <th>calculated_host_listings_count</th>\n",
       "      <th>availability_365</th>\n",
       "    </tr>\n",
       "  </thead>\n",
       "  <tbody>\n",
       "    <tr>\n",
       "      <th>count</th>\n",
       "      <td>4.889500e+04</td>\n",
       "      <td>4.889500e+04</td>\n",
       "      <td>48895.000000</td>\n",
       "      <td>48895.000000</td>\n",
       "      <td>48895.000000</td>\n",
       "      <td>48895.000000</td>\n",
       "      <td>48895.000000</td>\n",
       "      <td>38843.000000</td>\n",
       "      <td>48895.000000</td>\n",
       "      <td>48895.000000</td>\n",
       "    </tr>\n",
       "    <tr>\n",
       "      <th>mean</th>\n",
       "      <td>1.901714e+07</td>\n",
       "      <td>6.762001e+07</td>\n",
       "      <td>40.728949</td>\n",
       "      <td>-73.952170</td>\n",
       "      <td>152.720687</td>\n",
       "      <td>7.029962</td>\n",
       "      <td>23.274466</td>\n",
       "      <td>1.373221</td>\n",
       "      <td>7.143982</td>\n",
       "      <td>112.781327</td>\n",
       "    </tr>\n",
       "    <tr>\n",
       "      <th>std</th>\n",
       "      <td>1.098311e+07</td>\n",
       "      <td>7.861097e+07</td>\n",
       "      <td>0.054530</td>\n",
       "      <td>0.046157</td>\n",
       "      <td>240.154170</td>\n",
       "      <td>20.510550</td>\n",
       "      <td>44.550582</td>\n",
       "      <td>1.680442</td>\n",
       "      <td>32.952519</td>\n",
       "      <td>131.622289</td>\n",
       "    </tr>\n",
       "    <tr>\n",
       "      <th>min</th>\n",
       "      <td>2.539000e+03</td>\n",
       "      <td>2.438000e+03</td>\n",
       "      <td>40.499790</td>\n",
       "      <td>-74.244420</td>\n",
       "      <td>0.000000</td>\n",
       "      <td>1.000000</td>\n",
       "      <td>0.000000</td>\n",
       "      <td>0.010000</td>\n",
       "      <td>1.000000</td>\n",
       "      <td>0.000000</td>\n",
       "    </tr>\n",
       "    <tr>\n",
       "      <th>25%</th>\n",
       "      <td>9.471945e+06</td>\n",
       "      <td>7.822033e+06</td>\n",
       "      <td>40.690100</td>\n",
       "      <td>-73.983070</td>\n",
       "      <td>69.000000</td>\n",
       "      <td>1.000000</td>\n",
       "      <td>1.000000</td>\n",
       "      <td>0.190000</td>\n",
       "      <td>1.000000</td>\n",
       "      <td>0.000000</td>\n",
       "    </tr>\n",
       "    <tr>\n",
       "      <th>50%</th>\n",
       "      <td>1.967728e+07</td>\n",
       "      <td>3.079382e+07</td>\n",
       "      <td>40.723070</td>\n",
       "      <td>-73.955680</td>\n",
       "      <td>106.000000</td>\n",
       "      <td>3.000000</td>\n",
       "      <td>5.000000</td>\n",
       "      <td>0.720000</td>\n",
       "      <td>1.000000</td>\n",
       "      <td>45.000000</td>\n",
       "    </tr>\n",
       "    <tr>\n",
       "      <th>75%</th>\n",
       "      <td>2.915218e+07</td>\n",
       "      <td>1.074344e+08</td>\n",
       "      <td>40.763115</td>\n",
       "      <td>-73.936275</td>\n",
       "      <td>175.000000</td>\n",
       "      <td>5.000000</td>\n",
       "      <td>24.000000</td>\n",
       "      <td>2.020000</td>\n",
       "      <td>2.000000</td>\n",
       "      <td>227.000000</td>\n",
       "    </tr>\n",
       "    <tr>\n",
       "      <th>max</th>\n",
       "      <td>3.648724e+07</td>\n",
       "      <td>2.743213e+08</td>\n",
       "      <td>40.913060</td>\n",
       "      <td>-73.712990</td>\n",
       "      <td>10000.000000</td>\n",
       "      <td>1250.000000</td>\n",
       "      <td>629.000000</td>\n",
       "      <td>58.500000</td>\n",
       "      <td>327.000000</td>\n",
       "      <td>365.000000</td>\n",
       "    </tr>\n",
       "  </tbody>\n",
       "</table>\n",
       "</div>"
      ],
      "text/plain": [
       "                 id       host_id      latitude     longitude         price  \\\n",
       "count  4.889500e+04  4.889500e+04  48895.000000  48895.000000  48895.000000   \n",
       "mean   1.901714e+07  6.762001e+07     40.728949    -73.952170    152.720687   \n",
       "std    1.098311e+07  7.861097e+07      0.054530      0.046157    240.154170   \n",
       "min    2.539000e+03  2.438000e+03     40.499790    -74.244420      0.000000   \n",
       "25%    9.471945e+06  7.822033e+06     40.690100    -73.983070     69.000000   \n",
       "50%    1.967728e+07  3.079382e+07     40.723070    -73.955680    106.000000   \n",
       "75%    2.915218e+07  1.074344e+08     40.763115    -73.936275    175.000000   \n",
       "max    3.648724e+07  2.743213e+08     40.913060    -73.712990  10000.000000   \n",
       "\n",
       "       minimum_nights  number_of_reviews  reviews_per_month  \\\n",
       "count    48895.000000       48895.000000       38843.000000   \n",
       "mean         7.029962          23.274466           1.373221   \n",
       "std         20.510550          44.550582           1.680442   \n",
       "min          1.000000           0.000000           0.010000   \n",
       "25%          1.000000           1.000000           0.190000   \n",
       "50%          3.000000           5.000000           0.720000   \n",
       "75%          5.000000          24.000000           2.020000   \n",
       "max       1250.000000         629.000000          58.500000   \n",
       "\n",
       "       calculated_host_listings_count  availability_365  \n",
       "count                    48895.000000      48895.000000  \n",
       "mean                         7.143982        112.781327  \n",
       "std                         32.952519        131.622289  \n",
       "min                          1.000000          0.000000  \n",
       "25%                          1.000000          0.000000  \n",
       "50%                          1.000000         45.000000  \n",
       "75%                          2.000000        227.000000  \n",
       "max                        327.000000        365.000000  "
      ]
     },
     "execution_count": 172,
     "metadata": {},
     "output_type": "execute_result"
    }
   ],
   "source": [
    "# базовые статистики\n",
    "df.describe()"
   ]
  },
  {
   "cell_type": "code",
   "execution_count": 173,
   "id": "bdcabc3c",
   "metadata": {},
   "outputs": [
    {
     "data": {
      "text/plain": [
       "id                                    0\n",
       "name                                 16\n",
       "host_id                               0\n",
       "host_name                            21\n",
       "neighbourhood_group                   0\n",
       "neighbourhood                         0\n",
       "latitude                              0\n",
       "longitude                             0\n",
       "room_type                             0\n",
       "price                                 0\n",
       "minimum_nights                        0\n",
       "number_of_reviews                     0\n",
       "last_review                       10052\n",
       "reviews_per_month                 10052\n",
       "calculated_host_listings_count        0\n",
       "availability_365                      0\n",
       "dtype: int64"
      ]
     },
     "execution_count": 173,
     "metadata": {},
     "output_type": "execute_result"
    }
   ],
   "source": [
    "#незаполненные значения в данных\n",
    "df.isnull().sum()"
   ]
  },
  {
   "cell_type": "markdown",
   "id": "f8394967",
   "metadata": {},
   "source": [
    "##### незаполненные данные есть только в столбце reviews_per_month - количество отзывов в месяц. last_review name host_name in drop_list"
   ]
  },
  {
   "cell_type": "code",
   "execution_count": 174,
   "id": "382227c2",
   "metadata": {},
   "outputs": [],
   "source": [
    "# заменю нулями пустые значения\n",
    "df['reviews_per_month'] = df['reviews_per_month'].fillna(0)"
   ]
  },
  {
   "cell_type": "code",
   "execution_count": 175,
   "id": "16e19518",
   "metadata": {},
   "outputs": [
    {
     "data": {
      "text/plain": [
       "id                                    0\n",
       "name                                 16\n",
       "host_id                               0\n",
       "host_name                            21\n",
       "neighbourhood_group                   0\n",
       "neighbourhood                         0\n",
       "latitude                              0\n",
       "longitude                             0\n",
       "room_type                             0\n",
       "price                                 0\n",
       "minimum_nights                        0\n",
       "number_of_reviews                     0\n",
       "last_review                       10052\n",
       "reviews_per_month                     0\n",
       "calculated_host_listings_count        0\n",
       "availability_365                      0\n",
       "dtype: int64"
      ]
     },
     "execution_count": 175,
     "metadata": {},
     "output_type": "execute_result"
    }
   ],
   "source": [
    "#незаполненные значения в данных после замены\n",
    "df.isnull().sum()"
   ]
  },
  {
   "cell_type": "markdown",
   "id": "a542298f",
   "metadata": {},
   "source": [
    "##### незаполненные данных нет"
   ]
  },
  {
   "cell_type": "markdown",
   "id": "75583c7c",
   "metadata": {},
   "source": [
    "#### выделим колонки по типам данных"
   ]
  },
  {
   "cell_type": "code",
   "execution_count": 176,
   "id": "ee98eba9",
   "metadata": {},
   "outputs": [
    {
     "data": {
      "text/plain": [
       "int64      7\n",
       "object     6\n",
       "float64    3\n",
       "dtype: int64"
      ]
     },
     "execution_count": 176,
     "metadata": {},
     "output_type": "execute_result"
    }
   ],
   "source": [
    "df.dtypes.value_counts()"
   ]
  },
  {
   "cell_type": "code",
   "execution_count": 177,
   "id": "c013dd3f",
   "metadata": {},
   "outputs": [
    {
     "name": "stdout",
     "output_type": "stream",
     "text": [
      "Index(['latitude', 'longitude', 'price', 'minimum_nights', 'number_of_reviews',\n",
      "       'reviews_per_month', 'calculated_host_listings_count',\n",
      "       'availability_365'],\n",
      "      dtype='object')\n"
     ]
    }
   ],
   "source": [
    "#числовые, непрерывные переменныe\n",
    "columns = df.drop(columns = drop_list).select_dtypes(['int64', 'float64']).columns\n",
    "print(columns)"
   ]
  },
  {
   "cell_type": "code",
   "execution_count": 178,
   "id": "ba46a6e7",
   "metadata": {},
   "outputs": [
    {
     "name": "stdout",
     "output_type": "stream",
     "text": [
      "Index(['neighbourhood_group', 'neighbourhood', 'room_type'], dtype='object')\n"
     ]
    }
   ],
   "source": [
    "#категориальные переменные\n",
    "categorical_columns = df.drop(columns = drop_list).select_dtypes(['object']).columns\n",
    "print(categorical_columns)"
   ]
  },
  {
   "cell_type": "markdown",
   "id": "0a6e54e4",
   "metadata": {},
   "source": [
    "####  1.2.2 визуализации (распределения, корреляции, pair plots), предобработка переменных"
   ]
  },
  {
   "cell_type": "code",
   "execution_count": 179,
   "id": "58f220a6",
   "metadata": {},
   "outputs": [
    {
     "data": {
      "image/png": "[encoded data removed]",
      "text/plain": [
       "<Figure size 504x1440 with 16 Axes>"
      ]
     },
     "metadata": {
      "needs_background": "light"
     },
     "output_type": "display_data"
    }
   ],
   "source": [
    "# гистограммы и графики плотности распределения признаков для числовых, непрерывных переменных\n",
    "# окружение для графиков, для каждой колонки два столбца\n",
    "fig, axs = plt.subplots(nrows=len(columns), ncols=2, figsize=(7,20))\n",
    "\n",
    "for index, column in enumerate(columns):\n",
    "    # В первом столбце гистограмма\n",
    "    df[column].hist(ax=axs[index, 0])\n",
    "    axs[index, 0].set_title(f'Histogram: {column}', fontsize=12)\n",
    "    axs[index, 0].set_ylabel('Count', fontsize=12)\n",
    "        \n",
    "    # Во втором столбце график сглаженной плотности распределения на основе ядерной оценки\n",
    "    df[column].plot(kind='kde', ax=axs[index, 1])\n",
    "    axs[index, 1].set_title(f'Kernel density estimate: {column}', fontsize=12)\n",
    "\n",
    "plt.tight_layout(pad=3.0)\n",
    "plt.show()"
   ]
  },
  {
   "cell_type": "code",
   "execution_count": 180,
   "id": "ca37be34",
   "metadata": {},
   "outputs": [
    {
     "data": {
      "text/plain": [
       "<AxesSubplot:>"
      ]
     },
     "execution_count": 180,
     "metadata": {},
     "output_type": "execute_result"
    },
    {
     "data": {
      "image/png": "[encoded data removed]",
      "text/plain": [
       "<Figure size 432x288 with 1 Axes>"
      ]
     },
     "metadata": {
      "needs_background": "light"
     },
     "output_type": "display_data"
    }
   ],
   "source": [
    "#категориальные переменныe\n",
    "df['neighbourhood_group'].hist()"
   ]
  },
  {
   "cell_type": "code",
   "execution_count": 181,
   "id": "87578e1a",
   "metadata": {},
   "outputs": [
    {
     "data": {
      "text/plain": [
       "<AxesSubplot:>"
      ]
     },
     "execution_count": 181,
     "metadata": {},
     "output_type": "execute_result"
    },
    {
     "data": {
      "image/png": "[encoded data removed]",
      "text/plain": [
       "<Figure size 432x288 with 1 Axes>"
      ]
     },
     "metadata": {
      "needs_background": "light"
     },
     "output_type": "display_data"
    }
   ],
   "source": [
    "df['room_type'].hist()"
   ]
  },
  {
   "cell_type": "code",
   "execution_count": 182,
   "id": "603f8af7",
   "metadata": {},
   "outputs": [
    {
     "data": {
      "text/plain": [
       "<AxesSubplot:>"
      ]
     },
     "execution_count": 182,
     "metadata": {},
     "output_type": "execute_result"
    },
    {
     "data": {
      "image/png": "[encoded data removed]",
      "text/plain": [
       "<Figure size 432x288 with 1 Axes>"
      ]
     },
     "metadata": {
      "needs_background": "light"
     },
     "output_type": "display_data"
    }
   ],
   "source": [
    "df['neighbourhood'].hist()"
   ]
  },
  {
   "cell_type": "markdown",
   "id": "eb00d8b0",
   "metadata": {},
   "source": [
    "##### переведу neighbourhood_group и room_type в переменные-индикаторы, а для переменной neighbourhood применю частотное кодирование."
   ]
  },
  {
   "cell_type": "code",
   "execution_count": 183,
   "id": "ab1ff220",
   "metadata": {},
   "outputs": [],
   "source": [
    "#neighbourhood_group и room_type в переменные-индикаторы\n",
    "df = pd.concat([df, pd.get_dummies(df['neighbourhood_group']), pd.get_dummies(df['room_type'])], axis=1)"
   ]
  },
  {
   "cell_type": "code",
   "execution_count": 184,
   "id": "03da143c",
   "metadata": {},
   "outputs": [],
   "source": [
    "#neighbourhood применю частотное кодирование\n",
    "df_neighbourhood_freq = pd.DataFrame(df['neighbourhood'].value_counts(normalize=True)).reset_index().rename(columns={'neighbourhood': 'neighbourhood_freq'})\n",
    "df = df.merge(df_neighbourhood_freq, how = 'left', left_on='neighbourhood', right_on = 'index')\n",
    "df.drop(columns='index', inplace=True)"
   ]
  },
  {
   "cell_type": "code",
   "execution_count": 185,
   "id": "3796f6ca",
   "metadata": {},
   "outputs": [
    {
     "data": {
      "text/html": [
       "<div>\n",
       "<style scoped>\n",
       "    .dataframe tbody tr th:only-of-type {\n",
       "        vertical-align: middle;\n",
       "    }\n",
       "\n",
       "    .dataframe tbody tr th {\n",
       "        vertical-align: top;\n",
       "    }\n",
       "\n",
       "    .dataframe thead th {\n",
       "        text-align: right;\n",
       "    }\n",
       "</style>\n",
       "<table border=\"1\" class=\"dataframe\">\n",
       "  <thead>\n",
       "    <tr style=\"text-align: right;\">\n",
       "      <th></th>\n",
       "      <th>id</th>\n",
       "      <th>name</th>\n",
       "      <th>host_id</th>\n",
       "      <th>host_name</th>\n",
       "      <th>neighbourhood_group</th>\n",
       "      <th>neighbourhood</th>\n",
       "      <th>latitude</th>\n",
       "      <th>longitude</th>\n",
       "      <th>room_type</th>\n",
       "      <th>price</th>\n",
       "      <th>...</th>\n",
       "      <th>availability_365</th>\n",
       "      <th>Bronx</th>\n",
       "      <th>Brooklyn</th>\n",
       "      <th>Manhattan</th>\n",
       "      <th>Queens</th>\n",
       "      <th>Staten Island</th>\n",
       "      <th>Entire home/apt</th>\n",
       "      <th>Private room</th>\n",
       "      <th>Shared room</th>\n",
       "      <th>neighbourhood_freq</th>\n",
       "    </tr>\n",
       "  </thead>\n",
       "  <tbody>\n",
       "    <tr>\n",
       "      <th>0</th>\n",
       "      <td>2539</td>\n",
       "      <td>Clean &amp; quiet apt home by the park</td>\n",
       "      <td>2787</td>\n",
       "      <td>John</td>\n",
       "      <td>Brooklyn</td>\n",
       "      <td>Kensington</td>\n",
       "      <td>40.64749</td>\n",
       "      <td>-73.97237</td>\n",
       "      <td>Private room</td>\n",
       "      <td>149</td>\n",
       "      <td>...</td>\n",
       "      <td>365</td>\n",
       "      <td>0</td>\n",
       "      <td>1</td>\n",
       "      <td>0</td>\n",
       "      <td>0</td>\n",
       "      <td>0</td>\n",
       "      <td>0</td>\n",
       "      <td>1</td>\n",
       "      <td>0</td>\n",
       "      <td>0.003579</td>\n",
       "    </tr>\n",
       "    <tr>\n",
       "      <th>1</th>\n",
       "      <td>2595</td>\n",
       "      <td>Skylit Midtown Castle</td>\n",
       "      <td>2845</td>\n",
       "      <td>Jennifer</td>\n",
       "      <td>Manhattan</td>\n",
       "      <td>Midtown</td>\n",
       "      <td>40.75362</td>\n",
       "      <td>-73.98377</td>\n",
       "      <td>Entire home/apt</td>\n",
       "      <td>225</td>\n",
       "      <td>...</td>\n",
       "      <td>355</td>\n",
       "      <td>0</td>\n",
       "      <td>0</td>\n",
       "      <td>1</td>\n",
       "      <td>0</td>\n",
       "      <td>0</td>\n",
       "      <td>1</td>\n",
       "      <td>0</td>\n",
       "      <td>0</td>\n",
       "      <td>0.031598</td>\n",
       "    </tr>\n",
       "    <tr>\n",
       "      <th>2</th>\n",
       "      <td>3647</td>\n",
       "      <td>THE VILLAGE OF HARLEM....NEW YORK !</td>\n",
       "      <td>4632</td>\n",
       "      <td>Elisabeth</td>\n",
       "      <td>Manhattan</td>\n",
       "      <td>Harlem</td>\n",
       "      <td>40.80902</td>\n",
       "      <td>-73.94190</td>\n",
       "      <td>Private room</td>\n",
       "      <td>150</td>\n",
       "      <td>...</td>\n",
       "      <td>365</td>\n",
       "      <td>0</td>\n",
       "      <td>0</td>\n",
       "      <td>1</td>\n",
       "      <td>0</td>\n",
       "      <td>0</td>\n",
       "      <td>0</td>\n",
       "      <td>1</td>\n",
       "      <td>0</td>\n",
       "      <td>0.054361</td>\n",
       "    </tr>\n",
       "    <tr>\n",
       "      <th>3</th>\n",
       "      <td>3831</td>\n",
       "      <td>Cozy Entire Floor of Brownstone</td>\n",
       "      <td>4869</td>\n",
       "      <td>LisaRoxanne</td>\n",
       "      <td>Brooklyn</td>\n",
       "      <td>Clinton Hill</td>\n",
       "      <td>40.68514</td>\n",
       "      <td>-73.95976</td>\n",
       "      <td>Entire home/apt</td>\n",
       "      <td>89</td>\n",
       "      <td>...</td>\n",
       "      <td>194</td>\n",
       "      <td>0</td>\n",
       "      <td>1</td>\n",
       "      <td>0</td>\n",
       "      <td>0</td>\n",
       "      <td>0</td>\n",
       "      <td>1</td>\n",
       "      <td>0</td>\n",
       "      <td>0</td>\n",
       "      <td>0.011699</td>\n",
       "    </tr>\n",
       "    <tr>\n",
       "      <th>4</th>\n",
       "      <td>5022</td>\n",
       "      <td>Entire Apt: Spacious Studio/Loft by central park</td>\n",
       "      <td>7192</td>\n",
       "      <td>Laura</td>\n",
       "      <td>Manhattan</td>\n",
       "      <td>East Harlem</td>\n",
       "      <td>40.79851</td>\n",
       "      <td>-73.94399</td>\n",
       "      <td>Entire home/apt</td>\n",
       "      <td>80</td>\n",
       "      <td>...</td>\n",
       "      <td>0</td>\n",
       "      <td>0</td>\n",
       "      <td>0</td>\n",
       "      <td>1</td>\n",
       "      <td>0</td>\n",
       "      <td>0</td>\n",
       "      <td>1</td>\n",
       "      <td>0</td>\n",
       "      <td>0</td>\n",
       "      <td>0.022845</td>\n",
       "    </tr>\n",
       "  </tbody>\n",
       "</table>\n",
       "<p>5 rows × 25 columns</p>\n",
       "</div>"
      ],
      "text/plain": [
       "     id                                              name  host_id  \\\n",
       "0  2539                Clean & quiet apt home by the park     2787   \n",
       "1  2595                             Skylit Midtown Castle     2845   \n",
       "2  3647               THE VILLAGE OF HARLEM....NEW YORK !     4632   \n",
       "3  3831                   Cozy Entire Floor of Brownstone     4869   \n",
       "4  5022  Entire Apt: Spacious Studio/Loft by central park     7192   \n",
       "\n",
       "     host_name neighbourhood_group neighbourhood  latitude  longitude  \\\n",
       "0         John            Brooklyn    Kensington  40.64749  -73.97237   \n",
       "1     Jennifer           Manhattan       Midtown  40.75362  -73.98377   \n",
       "2    Elisabeth           Manhattan        Harlem  40.80902  -73.94190   \n",
       "3  LisaRoxanne            Brooklyn  Clinton Hill  40.68514  -73.95976   \n",
       "4        Laura           Manhattan   East Harlem  40.79851  -73.94399   \n",
       "\n",
       "         room_type  price  ...  availability_365  Bronx Brooklyn  Manhattan  \\\n",
       "0     Private room    149  ...               365      0        1          0   \n",
       "1  Entire home/apt    225  ...               355      0        0          1   \n",
       "2     Private room    150  ...               365      0        0          1   \n",
       "3  Entire home/apt     89  ...               194      0        1          0   \n",
       "4  Entire home/apt     80  ...                 0      0        0          1   \n",
       "\n",
       "   Queens  Staten Island  Entire home/apt  Private room  Shared room  \\\n",
       "0       0              0                0             1            0   \n",
       "1       0              0                1             0            0   \n",
       "2       0              0                0             1            0   \n",
       "3       0              0                1             0            0   \n",
       "4       0              0                1             0            0   \n",
       "\n",
       "   neighbourhood_freq  \n",
       "0            0.003579  \n",
       "1            0.031598  \n",
       "2            0.054361  \n",
       "3            0.011699  \n",
       "4            0.022845  \n",
       "\n",
       "[5 rows x 25 columns]"
      ]
     },
     "execution_count": 185,
     "metadata": {},
     "output_type": "execute_result"
    }
   ],
   "source": [
    "df.head()"
   ]
  },
  {
   "cell_type": "code",
   "execution_count": 186,
   "id": "358c76f8",
   "metadata": {},
   "outputs": [
    {
     "name": "stdout",
     "output_type": "stream",
     "text": [
      "df.columns: Index(['id', 'name', 'host_id', 'host_name', 'neighbourhood_group',\n",
      "       'neighbourhood', 'latitude', 'longitude', 'room_type', 'price',\n",
      "       'minimum_nights', 'number_of_reviews', 'last_review',\n",
      "       'reviews_per_month', 'calculated_host_listings_count',\n",
      "       'availability_365', 'Bronx', 'Brooklyn', 'Manhattan', 'Queens',\n",
      "       'Staten Island', 'Entire home/apt', 'Private room', 'Shared room',\n",
      "       'neighbourhood_freq'],\n",
      "      dtype='object')\n",
      "drop_list: ['id', 'name', 'host_id', 'host_name', 'last_review']\n"
     ]
    }
   ],
   "source": [
    "# посмотрю, какие столбцы есть и какие на удаление, при необоходимости дополню список drop_list\n",
    "print(f'df.columns: {df.columns}')\n",
    "print(f'drop_list: {drop_list}')"
   ]
  },
  {
   "cell_type": "code",
   "execution_count": 187,
   "id": "142e59c3",
   "metadata": {},
   "outputs": [],
   "source": [
    "#дополнение drop_list\n",
    "drop_list.extend(['neighbourhood_group', 'neighbourhood', 'room_type'])"
   ]
  },
  {
   "cell_type": "code",
   "execution_count": 188,
   "id": "98c58212",
   "metadata": {},
   "outputs": [
    {
     "data": {
      "text/plain": [
       "['id',\n",
       " 'name',\n",
       " 'host_id',\n",
       " 'host_name',\n",
       " 'last_review',\n",
       " 'neighbourhood_group',\n",
       " 'neighbourhood',\n",
       " 'room_type']"
      ]
     },
     "execution_count": 188,
     "metadata": {},
     "output_type": "execute_result"
    }
   ],
   "source": [
    "drop_list"
   ]
  },
  {
   "cell_type": "code",
   "execution_count": 189,
   "id": "47faecc9",
   "metadata": {},
   "outputs": [],
   "source": [
    "df.drop(drop_list, axis=1, inplace=True)"
   ]
  },
  {
   "cell_type": "code",
   "execution_count": 190,
   "id": "2f095b7e",
   "metadata": {},
   "outputs": [
    {
     "data": {
      "text/plain": [
       "Index(['latitude', 'longitude', 'price', 'minimum_nights', 'number_of_reviews',\n",
       "       'reviews_per_month', 'calculated_host_listings_count',\n",
       "       'availability_365', 'Bronx', 'Brooklyn', 'Manhattan', 'Queens',\n",
       "       'Staten Island', 'Entire home/apt', 'Private room', 'Shared room',\n",
       "       'neighbourhood_freq'],\n",
       "      dtype='object')"
      ]
     },
     "execution_count": 190,
     "metadata": {},
     "output_type": "execute_result"
    }
   ],
   "source": [
    "df.columns"
   ]
  },
  {
   "cell_type": "code",
   "execution_count": 191,
   "id": "bf5bd0ee",
   "metadata": {},
   "outputs": [
    {
     "name": "stdout",
     "output_type": "stream",
     "text": [
      "<class 'pandas.core.frame.DataFrame'>\n",
      "Int64Index: 48895 entries, 0 to 48894\n",
      "Data columns (total 17 columns):\n",
      " #   Column                          Non-Null Count  Dtype  \n",
      "---  ------                          --------------  -----  \n",
      " 0   latitude                        48895 non-null  float64\n",
      " 1   longitude                       48895 non-null  float64\n",
      " 2   price                           48895 non-null  int64  \n",
      " 3   minimum_nights                  48895 non-null  int64  \n",
      " 4   number_of_reviews               48895 non-null  int64  \n",
      " 5   reviews_per_month               48895 non-null  float64\n",
      " 6   calculated_host_listings_count  48895 non-null  int64  \n",
      " 7   availability_365                48895 non-null  int64  \n",
      " 8   Bronx                           48895 non-null  uint8  \n",
      " 9   Brooklyn                        48895 non-null  uint8  \n",
      " 10  Manhattan                       48895 non-null  uint8  \n",
      " 11  Queens                          48895 non-null  uint8  \n",
      " 12  Staten Island                   48895 non-null  uint8  \n",
      " 13  Entire home/apt                 48895 non-null  uint8  \n",
      " 14  Private room                    48895 non-null  uint8  \n",
      " 15  Shared room                     48895 non-null  uint8  \n",
      " 16  neighbourhood_freq              48895 non-null  float64\n",
      "dtypes: float64(4), int64(5), uint8(8)\n",
      "memory usage: 4.1 MB\n"
     ]
    }
   ],
   "source": [
    "df.info()"
   ]
  },
  {
   "cell_type": "code",
   "execution_count": 192,
   "id": "d30769b6",
   "metadata": {},
   "outputs": [
    {
     "data": {
      "image/png": "[encoded data removed]",
      "text/plain": [
       "<Figure size 720x720 with 2 Axes>"
      ]
     },
     "metadata": {
      "needs_background": "light"
     },
     "output_type": "display_data"
    }
   ],
   "source": [
    "#корреляции\n",
    "corr_list = ['price', 'neighbourhood_freq', 'latitude', 'longitude', 'minimum_nights', \n",
    "           'number_of_reviews', 'reviews_per_month', 'calculated_host_listings_count', 'availability_365']\n",
    "corr = df[corr_list].corr()\n",
    "\n",
    "# Отобразим ее на тепловой карте\n",
    "plt.figure(figsize=(10,10));\n",
    "sns.heatmap(corr, annot=True, fmt='.3f');"
   ]
  },
  {
   "cell_type": "code",
   "execution_count": 193,
   "id": "e122b8b0",
   "metadata": {},
   "outputs": [],
   "source": [
    "phik_overview = df[corr_list].phik_matrix(interval_cols=corr_list)"
   ]
  },
  {
   "cell_type": "code",
   "execution_count": 194,
   "id": "4f5b9fc2",
   "metadata": {},
   "outputs": [
    {
     "data": {
      "image/png": "[encoded data removed]",
      "text/plain": [
       "<Figure size 864x864 with 2 Axes>"
      ]
     },
     "metadata": {
      "needs_background": "light"
     },
     "output_type": "display_data"
    }
   ],
   "source": [
    "plt.figure(figsize=(12,12));\n",
    "sns.heatmap(phik_overview, annot=True, fmt='.2f');"
   ]
  },
  {
   "cell_type": "code",
   "execution_count": 195,
   "id": "38b01505",
   "metadata": {},
   "outputs": [],
   "source": [
    "#Как видно из графика корреляции, зависимыми друг от друга являются \n",
    "#number_of_reviews', 'reviews_per_month;  neighbourhood_freq и ('latitude' or 'longitude')\n",
    "#Построим графики парных корреляций, действительно ли между признаками наблюдается линейная зависимость."
   ]
  },
  {
   "cell_type": "code",
   "execution_count": 196,
   "id": "f71bc44d",
   "metadata": {},
   "outputs": [
    {
     "data": {
      "text/plain": [
       "<AxesSubplot:xlabel='reviews_per_month', ylabel='number_of_reviews'>"
      ]
     },
     "execution_count": 196,
     "metadata": {},
     "output_type": "execute_result"
    },
    {
     "data": {
      "image/png": "[encoded data removed]",
      "text/plain": [
       "<Figure size 432x288 with 1 Axes>"
      ]
     },
     "metadata": {
      "needs_background": "light"
     },
     "output_type": "display_data"
    }
   ],
   "source": [
    "df[['reviews_per_month', 'number_of_reviews']].plot(kind = 'scatter', y='number_of_reviews', x='reviews_per_month', \n",
    "                                                    grid = True, alpha = 0.5)"
   ]
  },
  {
   "cell_type": "code",
   "execution_count": 197,
   "id": "d3a1de44",
   "metadata": {},
   "outputs": [
    {
     "data": {
      "text/plain": [
       "<AxesSubplot:xlabel='latitude', ylabel='neighbourhood_freq'>"
      ]
     },
     "execution_count": 197,
     "metadata": {},
     "output_type": "execute_result"
    },
    {
     "data": {
      "image/png": "[encoded data removed]",
      "text/plain": [
       "<Figure size 432x288 with 1 Axes>"
      ]
     },
     "metadata": {
      "needs_background": "light"
     },
     "output_type": "display_data"
    }
   ],
   "source": [
    "df[['neighbourhood_freq', 'latitude']].plot(kind = 'scatter', y='neighbourhood_freq', x='latitude', \n",
    "                                                    grid = True, alpha = 0.5)"
   ]
  },
  {
   "cell_type": "code",
   "execution_count": 198,
   "id": "2b1afd3c",
   "metadata": {},
   "outputs": [
    {
     "data": {
      "text/plain": [
       "<AxesSubplot:xlabel='longitude', ylabel='neighbourhood_freq'>"
      ]
     },
     "execution_count": 198,
     "metadata": {},
     "output_type": "execute_result"
    },
    {
     "data": {
      "image/png": "[encoded data removed]",
      "text/plain": [
       "<Figure size 432x288 with 1 Axes>"
      ]
     },
     "metadata": {
      "needs_background": "light"
     },
     "output_type": "display_data"
    }
   ],
   "source": [
    "df[['neighbourhood_freq', 'longitude']].plot(kind = 'scatter', y='neighbourhood_freq', x='longitude', \n",
    "                                                    grid = True, alpha = 0.5)"
   ]
  },
  {
   "cell_type": "markdown",
   "id": "0889530c",
   "metadata": {},
   "source": [
    "## Части 2,3. Preprocessing & Feature Engineering. Моделирование\n",
    "### Preprocessing & Feature Engineering\n",
    "Ваша цель получить как можно более высокие метрики качества (можно взять несколько, R2, MAE, RMSE), сконцентрировавшись на преобразовании признаков.\n",
    "Опробуйте различные техники:\n",
    "работа с категориальными переменными (можно начать с dummy);\n",
    "замена аномалий;\n",
    "различные варианты шкалирования непрерывных переменных (StandardScaler, RobustScaler, и.т.д.);\n",
    "обратите внимание на распределение целевой переменной, возможно, с ней тоже можно поработать;\n",
    "Попробуйте на основании имеющихся переменных создать новые, которые могли бы улучшить качество модели. Например, можно найти координаты Манхэттена (самого дорогого района) и при помощи широты и долготы, а также евклидового расстояния создать новую переменную - расстояние от квартиры до этого района. Возможно, такой признак будет работать лучше, чем просто широта и долгота.\n",
    "### Моделирование\n",
    "Отложите 30% данных для тестирования.\n",
    "Постройте модели простой линейной регрессии, RidgeCV, LassoCV и ElasticNetCV.\n",
    "Измерьте качество каждой и визуализируйте важность признаков.\n",
    "Сделайте интересные выводы :)"
   ]
  },
  {
   "cell_type": "code",
   "execution_count": 199,
   "id": "786e05c8",
   "metadata": {},
   "outputs": [],
   "source": [
    "#зафиксирую random_state\n",
    "random_state=13"
   ]
  },
  {
   "cell_type": "code",
   "execution_count": 200,
   "id": "2c3aa2d6",
   "metadata": {},
   "outputs": [
    {
     "data": {
      "text/plain": [
       "((48895, 16), (48895,))"
      ]
     },
     "execution_count": 200,
     "metadata": {},
     "output_type": "execute_result"
    }
   ],
   "source": [
    "# Сохраню в  𝑋 все колонки признаки, а в  𝑦−целевую переменную.\n",
    "X = df.drop('price', axis=1)\n",
    "y = df['price']\n",
    "\n",
    "X.shape, y.shape"
   ]
  },
  {
   "cell_type": "code",
   "execution_count": 201,
   "id": "c61d5086",
   "metadata": {},
   "outputs": [],
   "source": [
    "# Разобью данные на тренировочный и тестовый наборы.\n",
    "X_train, X_test, y_train, y_test = train_test_split(X, y, test_size=0.3, random_state=random_state)"
   ]
  },
  {
   "cell_type": "code",
   "execution_count": 202,
   "id": "0a38b0da",
   "metadata": {},
   "outputs": [
    {
     "data": {
      "text/plain": [
       "((34226, 16), (14669, 16), (34226,), (14669,))"
      ]
     },
     "execution_count": 202,
     "metadata": {},
     "output_type": "execute_result"
    }
   ],
   "source": [
    "X_train.shape, X_test.shape, y_train.shape, y_test.shape"
   ]
  },
  {
   "cell_type": "code",
   "execution_count": 203,
   "id": "d771d88e",
   "metadata": {},
   "outputs": [],
   "source": [
    "# метрики качества буду собирать в дата-фрейм df_metrics. Создам функцию\n",
    "def get_df_metrics():\n",
    "    df_metrics = pd.DataFrame({\"error_name\":[\"MAE\", \"RMSE\", \"R2\"]})\n",
    "    df_metrics.set_index(\"error_name\")\n",
    "    return df_metrics"
   ]
  },
  {
   "cell_type": "code",
   "execution_count": 204,
   "id": "9a9772b2",
   "metadata": {},
   "outputs": [],
   "source": [
    "# Построение моделей линейной регрессии\n",
    "def regression(X_train, X_test, y_train, y_test, regressor, regressor_name, df_metrics, plot_graphics=True):\n",
    "    print('Регрессор:', regressor_name)\n",
    "    \n",
    "    regressor.fit(X_train, y_train)\n",
    "    y_pred = regressor.predict(X_test)\n",
    "\n",
    "    if (hasattr(regressor, 'alpha_')):\n",
    "        print('Лучшее значение параметра регуляризации: {:.5f}'.format(regressor.alpha_))\n",
    "\n",
    "    df_metrics[regressor_name] = [\n",
    "       metrics.mean_absolute_error(y_test, y_pred),\n",
    "       np.sqrt(metrics.mean_squared_error(y_test, y_pred)),\n",
    "       metrics.r2_score(y_test, y_pred)       \n",
    "    ]\n",
    "\n",
    "    if (plot_graphics):\n",
    "        featureImportance = pd.DataFrame({\"feature\": X_train.columns[regressor.coef_!=0], \n",
    "                                          \"importance\": regressor.coef_[regressor.coef_!=0]})\n",
    "\n",
    "        featureImportance.set_index('feature', inplace=True)\n",
    "        featureImportance.sort_values([\"importance\"], ascending=False, inplace=True)\n",
    "\n",
    "        featureImportance[\"importance\"].plot(kind='bar', figsize=(10, 5));    \n",
    "        plt.title(\"Feature Importance - \" + regressor_name)\n",
    "        plt.xlabel(\"Feature\")\n",
    "        plt.ylabel(\"Importance\")\n",
    "        plt.show()"
   ]
  },
  {
   "cell_type": "code",
   "execution_count": 205,
   "id": "f67152c4",
   "metadata": {},
   "outputs": [
    {
     "name": "stdout",
     "output_type": "stream",
     "text": [
      "Регрессор: LinearRegression\n"
     ]
    },
    {
     "data": {
      "image/png": "[encoded data removed]",
      "text/plain": [
       "<Figure size 720x360 with 1 Axes>"
      ]
     },
     "metadata": {
      "needs_background": "light"
     },
     "output_type": "display_data"
    },
    {
     "data": {
      "text/html": [
       "<div>\n",
       "<style scoped>\n",
       "    .dataframe tbody tr th:only-of-type {\n",
       "        vertical-align: middle;\n",
       "    }\n",
       "\n",
       "    .dataframe tbody tr th {\n",
       "        vertical-align: top;\n",
       "    }\n",
       "\n",
       "    .dataframe thead th {\n",
       "        text-align: right;\n",
       "    }\n",
       "</style>\n",
       "<table border=\"1\" class=\"dataframe\">\n",
       "  <thead>\n",
       "    <tr style=\"text-align: right;\">\n",
       "      <th></th>\n",
       "      <th>error_name</th>\n",
       "      <th>LinearRegression</th>\n",
       "    </tr>\n",
       "  </thead>\n",
       "  <tbody>\n",
       "    <tr>\n",
       "      <th>0</th>\n",
       "      <td>MAE</td>\n",
       "      <td>73.186321</td>\n",
       "    </tr>\n",
       "    <tr>\n",
       "      <th>1</th>\n",
       "      <td>RMSE</td>\n",
       "      <td>227.860225</td>\n",
       "    </tr>\n",
       "    <tr>\n",
       "      <th>2</th>\n",
       "      <td>R2</td>\n",
       "      <td>0.091477</td>\n",
       "    </tr>\n",
       "  </tbody>\n",
       "</table>\n",
       "</div>"
      ],
      "text/plain": [
       "  error_name  LinearRegression\n",
       "0        MAE         73.186321\n",
       "1       RMSE        227.860225\n",
       "2         R2          0.091477"
      ]
     },
     "execution_count": 205,
     "metadata": {},
     "output_type": "execute_result"
    }
   ],
   "source": [
    "# Построю простую модель регрессии\n",
    "df_metrics = get_df_metrics()\n",
    "\n",
    "regression(X_train, X_test, y_train, y_test, LinearRegression(), 'LinearRegression', df_metrics)\n",
    "\n",
    "df_metrics"
   ]
  },
  {
   "cell_type": "code",
   "execution_count": 206,
   "id": "512035a9",
   "metadata": {},
   "outputs": [
    {
     "name": "stdout",
     "output_type": "stream",
     "text": [
      "Регрессор: RidgeCV\n",
      "Лучшее значение параметра регуляризации: 1.00000\n"
     ]
    },
    {
     "data": {
      "image/png": "[encoded data removed]",
      "text/plain": [
       "<Figure size 720x360 with 1 Axes>"
      ]
     },
     "metadata": {
      "needs_background": "light"
     },
     "output_type": "display_data"
    },
    {
     "data": {
      "text/html": [
       "<div>\n",
       "<style scoped>\n",
       "    .dataframe tbody tr th:only-of-type {\n",
       "        vertical-align: middle;\n",
       "    }\n",
       "\n",
       "    .dataframe tbody tr th {\n",
       "        vertical-align: top;\n",
       "    }\n",
       "\n",
       "    .dataframe thead th {\n",
       "        text-align: right;\n",
       "    }\n",
       "</style>\n",
       "<table border=\"1\" class=\"dataframe\">\n",
       "  <thead>\n",
       "    <tr style=\"text-align: right;\">\n",
       "      <th></th>\n",
       "      <th>error_name</th>\n",
       "      <th>LinearRegression</th>\n",
       "      <th>RidgeCV</th>\n",
       "    </tr>\n",
       "  </thead>\n",
       "  <tbody>\n",
       "    <tr>\n",
       "      <th>0</th>\n",
       "      <td>MAE</td>\n",
       "      <td>73.186321</td>\n",
       "      <td>73.159855</td>\n",
       "    </tr>\n",
       "    <tr>\n",
       "      <th>1</th>\n",
       "      <td>RMSE</td>\n",
       "      <td>227.860225</td>\n",
       "      <td>227.864648</td>\n",
       "    </tr>\n",
       "    <tr>\n",
       "      <th>2</th>\n",
       "      <td>R2</td>\n",
       "      <td>0.091477</td>\n",
       "      <td>0.091441</td>\n",
       "    </tr>\n",
       "  </tbody>\n",
       "</table>\n",
       "</div>"
      ],
      "text/plain": [
       "  error_name  LinearRegression     RidgeCV\n",
       "0        MAE         73.186321   73.159855\n",
       "1       RMSE        227.860225  227.864648\n",
       "2         R2          0.091477    0.091441"
      ]
     },
     "execution_count": 206,
     "metadata": {},
     "output_type": "execute_result"
    }
   ],
   "source": [
    "# Построю модель регрессии RidgeCV\n",
    "regression(X_train, X_test, y_train, y_test, RidgeCV(cv=5), 'RidgeCV', df_metrics)\n",
    "\n",
    "df_metrics"
   ]
  },
  {
   "cell_type": "code",
   "execution_count": 207,
   "id": "67b51f99",
   "metadata": {},
   "outputs": [
    {
     "name": "stdout",
     "output_type": "stream",
     "text": [
      "Регрессор: LassoCV\n",
      "Лучшее значение параметра регуляризации: 2.74310\n"
     ]
    },
    {
     "data": {
      "image/png": "[encoded data removed]",
      "text/plain": [
       "<Figure size 720x360 with 1 Axes>"
      ]
     },
     "metadata": {
      "needs_background": "light"
     },
     "output_type": "display_data"
    },
    {
     "data": {
      "text/html": [
       "<div>\n",
       "<style scoped>\n",
       "    .dataframe tbody tr th:only-of-type {\n",
       "        vertical-align: middle;\n",
       "    }\n",
       "\n",
       "    .dataframe tbody tr th {\n",
       "        vertical-align: top;\n",
       "    }\n",
       "\n",
       "    .dataframe thead th {\n",
       "        text-align: right;\n",
       "    }\n",
       "</style>\n",
       "<table border=\"1\" class=\"dataframe\">\n",
       "  <thead>\n",
       "    <tr style=\"text-align: right;\">\n",
       "      <th></th>\n",
       "      <th>error_name</th>\n",
       "      <th>LinearRegression</th>\n",
       "      <th>RidgeCV</th>\n",
       "      <th>LassoCV</th>\n",
       "    </tr>\n",
       "  </thead>\n",
       "  <tbody>\n",
       "    <tr>\n",
       "      <th>0</th>\n",
       "      <td>MAE</td>\n",
       "      <td>73.186321</td>\n",
       "      <td>73.159855</td>\n",
       "      <td>73.064345</td>\n",
       "    </tr>\n",
       "    <tr>\n",
       "      <th>1</th>\n",
       "      <td>RMSE</td>\n",
       "      <td>227.860225</td>\n",
       "      <td>227.864648</td>\n",
       "      <td>228.711975</td>\n",
       "    </tr>\n",
       "    <tr>\n",
       "      <th>2</th>\n",
       "      <td>R2</td>\n",
       "      <td>0.091477</td>\n",
       "      <td>0.091441</td>\n",
       "      <td>0.084672</td>\n",
       "    </tr>\n",
       "  </tbody>\n",
       "</table>\n",
       "</div>"
      ],
      "text/plain": [
       "  error_name  LinearRegression     RidgeCV     LassoCV\n",
       "0        MAE         73.186321   73.159855   73.064345\n",
       "1       RMSE        227.860225  227.864648  228.711975\n",
       "2         R2          0.091477    0.091441    0.084672"
      ]
     },
     "execution_count": 207,
     "metadata": {},
     "output_type": "execute_result"
    }
   ],
   "source": [
    "# Построение модели регрессии LassoCV\n",
    "regression(X_train, X_test, y_train, y_test, LassoCV(), 'LassoCV', df_metrics)\n",
    "\n",
    "df_metrics"
   ]
  },
  {
   "cell_type": "code",
   "execution_count": 208,
   "id": "3c2e4b6d",
   "metadata": {},
   "outputs": [
    {
     "name": "stdout",
     "output_type": "stream",
     "text": [
      "Регрессор: ElasticNetCV\n",
      "Лучшее значение параметра регуляризации: 5.48621\n"
     ]
    },
    {
     "data": {
      "image/png": "[encoded data removed]",
      "text/plain": [
       "<Figure size 720x360 with 1 Axes>"
      ]
     },
     "metadata": {
      "needs_background": "light"
     },
     "output_type": "display_data"
    },
    {
     "data": {
      "text/html": [
       "<div>\n",
       "<style scoped>\n",
       "    .dataframe tbody tr th:only-of-type {\n",
       "        vertical-align: middle;\n",
       "    }\n",
       "\n",
       "    .dataframe tbody tr th {\n",
       "        vertical-align: top;\n",
       "    }\n",
       "\n",
       "    .dataframe thead th {\n",
       "        text-align: right;\n",
       "    }\n",
       "</style>\n",
       "<table border=\"1\" class=\"dataframe\">\n",
       "  <thead>\n",
       "    <tr style=\"text-align: right;\">\n",
       "      <th></th>\n",
       "      <th>error_name</th>\n",
       "      <th>LinearRegression</th>\n",
       "      <th>RidgeCV</th>\n",
       "      <th>LassoCV</th>\n",
       "      <th>ElasticNetCV</th>\n",
       "    </tr>\n",
       "  </thead>\n",
       "  <tbody>\n",
       "    <tr>\n",
       "      <th>0</th>\n",
       "      <td>MAE</td>\n",
       "      <td>73.186321</td>\n",
       "      <td>73.159855</td>\n",
       "      <td>73.064345</td>\n",
       "      <td>86.089001</td>\n",
       "    </tr>\n",
       "    <tr>\n",
       "      <th>1</th>\n",
       "      <td>RMSE</td>\n",
       "      <td>227.860225</td>\n",
       "      <td>227.864648</td>\n",
       "      <td>228.711975</td>\n",
       "      <td>235.576292</td>\n",
       "    </tr>\n",
       "    <tr>\n",
       "      <th>2</th>\n",
       "      <td>R2</td>\n",
       "      <td>0.091477</td>\n",
       "      <td>0.091441</td>\n",
       "      <td>0.084672</td>\n",
       "      <td>0.028904</td>\n",
       "    </tr>\n",
       "  </tbody>\n",
       "</table>\n",
       "</div>"
      ],
      "text/plain": [
       "  error_name  LinearRegression     RidgeCV     LassoCV  ElasticNetCV\n",
       "0        MAE         73.186321   73.159855   73.064345     86.089001\n",
       "1       RMSE        227.860225  227.864648  228.711975    235.576292\n",
       "2         R2          0.091477    0.091441    0.084672      0.028904"
      ]
     },
     "execution_count": 208,
     "metadata": {},
     "output_type": "execute_result"
    }
   ],
   "source": [
    "# Построение модели регрессии ElasticNetCV\n",
    "regression(X_train, X_test, y_train, y_test, ElasticNetCV(cv=5), 'ElasticNetCV', df_metrics)\n",
    "\n",
    "df_metrics"
   ]
  },
  {
   "cell_type": "code",
   "execution_count": 209,
   "id": "67b7f230",
   "metadata": {},
   "outputs": [],
   "source": [
    "# все регрессоры и пересчитывать метрики\n",
    "def all_regressions(X_train, X_test, y_train, y_test):\n",
    "    df_metrics = get_df_metrics()\n",
    "    \n",
    "    regression(X_train, X_test, y_train, y_test, LinearRegression(), 'LinearRegression', df_metrics, False)\n",
    "    regression(X_train, X_test, y_train, y_test, RidgeCV(cv=5), 'RidgeCV', df_metrics, False)\n",
    "    regression(X_train, X_test, y_train, y_test, LassoCV(cv=5), 'LassoCV', df_metrics, False)\n",
    "    regression(X_train, X_test, y_train, y_test, ElasticNetCV(cv=5), 'ElasticNetCV', df_metrics, False)\n",
    "    \n",
    "    return df_metrics"
   ]
  },
  {
   "cell_type": "code",
   "execution_count": 210,
   "id": "fbca14a1",
   "metadata": {},
   "outputs": [
    {
     "name": "stdout",
     "output_type": "stream",
     "text": [
      "Регрессор: LinearRegression\n",
      "Регрессор: RidgeCV\n",
      "Лучшее значение параметра регуляризации: 1.00000\n",
      "Регрессор: LassoCV\n",
      "Лучшее значение параметра регуляризации: 2.74310\n",
      "Регрессор: ElasticNetCV\n",
      "Лучшее значение параметра регуляризации: 5.48621\n"
     ]
    },
    {
     "data": {
      "text/html": [
       "<div>\n",
       "<style scoped>\n",
       "    .dataframe tbody tr th:only-of-type {\n",
       "        vertical-align: middle;\n",
       "    }\n",
       "\n",
       "    .dataframe tbody tr th {\n",
       "        vertical-align: top;\n",
       "    }\n",
       "\n",
       "    .dataframe thead th {\n",
       "        text-align: right;\n",
       "    }\n",
       "</style>\n",
       "<table border=\"1\" class=\"dataframe\">\n",
       "  <thead>\n",
       "    <tr style=\"text-align: right;\">\n",
       "      <th></th>\n",
       "      <th>error_name</th>\n",
       "      <th>LinearRegression</th>\n",
       "      <th>RidgeCV</th>\n",
       "      <th>LassoCV</th>\n",
       "      <th>ElasticNetCV</th>\n",
       "    </tr>\n",
       "  </thead>\n",
       "  <tbody>\n",
       "    <tr>\n",
       "      <th>0</th>\n",
       "      <td>MAE</td>\n",
       "      <td>73.186321</td>\n",
       "      <td>73.159855</td>\n",
       "      <td>73.064345</td>\n",
       "      <td>86.089001</td>\n",
       "    </tr>\n",
       "    <tr>\n",
       "      <th>1</th>\n",
       "      <td>RMSE</td>\n",
       "      <td>227.860225</td>\n",
       "      <td>227.864648</td>\n",
       "      <td>228.711975</td>\n",
       "      <td>235.576292</td>\n",
       "    </tr>\n",
       "    <tr>\n",
       "      <th>2</th>\n",
       "      <td>R2</td>\n",
       "      <td>0.091477</td>\n",
       "      <td>0.091441</td>\n",
       "      <td>0.084672</td>\n",
       "      <td>0.028904</td>\n",
       "    </tr>\n",
       "  </tbody>\n",
       "</table>\n",
       "</div>"
      ],
      "text/plain": [
       "  error_name  LinearRegression     RidgeCV     LassoCV  ElasticNetCV\n",
       "0        MAE         73.186321   73.159855   73.064345     86.089001\n",
       "1       RMSE        227.860225  227.864648  228.711975    235.576292\n",
       "2         R2          0.091477    0.091441    0.084672      0.028904"
      ]
     },
     "execution_count": 210,
     "metadata": {},
     "output_type": "execute_result"
    }
   ],
   "source": [
    "df_metrics = all_regressions(X_train, X_test, y_train, y_test)\n",
    "df_metrics_base = df_metrics.copy()\n",
    "df_metrics_base"
   ]
  },
  {
   "cell_type": "markdown",
   "id": "0b9d3636",
   "metadata": {},
   "source": [
    "##### базовые метрики качества в переменной df_metrics_base. В среднем RidgeCV показала лучшие метрики качества"
   ]
  },
  {
   "cell_type": "code",
   "execution_count": 211,
   "id": "819eceee",
   "metadata": {},
   "outputs": [],
   "source": [
    "def regressions_with_scaler(data, scaler, to_scale):\n",
    "    X = data.drop('price', axis=1)\n",
    "    y = data['price']\n",
    "\n",
    "    X_train, X_test, y_train, y_test = train_test_split(X, y, test_size=0.3, random_state=random_state)\n",
    "\n",
    "    X_train_scaled = X_train.copy()\n",
    "    X_test_scaled = X_test.copy()\n",
    "\n",
    "    X_train_scaled[to_scale] = scaler.fit_transform(X_train[to_scale])\n",
    "    X_test_scaled[to_scale] = scaler.transform(X_test[to_scale])\n",
    "\n",
    "    return all_regressions(X_train_scaled, X_test_scaled, y_train, y_test)"
   ]
  },
  {
   "cell_type": "code",
   "execution_count": 212,
   "id": "f6cc99c6",
   "metadata": {},
   "outputs": [],
   "source": [
    "scaler_list = ['neighbourhood_freq', 'latitude', 'longitude', 'minimum_nights', \n",
    "               'number_of_reviews', 'reviews_per_month', 'calculated_host_listings_count', 'availability_365']   "
   ]
  },
  {
   "cell_type": "code",
   "execution_count": 213,
   "id": "f40a3ff9",
   "metadata": {},
   "outputs": [
    {
     "name": "stdout",
     "output_type": "stream",
     "text": [
      "Регрессор: LinearRegression\n",
      "Регрессор: RidgeCV\n",
      "Лучшее значение параметра регуляризации: 10.00000\n",
      "Регрессор: LassoCV\n",
      "Лучшее значение параметра регуляризации: 0.03675\n",
      "Регрессор: ElasticNetCV\n",
      "Лучшее значение параметра регуляризации: 0.07350\n"
     ]
    },
    {
     "data": {
      "text/html": [
       "<div>\n",
       "<style scoped>\n",
       "    .dataframe tbody tr th:only-of-type {\n",
       "        vertical-align: middle;\n",
       "    }\n",
       "\n",
       "    .dataframe tbody tr th {\n",
       "        vertical-align: top;\n",
       "    }\n",
       "\n",
       "    .dataframe thead th {\n",
       "        text-align: right;\n",
       "    }\n",
       "</style>\n",
       "<table border=\"1\" class=\"dataframe\">\n",
       "  <thead>\n",
       "    <tr style=\"text-align: right;\">\n",
       "      <th></th>\n",
       "      <th>error_name</th>\n",
       "      <th>LinearRegression</th>\n",
       "      <th>RidgeCV</th>\n",
       "      <th>LassoCV</th>\n",
       "      <th>ElasticNetCV</th>\n",
       "    </tr>\n",
       "  </thead>\n",
       "  <tbody>\n",
       "    <tr>\n",
       "      <th>0</th>\n",
       "      <td>MAE</td>\n",
       "      <td>73.236457</td>\n",
       "      <td>73.164194</td>\n",
       "      <td>73.142410</td>\n",
       "      <td>72.810911</td>\n",
       "    </tr>\n",
       "    <tr>\n",
       "      <th>1</th>\n",
       "      <td>RMSE</td>\n",
       "      <td>227.865581</td>\n",
       "      <td>227.862977</td>\n",
       "      <td>227.863207</td>\n",
       "      <td>228.170576</td>\n",
       "    </tr>\n",
       "    <tr>\n",
       "      <th>2</th>\n",
       "      <td>R2</td>\n",
       "      <td>0.091434</td>\n",
       "      <td>0.091455</td>\n",
       "      <td>0.091453</td>\n",
       "      <td>0.089000</td>\n",
       "    </tr>\n",
       "  </tbody>\n",
       "</table>\n",
       "</div>"
      ],
      "text/plain": [
       "  error_name  LinearRegression     RidgeCV     LassoCV  ElasticNetCV\n",
       "0        MAE         73.236457   73.164194   73.142410     72.810911\n",
       "1       RMSE        227.865581  227.862977  227.863207    228.170576\n",
       "2         R2          0.091434    0.091455    0.091453      0.089000"
      ]
     },
     "execution_count": 213,
     "metadata": {},
     "output_type": "execute_result"
    }
   ],
   "source": [
    "#прошкалирую данные с помощью StandardScaler   \n",
    "df_metrics = regressions_with_scaler(df, StandardScaler(), scaler_list)\n",
    "df_metrics_StandardScaler = df_metrics.copy()\n",
    "df_metrics_StandardScaler"
   ]
  },
  {
   "cell_type": "code",
   "execution_count": 214,
   "id": "e47c7b33",
   "metadata": {},
   "outputs": [
    {
     "data": {
      "text/html": [
       "<div>\n",
       "<style scoped>\n",
       "    .dataframe tbody tr th:only-of-type {\n",
       "        vertical-align: middle;\n",
       "    }\n",
       "\n",
       "    .dataframe tbody tr th {\n",
       "        vertical-align: top;\n",
       "    }\n",
       "\n",
       "    .dataframe thead th {\n",
       "        text-align: right;\n",
       "    }\n",
       "</style>\n",
       "<table border=\"1\" class=\"dataframe\">\n",
       "  <thead>\n",
       "    <tr style=\"text-align: right;\">\n",
       "      <th></th>\n",
       "      <th>error_name</th>\n",
       "      <th>LinearRegression</th>\n",
       "      <th>RidgeCV</th>\n",
       "      <th>LassoCV</th>\n",
       "      <th>ElasticNetCV</th>\n",
       "    </tr>\n",
       "  </thead>\n",
       "  <tbody>\n",
       "    <tr>\n",
       "      <th>0</th>\n",
       "      <td>MAE</td>\n",
       "      <td>73.186321</td>\n",
       "      <td>73.159855</td>\n",
       "      <td>73.064345</td>\n",
       "      <td>86.089001</td>\n",
       "    </tr>\n",
       "    <tr>\n",
       "      <th>1</th>\n",
       "      <td>RMSE</td>\n",
       "      <td>227.860225</td>\n",
       "      <td>227.864648</td>\n",
       "      <td>228.711975</td>\n",
       "      <td>235.576292</td>\n",
       "    </tr>\n",
       "    <tr>\n",
       "      <th>2</th>\n",
       "      <td>R2</td>\n",
       "      <td>0.091477</td>\n",
       "      <td>0.091441</td>\n",
       "      <td>0.084672</td>\n",
       "      <td>0.028904</td>\n",
       "    </tr>\n",
       "  </tbody>\n",
       "</table>\n",
       "</div>"
      ],
      "text/plain": [
       "  error_name  LinearRegression     RidgeCV     LassoCV  ElasticNetCV\n",
       "0        MAE         73.186321   73.159855   73.064345     86.089001\n",
       "1       RMSE        227.860225  227.864648  228.711975    235.576292\n",
       "2         R2          0.091477    0.091441    0.084672      0.028904"
      ]
     },
     "execution_count": 214,
     "metadata": {},
     "output_type": "execute_result"
    }
   ],
   "source": [
    "# сравним с df_metrics_base\n",
    "df_metrics_base"
   ]
  },
  {
   "cell_type": "markdown",
   "id": "85fb4a0c",
   "metadata": {},
   "source": [
    "##### LassoCV, ElasticNetCV стало лучше, остальные улучшились, но не много"
   ]
  },
  {
   "cell_type": "code",
   "execution_count": 215,
   "id": "6fc55157",
   "metadata": {},
   "outputs": [
    {
     "name": "stdout",
     "output_type": "stream",
     "text": [
      "Регрессор: LinearRegression\n",
      "Регрессор: RidgeCV\n",
      "Лучшее значение параметра регуляризации: 10.00000\n",
      "Регрессор: LassoCV\n",
      "Лучшее значение параметра регуляризации: 0.45660\n",
      "Регрессор: ElasticNetCV\n",
      "Лучшее значение параметра регуляризации: 0.91320\n"
     ]
    },
    {
     "data": {
      "text/html": [
       "<div>\n",
       "<style scoped>\n",
       "    .dataframe tbody tr th:only-of-type {\n",
       "        vertical-align: middle;\n",
       "    }\n",
       "\n",
       "    .dataframe tbody tr th {\n",
       "        vertical-align: top;\n",
       "    }\n",
       "\n",
       "    .dataframe thead th {\n",
       "        text-align: right;\n",
       "    }\n",
       "</style>\n",
       "<table border=\"1\" class=\"dataframe\">\n",
       "  <thead>\n",
       "    <tr style=\"text-align: right;\">\n",
       "      <th></th>\n",
       "      <th>error_name</th>\n",
       "      <th>LinearRegression</th>\n",
       "      <th>RidgeCV</th>\n",
       "      <th>LassoCV</th>\n",
       "      <th>ElasticNetCV</th>\n",
       "    </tr>\n",
       "  </thead>\n",
       "  <tbody>\n",
       "    <tr>\n",
       "      <th>0</th>\n",
       "      <td>MAE</td>\n",
       "      <td>73.186321</td>\n",
       "      <td>73.161986</td>\n",
       "      <td>72.975800</td>\n",
       "      <td>75.264394</td>\n",
       "    </tr>\n",
       "    <tr>\n",
       "      <th>1</th>\n",
       "      <td>RMSE</td>\n",
       "      <td>227.860225</td>\n",
       "      <td>227.862721</td>\n",
       "      <td>228.044828</td>\n",
       "      <td>230.375945</td>\n",
       "    </tr>\n",
       "    <tr>\n",
       "      <th>2</th>\n",
       "      <td>R2</td>\n",
       "      <td>0.091477</td>\n",
       "      <td>0.091457</td>\n",
       "      <td>0.090004</td>\n",
       "      <td>0.071305</td>\n",
       "    </tr>\n",
       "  </tbody>\n",
       "</table>\n",
       "</div>"
      ],
      "text/plain": [
       "  error_name  LinearRegression     RidgeCV     LassoCV  ElasticNetCV\n",
       "0        MAE         73.186321   73.161986   72.975800     75.264394\n",
       "1       RMSE        227.860225  227.862721  228.044828    230.375945\n",
       "2         R2          0.091477    0.091457    0.090004      0.071305"
      ]
     },
     "execution_count": 215,
     "metadata": {},
     "output_type": "execute_result"
    }
   ],
   "source": [
    "#прошкалирую данные с помощью RobustScaler\n",
    "df_metrics = regressions_with_scaler(df, RobustScaler(), scaler_list)\n",
    "df_metrics_RobustScaler = df_metrics.copy()\n",
    "df_metrics_RobustScaler"
   ]
  },
  {
   "cell_type": "code",
   "execution_count": 216,
   "id": "0fb06aec",
   "metadata": {},
   "outputs": [
    {
     "data": {
      "text/html": [
       "<div>\n",
       "<style scoped>\n",
       "    .dataframe tbody tr th:only-of-type {\n",
       "        vertical-align: middle;\n",
       "    }\n",
       "\n",
       "    .dataframe tbody tr th {\n",
       "        vertical-align: top;\n",
       "    }\n",
       "\n",
       "    .dataframe thead th {\n",
       "        text-align: right;\n",
       "    }\n",
       "</style>\n",
       "<table border=\"1\" class=\"dataframe\">\n",
       "  <thead>\n",
       "    <tr style=\"text-align: right;\">\n",
       "      <th></th>\n",
       "      <th>error_name</th>\n",
       "      <th>LinearRegression</th>\n",
       "      <th>RidgeCV</th>\n",
       "      <th>LassoCV</th>\n",
       "      <th>ElasticNetCV</th>\n",
       "    </tr>\n",
       "  </thead>\n",
       "  <tbody>\n",
       "    <tr>\n",
       "      <th>0</th>\n",
       "      <td>MAE</td>\n",
       "      <td>73.186321</td>\n",
       "      <td>73.159855</td>\n",
       "      <td>73.064345</td>\n",
       "      <td>86.089001</td>\n",
       "    </tr>\n",
       "    <tr>\n",
       "      <th>1</th>\n",
       "      <td>RMSE</td>\n",
       "      <td>227.860225</td>\n",
       "      <td>227.864648</td>\n",
       "      <td>228.711975</td>\n",
       "      <td>235.576292</td>\n",
       "    </tr>\n",
       "    <tr>\n",
       "      <th>2</th>\n",
       "      <td>R2</td>\n",
       "      <td>0.091477</td>\n",
       "      <td>0.091441</td>\n",
       "      <td>0.084672</td>\n",
       "      <td>0.028904</td>\n",
       "    </tr>\n",
       "  </tbody>\n",
       "</table>\n",
       "</div>"
      ],
      "text/plain": [
       "  error_name  LinearRegression     RidgeCV     LassoCV  ElasticNetCV\n",
       "0        MAE         73.186321   73.159855   73.064345     86.089001\n",
       "1       RMSE        227.860225  227.864648  228.711975    235.576292\n",
       "2         R2          0.091477    0.091441    0.084672      0.028904"
      ]
     },
     "execution_count": 216,
     "metadata": {},
     "output_type": "execute_result"
    }
   ],
   "source": [
    "# сравним с df_metrics_base\n",
    "df_metrics_base"
   ]
  },
  {
   "cell_type": "markdown",
   "id": "897604b3",
   "metadata": {},
   "source": [
    "##### df_metrics_base: LassoCV, ElasticNetCV стало лучше, остальные улучшились, но не много"
   ]
  },
  {
   "cell_type": "code",
   "execution_count": 217,
   "id": "63650649",
   "metadata": {},
   "outputs": [
    {
     "data": {
      "text/html": [
       "<div>\n",
       "<style scoped>\n",
       "    .dataframe tbody tr th:only-of-type {\n",
       "        vertical-align: middle;\n",
       "    }\n",
       "\n",
       "    .dataframe tbody tr th {\n",
       "        vertical-align: top;\n",
       "    }\n",
       "\n",
       "    .dataframe thead th {\n",
       "        text-align: right;\n",
       "    }\n",
       "</style>\n",
       "<table border=\"1\" class=\"dataframe\">\n",
       "  <thead>\n",
       "    <tr style=\"text-align: right;\">\n",
       "      <th></th>\n",
       "      <th>error_name</th>\n",
       "      <th>LinearRegression</th>\n",
       "      <th>RidgeCV</th>\n",
       "      <th>LassoCV</th>\n",
       "      <th>ElasticNetCV</th>\n",
       "    </tr>\n",
       "  </thead>\n",
       "  <tbody>\n",
       "    <tr>\n",
       "      <th>0</th>\n",
       "      <td>MAE</td>\n",
       "      <td>73.236457</td>\n",
       "      <td>73.164194</td>\n",
       "      <td>73.142410</td>\n",
       "      <td>72.810911</td>\n",
       "    </tr>\n",
       "    <tr>\n",
       "      <th>1</th>\n",
       "      <td>RMSE</td>\n",
       "      <td>227.865581</td>\n",
       "      <td>227.862977</td>\n",
       "      <td>227.863207</td>\n",
       "      <td>228.170576</td>\n",
       "    </tr>\n",
       "    <tr>\n",
       "      <th>2</th>\n",
       "      <td>R2</td>\n",
       "      <td>0.091434</td>\n",
       "      <td>0.091455</td>\n",
       "      <td>0.091453</td>\n",
       "      <td>0.089000</td>\n",
       "    </tr>\n",
       "  </tbody>\n",
       "</table>\n",
       "</div>"
      ],
      "text/plain": [
       "  error_name  LinearRegression     RidgeCV     LassoCV  ElasticNetCV\n",
       "0        MAE         73.236457   73.164194   73.142410     72.810911\n",
       "1       RMSE        227.865581  227.862977  227.863207    228.170576\n",
       "2         R2          0.091434    0.091455    0.091453      0.089000"
      ]
     },
     "execution_count": 217,
     "metadata": {},
     "output_type": "execute_result"
    }
   ],
   "source": [
    "# сравним с df_metrics_StandardScaler\n",
    "df_metrics_StandardScaler"
   ]
  },
  {
   "cell_type": "markdown",
   "id": "c02434c2",
   "metadata": {},
   "source": [
    "##### df_metrics_StandardScaler лучше чем df_metrics_RobustScaler"
   ]
  },
  {
   "cell_type": "markdown",
   "id": "d6dbf3ef",
   "metadata": {},
   "source": [
    "### новые переменные\n",
    "1. расстояние до Манхэттена\n",
    "2. создание переменной дистрикт и ее кодирование"
   ]
  },
  {
   "cell_type": "code",
   "execution_count": 218,
   "id": "c1f6093c",
   "metadata": {},
   "outputs": [
    {
     "data": {
      "text/html": [
       "<div>\n",
       "<style scoped>\n",
       "    .dataframe tbody tr th:only-of-type {\n",
       "        vertical-align: middle;\n",
       "    }\n",
       "\n",
       "    .dataframe tbody tr th {\n",
       "        vertical-align: top;\n",
       "    }\n",
       "\n",
       "    .dataframe thead th {\n",
       "        text-align: right;\n",
       "    }\n",
       "</style>\n",
       "<table border=\"1\" class=\"dataframe\">\n",
       "  <thead>\n",
       "    <tr style=\"text-align: right;\">\n",
       "      <th></th>\n",
       "      <th>latitude</th>\n",
       "      <th>longitude</th>\n",
       "      <th>price</th>\n",
       "      <th>minimum_nights</th>\n",
       "      <th>number_of_reviews</th>\n",
       "      <th>reviews_per_month</th>\n",
       "      <th>calculated_host_listings_count</th>\n",
       "      <th>availability_365</th>\n",
       "      <th>Bronx</th>\n",
       "      <th>Brooklyn</th>\n",
       "      <th>Manhattan</th>\n",
       "      <th>Queens</th>\n",
       "      <th>Staten Island</th>\n",
       "      <th>Entire home/apt</th>\n",
       "      <th>Private room</th>\n",
       "      <th>Shared room</th>\n",
       "      <th>neighbourhood_freq</th>\n",
       "    </tr>\n",
       "  </thead>\n",
       "  <tbody>\n",
       "    <tr>\n",
       "      <th>0</th>\n",
       "      <td>40.64749</td>\n",
       "      <td>-73.97237</td>\n",
       "      <td>149</td>\n",
       "      <td>1</td>\n",
       "      <td>9</td>\n",
       "      <td>0.21</td>\n",
       "      <td>6</td>\n",
       "      <td>365</td>\n",
       "      <td>0</td>\n",
       "      <td>1</td>\n",
       "      <td>0</td>\n",
       "      <td>0</td>\n",
       "      <td>0</td>\n",
       "      <td>0</td>\n",
       "      <td>1</td>\n",
       "      <td>0</td>\n",
       "      <td>0.003579</td>\n",
       "    </tr>\n",
       "    <tr>\n",
       "      <th>1</th>\n",
       "      <td>40.75362</td>\n",
       "      <td>-73.98377</td>\n",
       "      <td>225</td>\n",
       "      <td>1</td>\n",
       "      <td>45</td>\n",
       "      <td>0.38</td>\n",
       "      <td>2</td>\n",
       "      <td>355</td>\n",
       "      <td>0</td>\n",
       "      <td>0</td>\n",
       "      <td>1</td>\n",
       "      <td>0</td>\n",
       "      <td>0</td>\n",
       "      <td>1</td>\n",
       "      <td>0</td>\n",
       "      <td>0</td>\n",
       "      <td>0.031598</td>\n",
       "    </tr>\n",
       "    <tr>\n",
       "      <th>2</th>\n",
       "      <td>40.80902</td>\n",
       "      <td>-73.94190</td>\n",
       "      <td>150</td>\n",
       "      <td>3</td>\n",
       "      <td>0</td>\n",
       "      <td>0.00</td>\n",
       "      <td>1</td>\n",
       "      <td>365</td>\n",
       "      <td>0</td>\n",
       "      <td>0</td>\n",
       "      <td>1</td>\n",
       "      <td>0</td>\n",
       "      <td>0</td>\n",
       "      <td>0</td>\n",
       "      <td>1</td>\n",
       "      <td>0</td>\n",
       "      <td>0.054361</td>\n",
       "    </tr>\n",
       "    <tr>\n",
       "      <th>3</th>\n",
       "      <td>40.68514</td>\n",
       "      <td>-73.95976</td>\n",
       "      <td>89</td>\n",
       "      <td>1</td>\n",
       "      <td>270</td>\n",
       "      <td>4.64</td>\n",
       "      <td>1</td>\n",
       "      <td>194</td>\n",
       "      <td>0</td>\n",
       "      <td>1</td>\n",
       "      <td>0</td>\n",
       "      <td>0</td>\n",
       "      <td>0</td>\n",
       "      <td>1</td>\n",
       "      <td>0</td>\n",
       "      <td>0</td>\n",
       "      <td>0.011699</td>\n",
       "    </tr>\n",
       "    <tr>\n",
       "      <th>4</th>\n",
       "      <td>40.79851</td>\n",
       "      <td>-73.94399</td>\n",
       "      <td>80</td>\n",
       "      <td>10</td>\n",
       "      <td>9</td>\n",
       "      <td>0.10</td>\n",
       "      <td>1</td>\n",
       "      <td>0</td>\n",
       "      <td>0</td>\n",
       "      <td>0</td>\n",
       "      <td>1</td>\n",
       "      <td>0</td>\n",
       "      <td>0</td>\n",
       "      <td>1</td>\n",
       "      <td>0</td>\n",
       "      <td>0</td>\n",
       "      <td>0.022845</td>\n",
       "    </tr>\n",
       "  </tbody>\n",
       "</table>\n",
       "</div>"
      ],
      "text/plain": [
       "   latitude  longitude  price  minimum_nights  number_of_reviews  \\\n",
       "0  40.64749  -73.97237    149               1                  9   \n",
       "1  40.75362  -73.98377    225               1                 45   \n",
       "2  40.80902  -73.94190    150               3                  0   \n",
       "3  40.68514  -73.95976     89               1                270   \n",
       "4  40.79851  -73.94399     80              10                  9   \n",
       "\n",
       "   reviews_per_month  calculated_host_listings_count  availability_365  Bronx  \\\n",
       "0               0.21                               6               365      0   \n",
       "1               0.38                               2               355      0   \n",
       "2               0.00                               1               365      0   \n",
       "3               4.64                               1               194      0   \n",
       "4               0.10                               1                 0      0   \n",
       "\n",
       "   Brooklyn  Manhattan  Queens  Staten Island  Entire home/apt  Private room  \\\n",
       "0         1          0       0              0                0             1   \n",
       "1         0          1       0              0                1             0   \n",
       "2         0          1       0              0                0             1   \n",
       "3         1          0       0              0                1             0   \n",
       "4         0          1       0              0                1             0   \n",
       "\n",
       "   Shared room  neighbourhood_freq  \n",
       "0            0            0.003579  \n",
       "1            0            0.031598  \n",
       "2            0            0.054361  \n",
       "3            0            0.011699  \n",
       "4            0            0.022845  "
      ]
     },
     "execution_count": 218,
     "metadata": {},
     "output_type": "execute_result"
    }
   ],
   "source": [
    "df.head()"
   ]
  },
  {
   "cell_type": "code",
   "execution_count": 219,
   "id": "9fe0fb2f",
   "metadata": {},
   "outputs": [
    {
     "data": {
      "text/html": [
       "<div>\n",
       "<style scoped>\n",
       "    .dataframe tbody tr th:only-of-type {\n",
       "        vertical-align: middle;\n",
       "    }\n",
       "\n",
       "    .dataframe tbody tr th {\n",
       "        vertical-align: top;\n",
       "    }\n",
       "\n",
       "    .dataframe thead th {\n",
       "        text-align: right;\n",
       "    }\n",
       "</style>\n",
       "<table border=\"1\" class=\"dataframe\">\n",
       "  <thead>\n",
       "    <tr style=\"text-align: right;\">\n",
       "      <th></th>\n",
       "      <th>price</th>\n",
       "      <th>minimum_nights</th>\n",
       "      <th>number_of_reviews</th>\n",
       "      <th>reviews_per_month</th>\n",
       "      <th>calculated_host_listings_count</th>\n",
       "      <th>availability_365</th>\n",
       "      <th>Bronx</th>\n",
       "      <th>Brooklyn</th>\n",
       "      <th>Manhattan</th>\n",
       "      <th>Queens</th>\n",
       "      <th>Staten Island</th>\n",
       "      <th>Entire home/apt</th>\n",
       "      <th>Private room</th>\n",
       "      <th>Shared room</th>\n",
       "      <th>neighbourhood_freq</th>\n",
       "      <th>distance</th>\n",
       "    </tr>\n",
       "  </thead>\n",
       "  <tbody>\n",
       "    <tr>\n",
       "      <th>0</th>\n",
       "      <td>149</td>\n",
       "      <td>1</td>\n",
       "      <td>9</td>\n",
       "      <td>0.21</td>\n",
       "      <td>6</td>\n",
       "      <td>365</td>\n",
       "      <td>0</td>\n",
       "      <td>1</td>\n",
       "      <td>0</td>\n",
       "      <td>0</td>\n",
       "      <td>0</td>\n",
       "      <td>0</td>\n",
       "      <td>1</td>\n",
       "      <td>0</td>\n",
       "      <td>0.003579</td>\n",
       "      <td>0.112134</td>\n",
       "    </tr>\n",
       "    <tr>\n",
       "      <th>1</th>\n",
       "      <td>225</td>\n",
       "      <td>1</td>\n",
       "      <td>45</td>\n",
       "      <td>0.38</td>\n",
       "      <td>2</td>\n",
       "      <td>355</td>\n",
       "      <td>0</td>\n",
       "      <td>0</td>\n",
       "      <td>1</td>\n",
       "      <td>0</td>\n",
       "      <td>0</td>\n",
       "      <td>1</td>\n",
       "      <td>0</td>\n",
       "      <td>0</td>\n",
       "      <td>0.031598</td>\n",
       "      <td>0.005448</td>\n",
       "    </tr>\n",
       "    <tr>\n",
       "      <th>2</th>\n",
       "      <td>150</td>\n",
       "      <td>3</td>\n",
       "      <td>0</td>\n",
       "      <td>0.00</td>\n",
       "      <td>1</td>\n",
       "      <td>365</td>\n",
       "      <td>0</td>\n",
       "      <td>0</td>\n",
       "      <td>1</td>\n",
       "      <td>0</td>\n",
       "      <td>0</td>\n",
       "      <td>0</td>\n",
       "      <td>1</td>\n",
       "      <td>0</td>\n",
       "      <td>0.054361</td>\n",
       "      <td>0.066191</td>\n",
       "    </tr>\n",
       "    <tr>\n",
       "      <th>3</th>\n",
       "      <td>89</td>\n",
       "      <td>1</td>\n",
       "      <td>270</td>\n",
       "      <td>4.64</td>\n",
       "      <td>1</td>\n",
       "      <td>194</td>\n",
       "      <td>0</td>\n",
       "      <td>1</td>\n",
       "      <td>0</td>\n",
       "      <td>0</td>\n",
       "      <td>0</td>\n",
       "      <td>1</td>\n",
       "      <td>0</td>\n",
       "      <td>0</td>\n",
       "      <td>0.011699</td>\n",
       "      <td>0.077997</td>\n",
       "    </tr>\n",
       "    <tr>\n",
       "      <th>4</th>\n",
       "      <td>80</td>\n",
       "      <td>10</td>\n",
       "      <td>9</td>\n",
       "      <td>0.10</td>\n",
       "      <td>1</td>\n",
       "      <td>0</td>\n",
       "      <td>0</td>\n",
       "      <td>0</td>\n",
       "      <td>1</td>\n",
       "      <td>0</td>\n",
       "      <td>0</td>\n",
       "      <td>1</td>\n",
       "      <td>0</td>\n",
       "      <td>0</td>\n",
       "      <td>0.022845</td>\n",
       "      <td>0.057112</td>\n",
       "    </tr>\n",
       "  </tbody>\n",
       "</table>\n",
       "</div>"
      ],
      "text/plain": [
       "   price  minimum_nights  number_of_reviews  reviews_per_month  \\\n",
       "0    149               1                  9               0.21   \n",
       "1    225               1                 45               0.38   \n",
       "2    150               3                  0               0.00   \n",
       "3     89               1                270               4.64   \n",
       "4     80              10                  9               0.10   \n",
       "\n",
       "   calculated_host_listings_count  availability_365  Bronx  Brooklyn  \\\n",
       "0                               6               365      0         1   \n",
       "1                               2               355      0         0   \n",
       "2                               1               365      0         0   \n",
       "3                               1               194      0         1   \n",
       "4                               1                 0      0         0   \n",
       "\n",
       "   Manhattan  Queens  Staten Island  Entire home/apt  Private room  \\\n",
       "0          0       0              0                0             1   \n",
       "1          1       0              0                1             0   \n",
       "2          1       0              0                0             1   \n",
       "3          0       0              0                1             0   \n",
       "4          1       0              0                1             0   \n",
       "\n",
       "   Shared room  neighbourhood_freq  distance  \n",
       "0            0            0.003579  0.112134  \n",
       "1            0            0.031598  0.005448  \n",
       "2            0            0.054361  0.066191  \n",
       "3            0            0.011699  0.077997  \n",
       "4            0            0.022845  0.057112  "
      ]
     },
     "execution_count": 219,
     "metadata": {},
     "output_type": "execute_result"
    }
   ],
   "source": [
    "# новые переменные. расстояние до Манхэттена manhattan_coord = (40.758896, -73.985130)\n",
    "# создаю столбцы df['lat0'] = 40.758896 df['lon0'] = -73.985130,  df['distance'] = sqrt((lat0 - latitude)^2 + (lon0 - longitude)^2)\n",
    "# latitude, longitude, df['lat0'], df['lon0'] - drop\n",
    "df['lat0'] = 40.758896\n",
    "df['lon0'] = -73.985130\n",
    "df['distance'] = ((df['lat0'] - df['latitude'])**2 + (df['lon0'] - df['longitude'])**2)**0.5\n",
    "df.drop(columns = ['latitude', 'longitude', 'lat0', 'lon0'], inplace=True)\n",
    "df.head()"
   ]
  },
  {
   "cell_type": "code",
   "execution_count": 220,
   "id": "91618d89",
   "metadata": {},
   "outputs": [
    {
     "data": {
      "text/plain": [
       "<AxesSubplot:>"
      ]
     },
     "execution_count": 220,
     "metadata": {},
     "output_type": "execute_result"
    },
    {
     "data": {
      "image/png": "[encoded data removed]",
      "text/plain": [
       "<Figure size 432x288 with 1 Axes>"
      ]
     },
     "metadata": {
      "needs_background": "light"
     },
     "output_type": "display_data"
    }
   ],
   "source": [
    "df['distance'].hist()"
   ]
  },
  {
   "cell_type": "code",
   "execution_count": 221,
   "id": "15651826",
   "metadata": {},
   "outputs": [],
   "source": [
    "X = df.drop('price', axis=1)\n",
    "y = df['price']\n",
    "\n",
    "X_train, X_test, y_train, y_test = train_test_split(X, y, test_size=0.3, random_state=random_state)"
   ]
  },
  {
   "cell_type": "code",
   "execution_count": 222,
   "id": "71f468d3",
   "metadata": {},
   "outputs": [],
   "source": [
    "scaler_list = ['neighbourhood_freq', 'distance', 'minimum_nights', \n",
    "               'number_of_reviews', 'reviews_per_month', 'calculated_host_listings_count', 'availability_365']   "
   ]
  },
  {
   "cell_type": "code",
   "execution_count": 223,
   "id": "2a7f3d29",
   "metadata": {},
   "outputs": [
    {
     "name": "stdout",
     "output_type": "stream",
     "text": [
      "Регрессор: LinearRegression\n",
      "Регрессор: RidgeCV\n",
      "Лучшее значение параметра регуляризации: 10.00000\n",
      "Регрессор: LassoCV\n",
      "Лучшее значение параметра регуляризации: 0.04199\n",
      "Регрессор: ElasticNetCV\n",
      "Лучшее значение параметра регуляризации: 0.08397\n"
     ]
    },
    {
     "data": {
      "text/html": [
       "<div>\n",
       "<style scoped>\n",
       "    .dataframe tbody tr th:only-of-type {\n",
       "        vertical-align: middle;\n",
       "    }\n",
       "\n",
       "    .dataframe tbody tr th {\n",
       "        vertical-align: top;\n",
       "    }\n",
       "\n",
       "    .dataframe thead th {\n",
       "        text-align: right;\n",
       "    }\n",
       "</style>\n",
       "<table border=\"1\" class=\"dataframe\">\n",
       "  <thead>\n",
       "    <tr style=\"text-align: right;\">\n",
       "      <th></th>\n",
       "      <th>error_name</th>\n",
       "      <th>LinearRegression</th>\n",
       "      <th>RidgeCV</th>\n",
       "      <th>LassoCV</th>\n",
       "      <th>ElasticNetCV</th>\n",
       "    </tr>\n",
       "  </thead>\n",
       "  <tbody>\n",
       "    <tr>\n",
       "      <th>0</th>\n",
       "      <td>MAE</td>\n",
       "      <td>72.815819</td>\n",
       "      <td>72.839607</td>\n",
       "      <td>72.790679</td>\n",
       "      <td>72.326167</td>\n",
       "    </tr>\n",
       "    <tr>\n",
       "      <th>1</th>\n",
       "      <td>RMSE</td>\n",
       "      <td>227.856946</td>\n",
       "      <td>227.860249</td>\n",
       "      <td>227.854288</td>\n",
       "      <td>227.909877</td>\n",
       "    </tr>\n",
       "    <tr>\n",
       "      <th>2</th>\n",
       "      <td>R2</td>\n",
       "      <td>0.091503</td>\n",
       "      <td>0.091476</td>\n",
       "      <td>0.091524</td>\n",
       "      <td>0.091081</td>\n",
       "    </tr>\n",
       "  </tbody>\n",
       "</table>\n",
       "</div>"
      ],
      "text/plain": [
       "  error_name  LinearRegression     RidgeCV     LassoCV  ElasticNetCV\n",
       "0        MAE         72.815819   72.839607   72.790679     72.326167\n",
       "1       RMSE        227.856946  227.860249  227.854288    227.909877\n",
       "2         R2          0.091503    0.091476    0.091524      0.091081"
      ]
     },
     "execution_count": 223,
     "metadata": {},
     "output_type": "execute_result"
    }
   ],
   "source": [
    "df_metrics = regressions_with_scaler(df, StandardScaler(), scaler_list)\n",
    "df_metrics"
   ]
  },
  {
   "cell_type": "code",
   "execution_count": 224,
   "id": "5b28bdde",
   "metadata": {},
   "outputs": [
    {
     "data": {
      "text/html": [
       "<div>\n",
       "<style scoped>\n",
       "    .dataframe tbody tr th:only-of-type {\n",
       "        vertical-align: middle;\n",
       "    }\n",
       "\n",
       "    .dataframe tbody tr th {\n",
       "        vertical-align: top;\n",
       "    }\n",
       "\n",
       "    .dataframe thead th {\n",
       "        text-align: right;\n",
       "    }\n",
       "</style>\n",
       "<table border=\"1\" class=\"dataframe\">\n",
       "  <thead>\n",
       "    <tr style=\"text-align: right;\">\n",
       "      <th></th>\n",
       "      <th>error_name</th>\n",
       "      <th>LinearRegression</th>\n",
       "      <th>RidgeCV</th>\n",
       "      <th>LassoCV</th>\n",
       "      <th>ElasticNetCV</th>\n",
       "    </tr>\n",
       "  </thead>\n",
       "  <tbody>\n",
       "    <tr>\n",
       "      <th>0</th>\n",
       "      <td>MAE</td>\n",
       "      <td>73.186321</td>\n",
       "      <td>73.159855</td>\n",
       "      <td>73.064345</td>\n",
       "      <td>86.089001</td>\n",
       "    </tr>\n",
       "    <tr>\n",
       "      <th>1</th>\n",
       "      <td>RMSE</td>\n",
       "      <td>227.860225</td>\n",
       "      <td>227.864648</td>\n",
       "      <td>228.711975</td>\n",
       "      <td>235.576292</td>\n",
       "    </tr>\n",
       "    <tr>\n",
       "      <th>2</th>\n",
       "      <td>R2</td>\n",
       "      <td>0.091477</td>\n",
       "      <td>0.091441</td>\n",
       "      <td>0.084672</td>\n",
       "      <td>0.028904</td>\n",
       "    </tr>\n",
       "  </tbody>\n",
       "</table>\n",
       "</div>"
      ],
      "text/plain": [
       "  error_name  LinearRegression     RidgeCV     LassoCV  ElasticNetCV\n",
       "0        MAE         73.186321   73.159855   73.064345     86.089001\n",
       "1       RMSE        227.860225  227.864648  228.711975    235.576292\n",
       "2         R2          0.091477    0.091441    0.084672      0.028904"
      ]
     },
     "execution_count": 224,
     "metadata": {},
     "output_type": "execute_result"
    }
   ],
   "source": [
    "df_metrics_base"
   ]
  },
  {
   "cell_type": "code",
   "execution_count": 225,
   "id": "2a451f3e",
   "metadata": {},
   "outputs": [
    {
     "data": {
      "text/html": [
       "<div>\n",
       "<style scoped>\n",
       "    .dataframe tbody tr th:only-of-type {\n",
       "        vertical-align: middle;\n",
       "    }\n",
       "\n",
       "    .dataframe tbody tr th {\n",
       "        vertical-align: top;\n",
       "    }\n",
       "\n",
       "    .dataframe thead th {\n",
       "        text-align: right;\n",
       "    }\n",
       "</style>\n",
       "<table border=\"1\" class=\"dataframe\">\n",
       "  <thead>\n",
       "    <tr style=\"text-align: right;\">\n",
       "      <th></th>\n",
       "      <th>error_name</th>\n",
       "      <th>LinearRegression</th>\n",
       "      <th>RidgeCV</th>\n",
       "      <th>LassoCV</th>\n",
       "      <th>ElasticNetCV</th>\n",
       "    </tr>\n",
       "  </thead>\n",
       "  <tbody>\n",
       "    <tr>\n",
       "      <th>0</th>\n",
       "      <td>MAE</td>\n",
       "      <td>73.236457</td>\n",
       "      <td>73.164194</td>\n",
       "      <td>73.142410</td>\n",
       "      <td>72.810911</td>\n",
       "    </tr>\n",
       "    <tr>\n",
       "      <th>1</th>\n",
       "      <td>RMSE</td>\n",
       "      <td>227.865581</td>\n",
       "      <td>227.862977</td>\n",
       "      <td>227.863207</td>\n",
       "      <td>228.170576</td>\n",
       "    </tr>\n",
       "    <tr>\n",
       "      <th>2</th>\n",
       "      <td>R2</td>\n",
       "      <td>0.091434</td>\n",
       "      <td>0.091455</td>\n",
       "      <td>0.091453</td>\n",
       "      <td>0.089000</td>\n",
       "    </tr>\n",
       "  </tbody>\n",
       "</table>\n",
       "</div>"
      ],
      "text/plain": [
       "  error_name  LinearRegression     RidgeCV     LassoCV  ElasticNetCV\n",
       "0        MAE         73.236457   73.164194   73.142410     72.810911\n",
       "1       RMSE        227.865581  227.862977  227.863207    228.170576\n",
       "2         R2          0.091434    0.091455    0.091453      0.089000"
      ]
     },
     "execution_count": 225,
     "metadata": {},
     "output_type": "execute_result"
    }
   ],
   "source": [
    "df_metrics_StandardScaler"
   ]
  },
  {
   "cell_type": "markdown",
   "id": "78ba5cdc",
   "metadata": {},
   "source": [
    "##### качество улучшилось"
   ]
  },
  {
   "cell_type": "code",
   "execution_count": 226,
   "id": "7a53404b",
   "metadata": {},
   "outputs": [],
   "source": [
    "# новые переменные. districts = neighbourhood_group + neighbourhood -> pd.get_dummies\n",
    "df['districts'] = data['neighbourhood_group'] + '.' + data['neighbourhood']"
   ]
  },
  {
   "cell_type": "code",
   "execution_count": 227,
   "id": "cc929fa3",
   "metadata": {},
   "outputs": [],
   "source": [
    "df.drop(columns=['Bronx', 'Brooklyn', 'Manhattan', 'Queens', 'Staten Island'], inplace=True)"
   ]
  },
  {
   "cell_type": "code",
   "execution_count": 228,
   "id": "235f2002",
   "metadata": {},
   "outputs": [
    {
     "data": {
      "text/html": [
       "<div>\n",
       "<style scoped>\n",
       "    .dataframe tbody tr th:only-of-type {\n",
       "        vertical-align: middle;\n",
       "    }\n",
       "\n",
       "    .dataframe tbody tr th {\n",
       "        vertical-align: top;\n",
       "    }\n",
       "\n",
       "    .dataframe thead th {\n",
       "        text-align: right;\n",
       "    }\n",
       "</style>\n",
       "<table border=\"1\" class=\"dataframe\">\n",
       "  <thead>\n",
       "    <tr style=\"text-align: right;\">\n",
       "      <th></th>\n",
       "      <th>price</th>\n",
       "      <th>minimum_nights</th>\n",
       "      <th>number_of_reviews</th>\n",
       "      <th>reviews_per_month</th>\n",
       "      <th>calculated_host_listings_count</th>\n",
       "      <th>availability_365</th>\n",
       "      <th>Entire home/apt</th>\n",
       "      <th>Private room</th>\n",
       "      <th>Shared room</th>\n",
       "      <th>neighbourhood_freq</th>\n",
       "      <th>distance</th>\n",
       "      <th>districts</th>\n",
       "    </tr>\n",
       "  </thead>\n",
       "  <tbody>\n",
       "    <tr>\n",
       "      <th>0</th>\n",
       "      <td>149</td>\n",
       "      <td>1</td>\n",
       "      <td>9</td>\n",
       "      <td>0.21</td>\n",
       "      <td>6</td>\n",
       "      <td>365</td>\n",
       "      <td>0</td>\n",
       "      <td>1</td>\n",
       "      <td>0</td>\n",
       "      <td>0.003579</td>\n",
       "      <td>0.112134</td>\n",
       "      <td>Brooklyn.Kensington</td>\n",
       "    </tr>\n",
       "    <tr>\n",
       "      <th>1</th>\n",
       "      <td>225</td>\n",
       "      <td>1</td>\n",
       "      <td>45</td>\n",
       "      <td>0.38</td>\n",
       "      <td>2</td>\n",
       "      <td>355</td>\n",
       "      <td>1</td>\n",
       "      <td>0</td>\n",
       "      <td>0</td>\n",
       "      <td>0.031598</td>\n",
       "      <td>0.005448</td>\n",
       "      <td>Manhattan.Midtown</td>\n",
       "    </tr>\n",
       "    <tr>\n",
       "      <th>2</th>\n",
       "      <td>150</td>\n",
       "      <td>3</td>\n",
       "      <td>0</td>\n",
       "      <td>0.00</td>\n",
       "      <td>1</td>\n",
       "      <td>365</td>\n",
       "      <td>0</td>\n",
       "      <td>1</td>\n",
       "      <td>0</td>\n",
       "      <td>0.054361</td>\n",
       "      <td>0.066191</td>\n",
       "      <td>Manhattan.Harlem</td>\n",
       "    </tr>\n",
       "    <tr>\n",
       "      <th>3</th>\n",
       "      <td>89</td>\n",
       "      <td>1</td>\n",
       "      <td>270</td>\n",
       "      <td>4.64</td>\n",
       "      <td>1</td>\n",
       "      <td>194</td>\n",
       "      <td>1</td>\n",
       "      <td>0</td>\n",
       "      <td>0</td>\n",
       "      <td>0.011699</td>\n",
       "      <td>0.077997</td>\n",
       "      <td>Brooklyn.Clinton Hill</td>\n",
       "    </tr>\n",
       "    <tr>\n",
       "      <th>4</th>\n",
       "      <td>80</td>\n",
       "      <td>10</td>\n",
       "      <td>9</td>\n",
       "      <td>0.10</td>\n",
       "      <td>1</td>\n",
       "      <td>0</td>\n",
       "      <td>1</td>\n",
       "      <td>0</td>\n",
       "      <td>0</td>\n",
       "      <td>0.022845</td>\n",
       "      <td>0.057112</td>\n",
       "      <td>Manhattan.East Harlem</td>\n",
       "    </tr>\n",
       "  </tbody>\n",
       "</table>\n",
       "</div>"
      ],
      "text/plain": [
       "   price  minimum_nights  number_of_reviews  reviews_per_month  \\\n",
       "0    149               1                  9               0.21   \n",
       "1    225               1                 45               0.38   \n",
       "2    150               3                  0               0.00   \n",
       "3     89               1                270               4.64   \n",
       "4     80              10                  9               0.10   \n",
       "\n",
       "   calculated_host_listings_count  availability_365  Entire home/apt  \\\n",
       "0                               6               365                0   \n",
       "1                               2               355                1   \n",
       "2                               1               365                0   \n",
       "3                               1               194                1   \n",
       "4                               1                 0                1   \n",
       "\n",
       "   Private room  Shared room  neighbourhood_freq  distance  \\\n",
       "0             1            0            0.003579  0.112134   \n",
       "1             0            0            0.031598  0.005448   \n",
       "2             1            0            0.054361  0.066191   \n",
       "3             0            0            0.011699  0.077997   \n",
       "4             0            0            0.022845  0.057112   \n",
       "\n",
       "               districts  \n",
       "0    Brooklyn.Kensington  \n",
       "1      Manhattan.Midtown  \n",
       "2       Manhattan.Harlem  \n",
       "3  Brooklyn.Clinton Hill  \n",
       "4  Manhattan.East Harlem  "
      ]
     },
     "execution_count": 228,
     "metadata": {},
     "output_type": "execute_result"
    }
   ],
   "source": [
    "df.head()"
   ]
  },
  {
   "cell_type": "code",
   "execution_count": 229,
   "id": "c06ea017",
   "metadata": {},
   "outputs": [],
   "source": [
    "df = pd.concat([df, pd.get_dummies(df['districts'])], axis=1)"
   ]
  },
  {
   "cell_type": "code",
   "execution_count": 230,
   "id": "438162d2",
   "metadata": {},
   "outputs": [],
   "source": [
    "df.drop(columns=['districts'], inplace=True)"
   ]
  },
  {
   "cell_type": "code",
   "execution_count": 231,
   "id": "c1afd12b",
   "metadata": {},
   "outputs": [],
   "source": [
    "X = df.drop('price', axis=1)\n",
    "y = df['price']\n",
    "\n",
    "X_train, X_test, y_train, y_test = train_test_split(X, y, test_size=0.3, random_state=random_state)"
   ]
  },
  {
   "cell_type": "code",
   "execution_count": 232,
   "id": "7b53f0d3",
   "metadata": {},
   "outputs": [],
   "source": [
    "scaler_list = list(X.columns)"
   ]
  },
  {
   "cell_type": "code",
   "execution_count": 233,
   "id": "a940bfec",
   "metadata": {},
   "outputs": [
    {
     "name": "stdout",
     "output_type": "stream",
     "text": [
      "Регрессор: LinearRegression\n",
      "Регрессор: RidgeCV\n",
      "Лучшее значение параметра регуляризации: 10.00000\n",
      "Регрессор: LassoCV\n",
      "Лучшее значение параметра регуляризации: 0.28791\n",
      "Регрессор: ElasticNetCV\n",
      "Лучшее значение параметра регуляризации: 0.18856\n"
     ]
    },
    {
     "data": {
      "text/html": [
       "<div>\n",
       "<style scoped>\n",
       "    .dataframe tbody tr th:only-of-type {\n",
       "        vertical-align: middle;\n",
       "    }\n",
       "\n",
       "    .dataframe tbody tr th {\n",
       "        vertical-align: top;\n",
       "    }\n",
       "\n",
       "    .dataframe thead th {\n",
       "        text-align: right;\n",
       "    }\n",
       "</style>\n",
       "<table border=\"1\" class=\"dataframe\">\n",
       "  <thead>\n",
       "    <tr style=\"text-align: right;\">\n",
       "      <th></th>\n",
       "      <th>error_name</th>\n",
       "      <th>LinearRegression</th>\n",
       "      <th>RidgeCV</th>\n",
       "      <th>LassoCV</th>\n",
       "      <th>ElasticNetCV</th>\n",
       "    </tr>\n",
       "  </thead>\n",
       "  <tbody>\n",
       "    <tr>\n",
       "      <th>0</th>\n",
       "      <td>MAE</td>\n",
       "      <td>3.473094e+11</td>\n",
       "      <td>71.226183</td>\n",
       "      <td>70.660647</td>\n",
       "      <td>69.889609</td>\n",
       "    </tr>\n",
       "    <tr>\n",
       "      <th>1</th>\n",
       "      <td>RMSE</td>\n",
       "      <td>2.428616e+13</td>\n",
       "      <td>226.862938</td>\n",
       "      <td>226.767785</td>\n",
       "      <td>226.637858</td>\n",
       "    </tr>\n",
       "    <tr>\n",
       "      <th>2</th>\n",
       "      <td>R2</td>\n",
       "      <td>-1.032088e+22</td>\n",
       "      <td>0.099412</td>\n",
       "      <td>0.100167</td>\n",
       "      <td>0.101198</td>\n",
       "    </tr>\n",
       "  </tbody>\n",
       "</table>\n",
       "</div>"
      ],
      "text/plain": [
       "  error_name  LinearRegression     RidgeCV     LassoCV  ElasticNetCV\n",
       "0        MAE      3.473094e+11   71.226183   70.660647     69.889609\n",
       "1       RMSE      2.428616e+13  226.862938  226.767785    226.637858\n",
       "2         R2     -1.032088e+22    0.099412    0.100167      0.101198"
      ]
     },
     "execution_count": 233,
     "metadata": {},
     "output_type": "execute_result"
    }
   ],
   "source": [
    "df_metrics = regressions_with_scaler(df, StandardScaler(), scaler_list)\n",
    "df_metrics_best = df_metrics.copy()\n",
    "df_metrics_best"
   ]
  },
  {
   "cell_type": "code",
   "execution_count": 234,
   "id": "26d6bc07",
   "metadata": {},
   "outputs": [
    {
     "data": {
      "text/html": [
       "<div>\n",
       "<style scoped>\n",
       "    .dataframe tbody tr th:only-of-type {\n",
       "        vertical-align: middle;\n",
       "    }\n",
       "\n",
       "    .dataframe tbody tr th {\n",
       "        vertical-align: top;\n",
       "    }\n",
       "\n",
       "    .dataframe thead th {\n",
       "        text-align: right;\n",
       "    }\n",
       "</style>\n",
       "<table border=\"1\" class=\"dataframe\">\n",
       "  <thead>\n",
       "    <tr style=\"text-align: right;\">\n",
       "      <th></th>\n",
       "      <th>error_name</th>\n",
       "      <th>LinearRegression</th>\n",
       "      <th>RidgeCV</th>\n",
       "      <th>LassoCV</th>\n",
       "      <th>ElasticNetCV</th>\n",
       "    </tr>\n",
       "  </thead>\n",
       "  <tbody>\n",
       "    <tr>\n",
       "      <th>0</th>\n",
       "      <td>MAE</td>\n",
       "      <td>73.186321</td>\n",
       "      <td>73.159855</td>\n",
       "      <td>73.064345</td>\n",
       "      <td>86.089001</td>\n",
       "    </tr>\n",
       "    <tr>\n",
       "      <th>1</th>\n",
       "      <td>RMSE</td>\n",
       "      <td>227.860225</td>\n",
       "      <td>227.864648</td>\n",
       "      <td>228.711975</td>\n",
       "      <td>235.576292</td>\n",
       "    </tr>\n",
       "    <tr>\n",
       "      <th>2</th>\n",
       "      <td>R2</td>\n",
       "      <td>0.091477</td>\n",
       "      <td>0.091441</td>\n",
       "      <td>0.084672</td>\n",
       "      <td>0.028904</td>\n",
       "    </tr>\n",
       "  </tbody>\n",
       "</table>\n",
       "</div>"
      ],
      "text/plain": [
       "  error_name  LinearRegression     RidgeCV     LassoCV  ElasticNetCV\n",
       "0        MAE         73.186321   73.159855   73.064345     86.089001\n",
       "1       RMSE        227.860225  227.864648  228.711975    235.576292\n",
       "2         R2          0.091477    0.091441    0.084672      0.028904"
      ]
     },
     "execution_count": 234,
     "metadata": {},
     "output_type": "execute_result"
    }
   ],
   "source": [
    "df_metrics_base"
   ]
  },
  {
   "cell_type": "code",
   "execution_count": 235,
   "id": "d955b768",
   "metadata": {},
   "outputs": [
    {
     "data": {
      "text/html": [
       "<div>\n",
       "<style scoped>\n",
       "    .dataframe tbody tr th:only-of-type {\n",
       "        vertical-align: middle;\n",
       "    }\n",
       "\n",
       "    .dataframe tbody tr th {\n",
       "        vertical-align: top;\n",
       "    }\n",
       "\n",
       "    .dataframe thead th {\n",
       "        text-align: right;\n",
       "    }\n",
       "</style>\n",
       "<table border=\"1\" class=\"dataframe\">\n",
       "  <thead>\n",
       "    <tr style=\"text-align: right;\">\n",
       "      <th></th>\n",
       "      <th>error_name</th>\n",
       "      <th>LinearRegression</th>\n",
       "      <th>RidgeCV</th>\n",
       "      <th>LassoCV</th>\n",
       "      <th>ElasticNetCV</th>\n",
       "    </tr>\n",
       "  </thead>\n",
       "  <tbody>\n",
       "    <tr>\n",
       "      <th>0</th>\n",
       "      <td>MAE</td>\n",
       "      <td>73.236457</td>\n",
       "      <td>73.164194</td>\n",
       "      <td>73.142410</td>\n",
       "      <td>72.810911</td>\n",
       "    </tr>\n",
       "    <tr>\n",
       "      <th>1</th>\n",
       "      <td>RMSE</td>\n",
       "      <td>227.865581</td>\n",
       "      <td>227.862977</td>\n",
       "      <td>227.863207</td>\n",
       "      <td>228.170576</td>\n",
       "    </tr>\n",
       "    <tr>\n",
       "      <th>2</th>\n",
       "      <td>R2</td>\n",
       "      <td>0.091434</td>\n",
       "      <td>0.091455</td>\n",
       "      <td>0.091453</td>\n",
       "      <td>0.089000</td>\n",
       "    </tr>\n",
       "  </tbody>\n",
       "</table>\n",
       "</div>"
      ],
      "text/plain": [
       "  error_name  LinearRegression     RidgeCV     LassoCV  ElasticNetCV\n",
       "0        MAE         73.236457   73.164194   73.142410     72.810911\n",
       "1       RMSE        227.865581  227.862977  227.863207    228.170576\n",
       "2         R2          0.091434    0.091455    0.091453      0.089000"
      ]
     },
     "execution_count": 235,
     "metadata": {},
     "output_type": "execute_result"
    }
   ],
   "source": [
    "df_metrics_StandardScaler"
   ]
  },
  {
   "cell_type": "markdown",
   "id": "8587c4ed",
   "metadata": {},
   "source": [
    "# Вывод: лучшие метрики получились для модели df_metrics_best : ElasticNetCV"
   ]
  }
 ],
 "metadata": {
  "kernelspec": {
   "display_name": "Python 3 (ipykernel)",
   "language": "python",
   "name": "python3"
  },
  "language_info": {
   "codemirror_mode": {
    "name": "ipython",
    "version": 3
   },
   "file_extension": ".py",
   "mimetype": "text/x-python",
   "name": "python",
   "nbconvert_exporter": "python",
   "pygments_lexer": "ipython3",
   "version": "3.9.12"
  }
 },
 "nbformat": 4,
 "nbformat_minor": 5
}
